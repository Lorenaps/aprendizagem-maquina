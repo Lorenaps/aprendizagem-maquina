{
 "cells": [
  {
   "cell_type": "markdown",
   "metadata": {},
   "source": [
    "# Artigo sobre modelagem matemática\n",
    "\n",
    "Em [K-Nearest-Neighbor Consistency in Data Clustering: Incorporating Local Information into Global Optimization](https://dl.acm.org/doi/pdf/10.1145/967900.968021) os autores buscam explorar o conceito do KNN no contexto de clusterização de dados. Eles propoẽm o conceito de \"Consistência do cluster com o vizinho mais próximo\" onde \"para qualquer objeto em um cluster, os vizinhos mais próximos devem estar no cluster\". E abordam 3 questões:\n",
    "\n",
    "- (Q1) Os clusters que são produzidos dentro de algoritmos de cluster padrão, como K-means, apresenta consistência do kNN?\n",
    "- (Q2) A consistência do kNN poderia ser aprimorada em um algoritmo de cluster?\n",
    "- (Q3) A consistência aprimorada de kNN melhoraria a precisão do cluster?\n",
    "\n",
    "Para seguir com a investigação das peguntas acima, os autores fazem uma série de definições e propõem uma forma de melhorar a consistência do kNN em um algoritmo de cluster. Por fim, aplicam o algoritmo e apresentam os resultados."
   ]
  },
  {
   "cell_type": "markdown",
   "metadata": {},
   "source": [
    "## K-NN consistency in clustering\n",
    "\n",
    "\n",
    "**Definição 1:** Ponto de dados consistente com o KNN\n",
    "Dado um ponto x e um cluster Cp, que é um subconjunto do total de X\n",
    "O ponto x é dito consistente com o KNN se todos os vizinhos mais próximos de x estiverem dento do cluster Cp."
   ]
  },
  {
   "cell_type": "markdown",
   "metadata": {},
   "source": [
    "Além disso o cluster Cp é dito consistente com o KNN se todos os seus membros.\n",
    "\n",
    "Como o subconjunto x (k + 1) -NN contém seu subconjunto kNN, a consistência (k + 1) -NN implica na consistência kNN."
   ]
  },
  {
   "cell_type": "markdown",
   "metadata": {},
   "source": [
    "**Definição 2:** MaximalNN-consistency | Máxima Consistência com NN \n",
    "Dado um ponto x e um cluster Cp de tamanho np.\n",
    "x é dito maxima consistencia com NN se cada ponto x no cluster tem (np-1)NN no mesmo cluster.\n",
    "\n",
    "Além disso, Cp é dito de máxima consistencia se todos os membros com consistencia maxima."
   ]
  },
  {
   "cell_type": "markdown",
   "metadata": {},
   "source": [
    "**Theorema 2:** Para ${x_i}$ ter maxima consistencia NN, nenhum ponto ${x_j}$ fora de ${C_p}$ é mais próximo de ${x_i}$ do que qualquer outro ponto ${x_k}$ dentro do cluster ${C_p}$.\n",
    "\n",
    "$$\\underset{{x_j}\\notin{C_p}}\\min{d(x_i, x_j)} > \\underset{{x_k}\\in{C_p}}\\max{d(x_i, x_k)}\\$$"
   ]
  },
  {
   "cell_type": "markdown",
   "metadata": {},
   "source": [
    "Além disso, cluster Cp is maximal NN-consistent se seus membros safistazem:\n",
    "\n",
    "$$\\underset{{x_i}\\in{C_p},{x_j}\\notin{C_p}}\\min{d(x_i, x_j)} > \\underset{{x_i}\\in{C_p},{x_k}\\in{C_p}}\\max{d(x_i, x_k)}\\$$"
   ]
  }
 ],
 "metadata": {
  "kernelspec": {
   "display_name": "Python 3",
   "language": "python",
   "name": "python3"
  },
  "language_info": {
   "codemirror_mode": {
    "name": "ipython",
    "version": 3
   },
   "file_extension": ".py",
   "mimetype": "text/x-python",
   "name": "python",
   "nbconvert_exporter": "python",
   "pygments_lexer": "ipython3",
   "version": "3.6.10"
  }
 },
 "nbformat": 4,
 "nbformat_minor": 4
}
