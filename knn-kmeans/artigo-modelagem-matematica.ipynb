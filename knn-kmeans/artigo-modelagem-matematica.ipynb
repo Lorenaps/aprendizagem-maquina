{
 "cells": [
  {
   "cell_type": "markdown",
   "metadata": {},
   "source": [
    "# Artigo sobre modelagem matemática\n",
    "\n",
    "Em [K-Nearest-Neighbor Consistency in Data Clustering: Incorporating Local Information into Global Optimization](https://dl.acm.org/doi/pdf/10.1145/967900.968021) os autores buscam explorar o conceito do KNN no contexto de clusterização de dados e propoẽm o conceito de: \n",
    "> **Consistência do cluster com o vizinho mais próximo**: onde \"para qualquer objeto de dados em um cluster, os vizinhos mais próximos devem estar no mesmo cluster\".\n",
    "\n",
    "E a partir disso investigam 3 questões:\n",
    "\n",
    "- (Q1) Os clusters que são produzidos dentro de algoritmos de cluster padrão, como K-means, apresenta consistência do kNN?\n",
    "- (Q2) A consistência do kNN poderia ser aprimorada em um algoritmo de cluster?\n",
    "- (Q3) A consistência aprimorada de kNN melhoraria a precisão do cluster?\n",
    "\n",
    "Para seguir com a investigação das peguntas acima, os autores fazem uma série de definições e propõem uma forma de melhorar a consistência do kNN em um algoritmo de cluster. Por fim, aplicam o algoritmo e apresentam os resultados."
   ]
  },
  {
   "cell_type": "markdown",
   "metadata": {},
   "source": [
    "## Definição formal do problema de Clusterização\n",
    "\n",
    "HRUSCHKA & EBECKEN (2001) apresentam uma definição formal do problema de Clusterização:\n",
    "\n",
    "Considerando um conjunto de ${n}$ objetos ${X = {X_1, X_2,...,X_n}}$ onde cada ${X_i}\\in{\\mathbb{R}^p}$ é um vetor de ${p}$ medidas reais que dimensionam as características do objeto, estes devem ser clusterizados em ${k}$ clusters disjuntos \n",
    "${C = {C_1, C_2,...,C_k}}$, de forma que tenhamos as seguintes condições respeitadas:\n",
    "\n",
    "(1) ${{C_1}\\cup{C_2}\\cup{...}\\cup{C_k} = X}$\n",
    "\n",
    "(2) ${C_i}\\neq{\\varnothing},\\forall{i},{1}\\leq{i}\\leq{k}$\n",
    "\n",
    "(3) ${C_i}\\cap{C_j} = \\varnothing, \\forall{i}\\neq{j},{1}\\leq{i}\\leq{k},{1}\\leq{j}\\leq{k}$\n",
    "\n",
    "\n",
    "---\n",
    "\n",
    "\n"
   ]
  },
  {
   "cell_type": "markdown",
   "metadata": {},
   "source": [
    "## Modelagem do artigo\n",
    "*KNN Consistency in clustering*\n",
    "\n",
    "**Teorema 1:** (Cover and Hart,1967) O erro de classificação na classificação 1NN é, no máximo, duas vezes o erro de Bayes da atribuição ideal para qualquer distribuição de dados no grande limite de amostra.\n",
    "\n",
    "**Definição 1:** Ponto de dados com consistência KNN\n",
    "\n",
    "Dado um ponto $x$ e um cluster $C_p$, que é um subconjunto do conjunto $X$.\n",
    "O ponto $x$ é dito consistente com o KNN se todos os vizinhos mais próximos de $x$ estiverem dento do cluster $C_p$.\n",
    "\n",
    "Além disso, o cluster $C_p$ é dito consistente com o KNN se todos os seus membros seguirem a mesma condição.\n",
    "\n",
    "---"
   ]
  },
  {
   "cell_type": "markdown",
   "metadata": {},
   "source": [
    "**Definição 2:** Máxima Consistência com NN(Vizinho mais próximo)\n",
    "\n",
    "Dado um ponto $x$ e um cluster $C_p$ de tamanho $n_p$, $x$ é dito de máxima consistencia com NN se cada ponto $x$ no cluster tem $(n_p - 1)$NN também no mesmo cluster.\n",
    "\n",
    "Além disso, $C_p$ é dito de máxima consistencia se todos os membros seguirem a mesma condição.\n",
    "\n",
    "---"
   ]
  },
  {
   "cell_type": "markdown",
   "metadata": {},
   "source": [
    "**Theorema 2:** Para ${x_i}$ ter maxima consistencia NN, nenhum ponto ${x_j}$ fora de ${C_p}$ é mais próximo de ${x_i}$ do que qualquer outro ponto ${x_k}$ dentro do cluster ${C_p}$.\n",
    "\n",
    "(1) $\\underset{{x_j}\\notin{C_p}}\\min{d(x_i, x_j)} > \\underset{{x_k}\\in{C_p}}\\max{d(x_i, x_k)}\\$"
   ]
  },
  {
   "cell_type": "markdown",
   "metadata": {},
   "source": [
    "Além disso, cluster Cp is maximal NN-consistent se seus membros safistazem:\n",
    "\n",
    "(2) $\\underset{{x_i}\\in{C_p},{x_j}\\notin{C_p}}\\min{d(x_i, x_j)} > \\underset{{x_i}\\in{C_p},{x_k}\\in{C_p}}\\max{d(x_i, x_k)}\\$"
   ]
  },
  {
   "cell_type": "markdown",
   "metadata": {},
   "source": [
    "**Definição 3:** Consistência KNN fracionária\n",
    "\n",
    "Dado um cluster $C_p$ com $n_p$ elementos, se existir $n_k$ elementos que tenham pelo menos consistência KNN (Definição 1), então a consistência fracionária é definida para ser $\\frac{n_k}{n_p}$.\n",
    "\n",
    "---"
   ]
  },
  {
   "cell_type": "markdown",
   "metadata": {},
   "source": [
    "*K-Mutual Nearest Neighbor(kMN)consistency*\n",
    "\n",
    "**Definição 4:** Vizinho mais próximo mútuo | Mutual Nearest Neighbor (MNN)\n",
    "\n",
    "Se o vizinho mais próximo de $x$ é $y$ e o vizinho mais próximo de $y$ é $x$, então dizemos que o vizinho mais próximo mútuo de $x$ é $y$ e vice-versa.\n",
    "A adoção de MNNs define um bairro mais restrito do que os kNNs usuais.\n",
    "\n",
    "**Teorema 3:** Se $x$ é kNN consistente no cluster $C_p$, $x$ deve ser kMN consistente no cluster $C_p$.\n",
    "Se cluster $C_p$ tem máxima consistência, cluster $C_p$ tem também máxima MN consistência.\n",
    "\n",
    "Além disso se x é $(k+1)$MN consistente em cluster $C_p$, $x$ deve ser kMN consistente em cluster $C_p$."
   ]
  },
  {
   "cell_type": "markdown",
   "metadata": {},
   "source": [
    "## Aplicando a consistência kNN e kMN \n",
    "\n",
    "**3 Questões:** \n",
    "\n",
    "**Teorema 4:** Para consistência kNN, todos os objetos envolvidos em uma operação em cadeia devem ser um componente conectado em um gráfico kNN. \n",
    "\n",
    "~ Descrição da Prova"
   ]
  },
  {
   "cell_type": "markdown",
   "metadata": {},
   "source": [
    "### Algortimo\n",
    "\n",
    "**Enforce:**\n",
    "Passe por cada conjunto vizinho fechado. \n",
    "Para cada conjunto de vizinhos fechados, reúna todos os objetos no conjunto em um cluster Cp. \n",
    "Cp é determinado pelo voto da maioria, como no exemplo em\n",
    "\n"
   ]
  },
  {
   "cell_type": "markdown",
   "metadata": {},
   "source": [
    "### Preservando a consistência do K-means\n",
    "\n"
   ]
  },
  {
   "cell_type": "code",
   "execution_count": null,
   "metadata": {},
   "outputs": [],
   "source": []
  }
 ],
 "metadata": {
  "kernelspec": {
   "display_name": "Python 3",
   "language": "python",
   "name": "python3"
  },
  "language_info": {
   "codemirror_mode": {
    "name": "ipython",
    "version": 3
   },
   "file_extension": ".py",
   "mimetype": "text/x-python",
   "name": "python",
   "nbconvert_exporter": "python",
   "pygments_lexer": "ipython3",
   "version": "3.6.10"
  }
 },
 "nbformat": 4,
 "nbformat_minor": 4
}
