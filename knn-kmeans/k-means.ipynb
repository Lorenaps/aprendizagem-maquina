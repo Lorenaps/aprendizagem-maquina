{
 "cells": [
  {
   "cell_type": "markdown",
   "metadata": {},
   "source": [
    "# K-Means\n",
    "\n",
    "Famoso algoritmo de clusterização.\n",
    "Usado para aprendizado não supervisionado.\n",
    "\n",
    "|Tipo de variável|Aprendizagem supervisionada|Aprendizagem não supervisionada|\n",
    "|--------------|--------|-----------|\n",
    "|**Discreta**|Classificação ou categorização|Clusterização|\n",
    "|**Contínua**|Regressão|Redução de dimensionalidade|\n",
    "\n",
    "\n",
    "O K-Means é um algortimo iterativo que atribui um elemento a um cluster considerando o centróide do qual ele tem a menor distância. Os centróides são pontos localizados dentro do conjunto que se deseja clusterizar e são aleatoriamente no início da execução, como um ponto de partida. A cada iteração calcula-se um novo centróide a partir da média de todos os pontos atribuídos ao respectivo clustes, visando estabelecer um centróide mais representativo."
   ]
  },
  {
   "cell_type": "markdown",
   "metadata": {},
   "source": [
    "## Algoritmo\n",
    "\n",
    "Dado os elementos ${x_1,x_2,x_3,...,x_n} = {X}$\n",
    "\n",
    "1. Definir ${k}$ (quantidade de clusters desejada)\n",
    "2. Definir os centróides ${c_1},{c_2},...,{c_k}$ de forma aleatória\n",
    "3. Repetir até atingir convergência\n",
    " 1. Para cada $x_i$:\n",
    "    - Encontrar o centróide mais próximo $c_j$ *(arg $\\min{d(x_i,c_j})$ onde d é a distância euclidiana)*\n",
    "    - Atribuir o ponto $x_i$ ao cluster $j$\n",
    " 2. Para cada cluster $j = 1,...,k$:\n",
    "    - novo centróide é igual a média de todos os pontos $x_i$ atribuídos ao cluster na etapa anterior.\n",
    " 3. Parar quando não houver mudanças nos clusters\n",
    "\n",
    "\n",
    "*(Adaptado de [Siraj Raval - K Means Clustering](https://github.com/llSourcell/k_means_clustering/blob/master/kmeans.py.ipynb))*"
   ]
  },
  {
   "cell_type": "markdown",
   "metadata": {},
   "source": [
    "### Distância Euclidiana\n",
    "\n",
    "Dados os pontos ${P = (p_1, p_2,...,p_n)}$ e $Q = (q_1, q_2,...,q_n)$ a distância euclidiana é dada por:\n",
    "\n",
    "$\\sqrt{(p_1 - q_1)^2 + (p_2 - q_2)^2 + ... + (p_n - q_n)^2} = {\\sqrt{\\sum_{i=0}^{n}{(p_i - q_i)^2}}}$"
   ]
  },
  {
   "cell_type": "markdown",
   "metadata": {},
   "source": [
    "### Referências e links úteis:\n",
    "\n",
    "- [Scikit-learn: Machine Learning in Python - K-Means](https://scikit-learn.org/stable/modules/clustering.html#k-means)\n",
    "- [Siraj Raval - K-Means Clustering - The Math of Intelligence](https://www.youtube.com/watch?v=9991JlKnFmk)"
   ]
  }
 ],
 "metadata": {
  "kernelspec": {
   "display_name": "Python 3",
   "language": "python",
   "name": "python3"
  },
  "language_info": {
   "codemirror_mode": {
    "name": "ipython",
    "version": 3
   },
   "file_extension": ".py",
   "mimetype": "text/x-python",
   "name": "python",
   "nbconvert_exporter": "python",
   "pygments_lexer": "ipython3",
   "version": "3.6.10"
  }
 },
 "nbformat": 4,
 "nbformat_minor": 4
}
