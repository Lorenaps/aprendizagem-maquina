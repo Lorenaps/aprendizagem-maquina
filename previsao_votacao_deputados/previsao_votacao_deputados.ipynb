{
 "cells": [
  {
   "cell_type": "markdown",
   "metadata": {},
   "source": [
    "# Previsão de Votação de Deputados\n",
    "Modelos preditivos de regressão utilizando a biblioteca scikit learn para a predição \n",
    "dos votos de deputados federais considerando dados das eleições de 2006 e 2010\n",
    "\n",
    "Tutorial utilizado para o pré processamento de dados: https://www.kaggle.com/apapiu/regularized-linear-models"
   ]
  },
  {
   "cell_type": "code",
   "execution_count": 1,
   "metadata": {
    "collapsed": true
   },
   "outputs": [],
   "source": [
    "%matplotlib inline\n",
    "\n",
    "import pandas as pd\n",
    "import matplotlib\n",
    "import matplotlib.pyplot as plt\n",
    "import numpy as np"
   ]
  },
  {
   "cell_type": "markdown",
   "metadata": {},
   "source": [
    "## Importando dados do arquivo e visualizando as 3 primeiras linhas"
   ]
  },
  {
   "cell_type": "code",
   "execution_count": 2,
   "metadata": {
    "scrolled": true
   },
   "outputs": [
    {
     "data": {
      "text/html": [
       "<div>\n",
       "<style>\n",
       "    .dataframe thead tr:only-child th {\n",
       "        text-align: right;\n",
       "    }\n",
       "\n",
       "    .dataframe thead th {\n",
       "        text-align: left;\n",
       "    }\n",
       "\n",
       "    .dataframe tbody tr th {\n",
       "        vertical-align: top;\n",
       "    }\n",
       "</style>\n",
       "<table border=\"1\" class=\"dataframe\">\n",
       "  <thead>\n",
       "    <tr style=\"text-align: right;\">\n",
       "      <th></th>\n",
       "      <th>ano</th>\n",
       "      <th>sequencial_candidato</th>\n",
       "      <th>nome</th>\n",
       "      <th>uf</th>\n",
       "      <th>partido</th>\n",
       "      <th>quantidade_doacoes</th>\n",
       "      <th>quantidade_doadores</th>\n",
       "      <th>total_receita</th>\n",
       "      <th>media_receita</th>\n",
       "      <th>recursos_de_outros_candidatos/comites</th>\n",
       "      <th>...</th>\n",
       "      <th>quantidade_despesas</th>\n",
       "      <th>quantidade_fornecedores</th>\n",
       "      <th>total_despesa</th>\n",
       "      <th>media_despesa</th>\n",
       "      <th>cargo</th>\n",
       "      <th>sexo</th>\n",
       "      <th>grau</th>\n",
       "      <th>estado_civil</th>\n",
       "      <th>ocupacao</th>\n",
       "      <th>votos</th>\n",
       "    </tr>\n",
       "  </thead>\n",
       "  <tbody>\n",
       "    <tr>\n",
       "      <th>0</th>\n",
       "      <td>2006</td>\n",
       "      <td>10001</td>\n",
       "      <td>JOSÉ LUIZ NOGUEIRA DE SOUSA</td>\n",
       "      <td>AP</td>\n",
       "      <td>PT</td>\n",
       "      <td>6</td>\n",
       "      <td>6</td>\n",
       "      <td>16600.0</td>\n",
       "      <td>2766.666667</td>\n",
       "      <td>NaN</td>\n",
       "      <td>...</td>\n",
       "      <td>14</td>\n",
       "      <td>14</td>\n",
       "      <td>16583.60</td>\n",
       "      <td>1184.542857</td>\n",
       "      <td>DEPUTADO FEDERAL</td>\n",
       "      <td>MASCULINO</td>\n",
       "      <td>ENSINO MÉDIO COMPLETO</td>\n",
       "      <td>CASADO(A)</td>\n",
       "      <td>VEREADOR</td>\n",
       "      <td>8579</td>\n",
       "    </tr>\n",
       "    <tr>\n",
       "      <th>1</th>\n",
       "      <td>2006</td>\n",
       "      <td>10002</td>\n",
       "      <td>LOIVA DE OLIVEIRA</td>\n",
       "      <td>RO</td>\n",
       "      <td>PT</td>\n",
       "      <td>13</td>\n",
       "      <td>13</td>\n",
       "      <td>22826.0</td>\n",
       "      <td>1755.846154</td>\n",
       "      <td>6625.0</td>\n",
       "      <td>...</td>\n",
       "      <td>24</td>\n",
       "      <td>23</td>\n",
       "      <td>20325.99</td>\n",
       "      <td>883.738696</td>\n",
       "      <td>DEPUTADO FEDERAL</td>\n",
       "      <td>FEMININO</td>\n",
       "      <td>SUPERIOR COMPLETO</td>\n",
       "      <td>SOLTEIRO(A)</td>\n",
       "      <td>SERVIDOR PÚBLICO ESTADUAL</td>\n",
       "      <td>2757</td>\n",
       "    </tr>\n",
       "    <tr>\n",
       "      <th>2</th>\n",
       "      <td>2006</td>\n",
       "      <td>10002</td>\n",
       "      <td>MARIA DALVA DE SOUZA FIGUEIREDO</td>\n",
       "      <td>AP</td>\n",
       "      <td>PT</td>\n",
       "      <td>17</td>\n",
       "      <td>16</td>\n",
       "      <td>148120.8</td>\n",
       "      <td>9257.550000</td>\n",
       "      <td>2250.0</td>\n",
       "      <td>...</td>\n",
       "      <td>123</td>\n",
       "      <td>108</td>\n",
       "      <td>146011.70</td>\n",
       "      <td>1351.960185</td>\n",
       "      <td>DEPUTADO FEDERAL</td>\n",
       "      <td>FEMININO</td>\n",
       "      <td>SUPERIOR COMPLETO</td>\n",
       "      <td>VIÚVO(A)</td>\n",
       "      <td>PEDAGOGO</td>\n",
       "      <td>17428</td>\n",
       "    </tr>\n",
       "  </tbody>\n",
       "</table>\n",
       "<p>3 rows × 23 columns</p>\n",
       "</div>"
      ],
      "text/plain": [
       "    ano  sequencial_candidato                             nome  uf partido  \\\n",
       "0  2006                 10001      JOSÉ LUIZ NOGUEIRA DE SOUSA  AP      PT   \n",
       "1  2006                 10002                LOIVA DE OLIVEIRA  RO      PT   \n",
       "2  2006                 10002  MARIA DALVA DE SOUZA FIGUEIREDO  AP      PT   \n",
       "\n",
       "   quantidade_doacoes  quantidade_doadores  total_receita  media_receita  \\\n",
       "0                   6                    6        16600.0    2766.666667   \n",
       "1                  13                   13        22826.0    1755.846154   \n",
       "2                  17                   16       148120.8    9257.550000   \n",
       "\n",
       "   recursos_de_outros_candidatos/comites  ...    quantidade_despesas  \\\n",
       "0                                    NaN  ...                     14   \n",
       "1                                 6625.0  ...                     24   \n",
       "2                                 2250.0  ...                    123   \n",
       "\n",
       "   quantidade_fornecedores  total_despesa  media_despesa             cargo  \\\n",
       "0                       14       16583.60    1184.542857  DEPUTADO FEDERAL   \n",
       "1                       23       20325.99     883.738696  DEPUTADO FEDERAL   \n",
       "2                      108      146011.70    1351.960185  DEPUTADO FEDERAL   \n",
       "\n",
       "        sexo                   grau estado_civil                   ocupacao  \\\n",
       "0  MASCULINO  ENSINO MÉDIO COMPLETO    CASADO(A)                   VEREADOR   \n",
       "1   FEMININO      SUPERIOR COMPLETO  SOLTEIRO(A)  SERVIDOR PÚBLICO ESTADUAL   \n",
       "2   FEMININO      SUPERIOR COMPLETO     VIÚVO(A)                   PEDAGOGO   \n",
       "\n",
       "   votos  \n",
       "0   8579  \n",
       "1   2757  \n",
       "2  17428  \n",
       "\n",
       "[3 rows x 23 columns]"
      ]
     },
     "execution_count": 2,
     "metadata": {},
     "output_type": "execute_result"
    }
   ],
   "source": [
    "eleicoes = pd.read_csv('/home/lsp/dados/am/eleicoes_2006_a_2010.csv')\n",
    "eleicoes[:3]"
   ]
  },
  {
   "cell_type": "markdown",
   "metadata": {},
   "source": [
    "## A partir do livro Análise Multivariada de Dados (Hair, Black, Babin, Anderson e Tathan) 6ª edição, existem 6 etapas para a construção de modelos multivariados:\n",
    "- 1 Definição do problema\n",
    "- 2 Definição do plano de análise\n",
    "- 3 Avaliação das suposições\n",
    "- 4 Estimação do modelo\n",
    "- 5 Interpretação da variáveis\n",
    "- 6 Validação\n",
    "\n",
    "O objetivo de trazer essas etapas é pensar em como elas são abordados nesse caso prático de regressão.\n",
    "\n",
    "**Até agora é possível identificar as estpas 1 e 2:** \n",
    "- 1 Definição do problema: Predição da quantidade de votos de um candidato a deputado com base em algumas informações da campanha.\n",
    "- 2 Definição do plano de análise:\n",
    "    - Análise dos dados\n",
    "    - Correções e transformações necessárias\n",
    "    - Identificar quais atributos são mais relevantes?\n",
    "    - Descrever suposições a partir da etapa anterior?"
   ]
  },
  {
   "cell_type": "markdown",
   "metadata": {},
   "source": [
    "## Observando os dados"
   ]
  },
  {
   "cell_type": "code",
   "execution_count": 3,
   "metadata": {},
   "outputs": [
    {
     "data": {
      "text/html": [
       "<div>\n",
       "<style>\n",
       "    .dataframe thead tr:only-child th {\n",
       "        text-align: right;\n",
       "    }\n",
       "\n",
       "    .dataframe thead th {\n",
       "        text-align: left;\n",
       "    }\n",
       "\n",
       "    .dataframe tbody tr th {\n",
       "        vertical-align: top;\n",
       "    }\n",
       "</style>\n",
       "<table border=\"1\" class=\"dataframe\">\n",
       "  <thead>\n",
       "    <tr style=\"text-align: right;\">\n",
       "      <th></th>\n",
       "      <th>count</th>\n",
       "      <th>mean</th>\n",
       "      <th>std</th>\n",
       "      <th>min</th>\n",
       "      <th>25%</th>\n",
       "      <th>50%</th>\n",
       "      <th>75%</th>\n",
       "      <th>max</th>\n",
       "    </tr>\n",
       "  </thead>\n",
       "  <tbody>\n",
       "    <tr>\n",
       "      <th>ano</th>\n",
       "      <td>7330.0</td>\n",
       "      <td>2.008151e+03</td>\n",
       "      <td>1.994416e+00</td>\n",
       "      <td>2006.00</td>\n",
       "      <td>2006.000000</td>\n",
       "      <td>2.010000e+03</td>\n",
       "      <td>2.010000e+03</td>\n",
       "      <td>2.010000e+03</td>\n",
       "    </tr>\n",
       "    <tr>\n",
       "      <th>sequencial_candidato</th>\n",
       "      <td>7330.0</td>\n",
       "      <td>9.179127e+10</td>\n",
       "      <td>9.924629e+10</td>\n",
       "      <td>10001.00</td>\n",
       "      <td>10565.000000</td>\n",
       "      <td>5.000000e+10</td>\n",
       "      <td>1.900000e+11</td>\n",
       "      <td>2.700000e+11</td>\n",
       "    </tr>\n",
       "    <tr>\n",
       "      <th>quantidade_doacoes</th>\n",
       "      <td>7330.0</td>\n",
       "      <td>2.831010e+01</td>\n",
       "      <td>1.186551e+02</td>\n",
       "      <td>1.00</td>\n",
       "      <td>4.000000</td>\n",
       "      <td>9.000000e+00</td>\n",
       "      <td>2.400000e+01</td>\n",
       "      <td>6.997000e+03</td>\n",
       "    </tr>\n",
       "    <tr>\n",
       "      <th>quantidade_doadores</th>\n",
       "      <td>7330.0</td>\n",
       "      <td>2.581746e+01</td>\n",
       "      <td>1.036594e+02</td>\n",
       "      <td>1.00</td>\n",
       "      <td>4.000000</td>\n",
       "      <td>8.000000e+00</td>\n",
       "      <td>2.200000e+01</td>\n",
       "      <td>5.800000e+03</td>\n",
       "    </tr>\n",
       "    <tr>\n",
       "      <th>total_receita</th>\n",
       "      <td>7169.0</td>\n",
       "      <td>1.544899e+05</td>\n",
       "      <td>3.953880e+05</td>\n",
       "      <td>0.00</td>\n",
       "      <td>2700.000000</td>\n",
       "      <td>1.209578e+04</td>\n",
       "      <td>8.929956e+04</td>\n",
       "      <td>4.539727e+06</td>\n",
       "    </tr>\n",
       "    <tr>\n",
       "      <th>media_receita</th>\n",
       "      <td>7169.0</td>\n",
       "      <td>5.485598e+03</td>\n",
       "      <td>1.411653e+04</td>\n",
       "      <td>0.00</td>\n",
       "      <td>622.857143</td>\n",
       "      <td>1.540543e+03</td>\n",
       "      <td>4.662500e+03</td>\n",
       "      <td>5.001800e+05</td>\n",
       "    </tr>\n",
       "    <tr>\n",
       "      <th>recursos_de_outros_candidatos/comites</th>\n",
       "      <td>4940.0</td>\n",
       "      <td>3.002116e+04</td>\n",
       "      <td>1.280932e+05</td>\n",
       "      <td>2.41</td>\n",
       "      <td>1180.000000</td>\n",
       "      <td>3.522570e+03</td>\n",
       "      <td>1.327550e+04</td>\n",
       "      <td>3.664205e+06</td>\n",
       "    </tr>\n",
       "    <tr>\n",
       "      <th>recursos_de_pessoas_fisicas</th>\n",
       "      <td>4647.0</td>\n",
       "      <td>3.730931e+04</td>\n",
       "      <td>8.215398e+04</td>\n",
       "      <td>0.03</td>\n",
       "      <td>2000.000000</td>\n",
       "      <td>9.000000e+03</td>\n",
       "      <td>3.756234e+04</td>\n",
       "      <td>1.403049e+06</td>\n",
       "    </tr>\n",
       "    <tr>\n",
       "      <th>recursos_de_pessoas_juridicas</th>\n",
       "      <td>3354.0</td>\n",
       "      <td>1.761195e+05</td>\n",
       "      <td>3.517541e+05</td>\n",
       "      <td>0.00</td>\n",
       "      <td>3422.500000</td>\n",
       "      <td>2.612000e+04</td>\n",
       "      <td>1.755218e+05</td>\n",
       "      <td>3.178226e+06</td>\n",
       "    </tr>\n",
       "    <tr>\n",
       "      <th>recursos_proprios</th>\n",
       "      <td>4942.0</td>\n",
       "      <td>3.914169e+04</td>\n",
       "      <td>1.839980e+05</td>\n",
       "      <td>0.00</td>\n",
       "      <td>1177.232500</td>\n",
       "      <td>5.000000e+03</td>\n",
       "      <td>2.027459e+04</td>\n",
       "      <td>5.525600e+06</td>\n",
       "    </tr>\n",
       "    <tr>\n",
       "      <th>quantidade_despesas</th>\n",
       "      <td>7330.0</td>\n",
       "      <td>1.333398e+02</td>\n",
       "      <td>4.168388e+02</td>\n",
       "      <td>1.00</td>\n",
       "      <td>6.000000</td>\n",
       "      <td>2.100000e+01</td>\n",
       "      <td>8.300000e+01</td>\n",
       "      <td>9.932000e+03</td>\n",
       "    </tr>\n",
       "    <tr>\n",
       "      <th>quantidade_fornecedores</th>\n",
       "      <td>7330.0</td>\n",
       "      <td>1.101799e+02</td>\n",
       "      <td>3.384930e+02</td>\n",
       "      <td>1.00</td>\n",
       "      <td>5.000000</td>\n",
       "      <td>1.800000e+01</td>\n",
       "      <td>7.100000e+01</td>\n",
       "      <td>8.359000e+03</td>\n",
       "    </tr>\n",
       "    <tr>\n",
       "      <th>total_despesa</th>\n",
       "      <td>7330.0</td>\n",
       "      <td>1.588707e+05</td>\n",
       "      <td>3.951814e+05</td>\n",
       "      <td>0.00</td>\n",
       "      <td>2781.405000</td>\n",
       "      <td>1.297986e+04</td>\n",
       "      <td>1.006515e+05</td>\n",
       "      <td>4.989491e+06</td>\n",
       "    </tr>\n",
       "    <tr>\n",
       "      <th>media_despesa</th>\n",
       "      <td>7330.0</td>\n",
       "      <td>1.500034e+03</td>\n",
       "      <td>6.363831e+03</td>\n",
       "      <td>0.00</td>\n",
       "      <td>398.452936</td>\n",
       "      <td>7.946782e+02</td>\n",
       "      <td>1.564291e+03</td>\n",
       "      <td>5.001770e+05</td>\n",
       "    </tr>\n",
       "    <tr>\n",
       "      <th>votos</th>\n",
       "      <td>7330.0</td>\n",
       "      <td>2.280617e+04</td>\n",
       "      <td>4.810133e+04</td>\n",
       "      <td>2.00</td>\n",
       "      <td>860.000000</td>\n",
       "      <td>3.025000e+03</td>\n",
       "      <td>2.027450e+04</td>\n",
       "      <td>1.353820e+06</td>\n",
       "    </tr>\n",
       "  </tbody>\n",
       "</table>\n",
       "</div>"
      ],
      "text/plain": [
       "                                        count          mean           std  \\\n",
       "ano                                    7330.0  2.008151e+03  1.994416e+00   \n",
       "sequencial_candidato                   7330.0  9.179127e+10  9.924629e+10   \n",
       "quantidade_doacoes                     7330.0  2.831010e+01  1.186551e+02   \n",
       "quantidade_doadores                    7330.0  2.581746e+01  1.036594e+02   \n",
       "total_receita                          7169.0  1.544899e+05  3.953880e+05   \n",
       "media_receita                          7169.0  5.485598e+03  1.411653e+04   \n",
       "recursos_de_outros_candidatos/comites  4940.0  3.002116e+04  1.280932e+05   \n",
       "recursos_de_pessoas_fisicas            4647.0  3.730931e+04  8.215398e+04   \n",
       "recursos_de_pessoas_juridicas          3354.0  1.761195e+05  3.517541e+05   \n",
       "recursos_proprios                      4942.0  3.914169e+04  1.839980e+05   \n",
       "quantidade_despesas                    7330.0  1.333398e+02  4.168388e+02   \n",
       "quantidade_fornecedores                7330.0  1.101799e+02  3.384930e+02   \n",
       "total_despesa                          7330.0  1.588707e+05  3.951814e+05   \n",
       "media_despesa                          7330.0  1.500034e+03  6.363831e+03   \n",
       "votos                                  7330.0  2.280617e+04  4.810133e+04   \n",
       "\n",
       "                                            min           25%           50%  \\\n",
       "ano                                     2006.00   2006.000000  2.010000e+03   \n",
       "sequencial_candidato                   10001.00  10565.000000  5.000000e+10   \n",
       "quantidade_doacoes                         1.00      4.000000  9.000000e+00   \n",
       "quantidade_doadores                        1.00      4.000000  8.000000e+00   \n",
       "total_receita                              0.00   2700.000000  1.209578e+04   \n",
       "media_receita                              0.00    622.857143  1.540543e+03   \n",
       "recursos_de_outros_candidatos/comites      2.41   1180.000000  3.522570e+03   \n",
       "recursos_de_pessoas_fisicas                0.03   2000.000000  9.000000e+03   \n",
       "recursos_de_pessoas_juridicas              0.00   3422.500000  2.612000e+04   \n",
       "recursos_proprios                          0.00   1177.232500  5.000000e+03   \n",
       "quantidade_despesas                        1.00      6.000000  2.100000e+01   \n",
       "quantidade_fornecedores                    1.00      5.000000  1.800000e+01   \n",
       "total_despesa                              0.00   2781.405000  1.297986e+04   \n",
       "media_despesa                              0.00    398.452936  7.946782e+02   \n",
       "votos                                      2.00    860.000000  3.025000e+03   \n",
       "\n",
       "                                                75%           max  \n",
       "ano                                    2.010000e+03  2.010000e+03  \n",
       "sequencial_candidato                   1.900000e+11  2.700000e+11  \n",
       "quantidade_doacoes                     2.400000e+01  6.997000e+03  \n",
       "quantidade_doadores                    2.200000e+01  5.800000e+03  \n",
       "total_receita                          8.929956e+04  4.539727e+06  \n",
       "media_receita                          4.662500e+03  5.001800e+05  \n",
       "recursos_de_outros_candidatos/comites  1.327550e+04  3.664205e+06  \n",
       "recursos_de_pessoas_fisicas            3.756234e+04  1.403049e+06  \n",
       "recursos_de_pessoas_juridicas          1.755218e+05  3.178226e+06  \n",
       "recursos_proprios                      2.027459e+04  5.525600e+06  \n",
       "quantidade_despesas                    8.300000e+01  9.932000e+03  \n",
       "quantidade_fornecedores                7.100000e+01  8.359000e+03  \n",
       "total_despesa                          1.006515e+05  4.989491e+06  \n",
       "media_despesa                          1.564291e+03  5.001770e+05  \n",
       "votos                                  2.027450e+04  1.353820e+06  "
      ]
     },
     "execution_count": 3,
     "metadata": {},
     "output_type": "execute_result"
    }
   ],
   "source": [
    "eleicoes.describe().transpose()"
   ]
  },
  {
   "cell_type": "markdown",
   "metadata": {},
   "source": [
    "Atributos numéricos:\n",
    "quantidade_doacoes\t\n",
    "- quantidade_doadores\t\n",
    "- total_receita\t\n",
    "- media_receita\t\n",
    "- recursos_de_outros_candidatos/comites\t\n",
    "- recursos_de_pessoas_fisicas\t\n",
    "- recursos_de_pessoas_juridicas\t\n",
    "- recursos_proprios\t\n",
    "- quantidade_despesas\t\n",
    "- quantidade_fornecedores\t\n",
    "- total_despesa\t\n",
    "- media_despesa\t\t\n",
    "- votos\n",
    "\n",
    "Atributos categórigos:\n",
    "- ano\t\n",
    "- sequencial_candidato\t\n",
    "- nome\t\n",
    "- uf\t\n",
    "- partido\t\n",
    "- cargo\t\n",
    "- sexo\t\n",
    "- grau\t\n",
    "- estado_civil\t\n",
    "- ocupacao\t\n",
    "\n",
    "**Como saber quais variáveis normalizar e quais variáveis utilizar em um modelo?**\n"
   ]
  },
  {
   "cell_type": "markdown",
   "metadata": {},
   "source": [
    "## Distribuição das variáveis "
   ]
  },
  {
   "cell_type": "markdown",
   "metadata": {},
   "source": [
    "### Ao observar a sitruibuição do atributo total_receita podemos obeservar que ele está enviesado para a direta. Para resolver, utilizamos a transformação logarítmica."
   ]
  },
  {
   "cell_type": "code",
   "execution_count": 4,
   "metadata": {},
   "outputs": [
    {
     "data": {
      "text/plain": [
       "array([[<matplotlib.axes._subplots.AxesSubplot object at 0x7f1c2cf5a4a8>]], dtype=object)"
      ]
     },
     "execution_count": 4,
     "metadata": {},
     "output_type": "execute_result"
    },
    {
     "data": {
      "image/png": "[encoded data removed]",
      "text/plain": [
       "<matplotlib.figure.Figure at 0x7f1c2cf89b70>"
      ]
     },
     "metadata": {},
     "output_type": "display_data"
    }
   ],
   "source": [
    "matplotlib.rcParams['figure.figsize'] = (12.0, 6.0)\n",
    "var = pd.DataFrame({\"Total de Receita\":eleicoes['total_receita']})\n",
    "\n",
    "var.hist()"
   ]
  },
  {
   "cell_type": "code",
   "execution_count": 5,
   "metadata": {},
   "outputs": [
    {
     "data": {
      "text/plain": [
       "array([[<matplotlib.axes._subplots.AxesSubplot object at 0x7f1c2cf5a438>]], dtype=object)"
      ]
     },
     "execution_count": 5,
     "metadata": {},
     "output_type": "execute_result"
    },
    {
     "data": {
      "image/png": "[encoded data removed]",
      "text/plain": [
       "<matplotlib.figure.Figure at 0x7f1c500434e0>"
      ]
     },
     "metadata": {},
     "output_type": "display_data"
    }
   ],
   "source": [
    "matplotlib.rcParams['figure.figsize'] = (12.0, 6.0)\n",
    "var = pd.DataFrame({\"log(total_receita + 1)\":np.log1p(eleicoes['total_receita'])})\n",
    "\n",
    "var.hist()"
   ]
  },
  {
   "cell_type": "markdown",
   "metadata": {},
   "source": [
    "### Também é possível observar um enviesamento no atributo votos"
   ]
  },
  {
   "cell_type": "code",
   "execution_count": 6,
   "metadata": {},
   "outputs": [
    {
     "data": {
      "text/plain": [
       "array([[<matplotlib.axes._subplots.AxesSubplot object at 0x7f1c24f50a20>]], dtype=object)"
      ]
     },
     "execution_count": 6,
     "metadata": {},
     "output_type": "execute_result"
    },
    {
     "data": {
      "image/png": "[encoded data removed]",
      "text/plain": [
       "<matplotlib.figure.Figure at 0x7f1c2cf35fd0>"
      ]
     },
     "metadata": {},
     "output_type": "display_data"
    }
   ],
   "source": [
    "var = pd.DataFrame({\"Votos\":eleicoes['votos']})\n",
    "\n",
    "var.hist()"
   ]
  },
  {
   "cell_type": "markdown",
   "metadata": {
    "collapsed": true
   },
   "source": [
    "### E para lidar com isso vamos fazer a mesma transformação anterior. Vamos replicar essa transformação para todas as outras variáveis numéricas do conjunto de dados."
   ]
  },
  {
   "cell_type": "markdown",
   "metadata": {},
   "source": [
    "## Transformando variáveis numéricas"
   ]
  },
  {
   "cell_type": "markdown",
   "metadata": {},
   "source": [
    "Selecionando as variáveis numéricas"
   ]
  },
  {
   "cell_type": "code",
   "execution_count": 7,
   "metadata": {},
   "outputs": [
    {
     "data": {
      "text/html": [
       "<div>\n",
       "<style>\n",
       "    .dataframe thead tr:only-child th {\n",
       "        text-align: right;\n",
       "    }\n",
       "\n",
       "    .dataframe thead th {\n",
       "        text-align: left;\n",
       "    }\n",
       "\n",
       "    .dataframe tbody tr th {\n",
       "        vertical-align: top;\n",
       "    }\n",
       "</style>\n",
       "<table border=\"1\" class=\"dataframe\">\n",
       "  <thead>\n",
       "    <tr style=\"text-align: right;\">\n",
       "      <th></th>\n",
       "      <th>ano</th>\n",
       "      <th>sequencial_candidato</th>\n",
       "      <th>quantidade_doacoes</th>\n",
       "      <th>quantidade_doadores</th>\n",
       "      <th>total_receita</th>\n",
       "      <th>media_receita</th>\n",
       "      <th>recursos_de_outros_candidatos/comites</th>\n",
       "      <th>recursos_de_pessoas_fisicas</th>\n",
       "      <th>recursos_de_pessoas_juridicas</th>\n",
       "      <th>recursos_proprios</th>\n",
       "      <th>quantidade_despesas</th>\n",
       "      <th>quantidade_fornecedores</th>\n",
       "      <th>total_despesa</th>\n",
       "      <th>media_despesa</th>\n",
       "      <th>votos</th>\n",
       "    </tr>\n",
       "  </thead>\n",
       "  <tbody>\n",
       "    <tr>\n",
       "      <th>0</th>\n",
       "      <td>2006</td>\n",
       "      <td>10001</td>\n",
       "      <td>6</td>\n",
       "      <td>6</td>\n",
       "      <td>16600.00</td>\n",
       "      <td>2766.666667</td>\n",
       "      <td>NaN</td>\n",
       "      <td>9000.0</td>\n",
       "      <td>6300.00</td>\n",
       "      <td>1300.0</td>\n",
       "      <td>14</td>\n",
       "      <td>14</td>\n",
       "      <td>16583.60</td>\n",
       "      <td>1184.542857</td>\n",
       "      <td>8579</td>\n",
       "    </tr>\n",
       "    <tr>\n",
       "      <th>1</th>\n",
       "      <td>2006</td>\n",
       "      <td>10002</td>\n",
       "      <td>13</td>\n",
       "      <td>13</td>\n",
       "      <td>22826.00</td>\n",
       "      <td>1755.846154</td>\n",
       "      <td>6625.0</td>\n",
       "      <td>15000.0</td>\n",
       "      <td>1000.00</td>\n",
       "      <td>201.0</td>\n",
       "      <td>24</td>\n",
       "      <td>23</td>\n",
       "      <td>20325.99</td>\n",
       "      <td>883.738696</td>\n",
       "      <td>2757</td>\n",
       "    </tr>\n",
       "    <tr>\n",
       "      <th>2</th>\n",
       "      <td>2006</td>\n",
       "      <td>10002</td>\n",
       "      <td>17</td>\n",
       "      <td>16</td>\n",
       "      <td>148120.80</td>\n",
       "      <td>9257.550000</td>\n",
       "      <td>2250.0</td>\n",
       "      <td>34150.0</td>\n",
       "      <td>62220.80</td>\n",
       "      <td>59500.0</td>\n",
       "      <td>123</td>\n",
       "      <td>108</td>\n",
       "      <td>146011.70</td>\n",
       "      <td>1351.960185</td>\n",
       "      <td>17428</td>\n",
       "    </tr>\n",
       "    <tr>\n",
       "      <th>3</th>\n",
       "      <td>2006</td>\n",
       "      <td>10002</td>\n",
       "      <td>6</td>\n",
       "      <td>6</td>\n",
       "      <td>3001.12</td>\n",
       "      <td>500.186667</td>\n",
       "      <td>NaN</td>\n",
       "      <td>1150.0</td>\n",
       "      <td>1101.12</td>\n",
       "      <td>750.0</td>\n",
       "      <td>8</td>\n",
       "      <td>8</td>\n",
       "      <td>3001.12</td>\n",
       "      <td>375.140000</td>\n",
       "      <td>1193</td>\n",
       "    </tr>\n",
       "    <tr>\n",
       "      <th>4</th>\n",
       "      <td>2006</td>\n",
       "      <td>10003</td>\n",
       "      <td>48</td>\n",
       "      <td>48</td>\n",
       "      <td>NaN</td>\n",
       "      <td>NaN</td>\n",
       "      <td>NaN</td>\n",
       "      <td>50878.0</td>\n",
       "      <td>NaN</td>\n",
       "      <td>68942.0</td>\n",
       "      <td>133</td>\n",
       "      <td>120</td>\n",
       "      <td>116416.64</td>\n",
       "      <td>970.138667</td>\n",
       "      <td>29401</td>\n",
       "    </tr>\n",
       "  </tbody>\n",
       "</table>\n",
       "</div>"
      ],
      "text/plain": [
       "    ano  sequencial_candidato  quantidade_doacoes  quantidade_doadores  \\\n",
       "0  2006                 10001                   6                    6   \n",
       "1  2006                 10002                  13                   13   \n",
       "2  2006                 10002                  17                   16   \n",
       "3  2006                 10002                   6                    6   \n",
       "4  2006                 10003                  48                   48   \n",
       "\n",
       "   total_receita  media_receita  recursos_de_outros_candidatos/comites  \\\n",
       "0       16600.00    2766.666667                                    NaN   \n",
       "1       22826.00    1755.846154                                 6625.0   \n",
       "2      148120.80    9257.550000                                 2250.0   \n",
       "3        3001.12     500.186667                                    NaN   \n",
       "4            NaN            NaN                                    NaN   \n",
       "\n",
       "   recursos_de_pessoas_fisicas  recursos_de_pessoas_juridicas  \\\n",
       "0                       9000.0                        6300.00   \n",
       "1                      15000.0                        1000.00   \n",
       "2                      34150.0                       62220.80   \n",
       "3                       1150.0                        1101.12   \n",
       "4                      50878.0                            NaN   \n",
       "\n",
       "   recursos_proprios  quantidade_despesas  quantidade_fornecedores  \\\n",
       "0             1300.0                   14                       14   \n",
       "1              201.0                   24                       23   \n",
       "2            59500.0                  123                      108   \n",
       "3              750.0                    8                        8   \n",
       "4            68942.0                  133                      120   \n",
       "\n",
       "   total_despesa  media_despesa  votos  \n",
       "0       16583.60    1184.542857   8579  \n",
       "1       20325.99     883.738696   2757  \n",
       "2      146011.70    1351.960185  17428  \n",
       "3        3001.12     375.140000   1193  \n",
       "4      116416.64     970.138667  29401  "
      ]
     },
     "execution_count": 7,
     "metadata": {},
     "output_type": "execute_result"
    }
   ],
   "source": [
    "numeric_features = eleicoes.dtypes[eleicoes.dtypes != \"object\"].index\n",
    "eleicoes[numeric_features][:5]"
   ]
  },
  {
   "cell_type": "markdown",
   "metadata": {},
   "source": [
    "Verificando o viés das variáveis numéricas"
   ]
  },
  {
   "cell_type": "code",
   "execution_count": 8,
   "metadata": {},
   "outputs": [
    {
     "data": {
      "text/plain": [
       "ano                                      -0.151624\n",
       "sequencial_candidato                      0.447496\n",
       "quantidade_doacoes                       39.982260\n",
       "quantidade_doadores                      37.541762\n",
       "total_receita                             4.599988\n",
       "media_receita                            12.105833\n",
       "recursos_de_outros_candidatos/comites    13.892631\n",
       "recursos_de_pessoas_fisicas               6.800271\n",
       "recursos_de_pessoas_juridicas             3.431190\n",
       "recursos_proprios                        15.782559\n",
       "quantidade_despesas                       8.546077\n",
       "quantidade_fornecedores                   8.424869\n",
       "total_despesa                             4.534959\n",
       "media_despesa                            66.379222\n",
       "votos                                     6.669571\n",
       "dtype: float64"
      ]
     },
     "execution_count": 8,
     "metadata": {},
     "output_type": "execute_result"
    }
   ],
   "source": [
    "skewed_features = eleicoes[numeric_features].apply(lambda x: x.dropna().skew())\n",
    "skewed_features"
   ]
  },
  {
   "cell_type": "markdown",
   "metadata": {},
   "source": [
    "Selecionando os atributos com viés acima de 0.75"
   ]
  },
  {
   "cell_type": "code",
   "execution_count": 9,
   "metadata": {},
   "outputs": [
    {
     "data": {
      "text/plain": [
       "quantidade_doacoes                       39.982260\n",
       "quantidade_doadores                      37.541762\n",
       "total_receita                             4.599988\n",
       "media_receita                            12.105833\n",
       "recursos_de_outros_candidatos/comites    13.892631\n",
       "recursos_de_pessoas_fisicas               6.800271\n",
       "recursos_de_pessoas_juridicas             3.431190\n",
       "recursos_proprios                        15.782559\n",
       "quantidade_despesas                       8.546077\n",
       "quantidade_fornecedores                   8.424869\n",
       "total_despesa                             4.534959\n",
       "media_despesa                            66.379222\n",
       "votos                                     6.669571\n",
       "dtype: float64"
      ]
     },
     "execution_count": 9,
     "metadata": {},
     "output_type": "execute_result"
    }
   ],
   "source": [
    "skewed_features = skewed_features[skewed_features > 0.75]\n",
    "skewed_features"
   ]
  },
  {
   "cell_type": "markdown",
   "metadata": {},
   "source": [
    "Aplicando transformação logarítmica em todos os dados selecionados em skewed_features"
   ]
  },
  {
   "cell_type": "code",
   "execution_count": 10,
   "metadata": {},
   "outputs": [
    {
     "data": {
      "text/html": [
       "<div>\n",
       "<style>\n",
       "    .dataframe thead tr:only-child th {\n",
       "        text-align: right;\n",
       "    }\n",
       "\n",
       "    .dataframe thead th {\n",
       "        text-align: left;\n",
       "    }\n",
       "\n",
       "    .dataframe tbody tr th {\n",
       "        vertical-align: top;\n",
       "    }\n",
       "</style>\n",
       "<table border=\"1\" class=\"dataframe\">\n",
       "  <thead>\n",
       "    <tr style=\"text-align: right;\">\n",
       "      <th></th>\n",
       "      <th>ano</th>\n",
       "      <th>sequencial_candidato</th>\n",
       "      <th>quantidade_doacoes</th>\n",
       "      <th>quantidade_doadores</th>\n",
       "      <th>total_receita</th>\n",
       "      <th>media_receita</th>\n",
       "      <th>recursos_de_outros_candidatos/comites</th>\n",
       "      <th>recursos_de_pessoas_fisicas</th>\n",
       "      <th>recursos_de_pessoas_juridicas</th>\n",
       "      <th>recursos_proprios</th>\n",
       "      <th>quantidade_despesas</th>\n",
       "      <th>quantidade_fornecedores</th>\n",
       "      <th>total_despesa</th>\n",
       "      <th>media_despesa</th>\n",
       "      <th>votos</th>\n",
       "    </tr>\n",
       "  </thead>\n",
       "  <tbody>\n",
       "    <tr>\n",
       "      <th>0</th>\n",
       "      <td>2006</td>\n",
       "      <td>10001</td>\n",
       "      <td>1.945910</td>\n",
       "      <td>1.945910</td>\n",
       "      <td>9.717218</td>\n",
       "      <td>7.925760</td>\n",
       "      <td>NaN</td>\n",
       "      <td>9.105091</td>\n",
       "      <td>8.748464</td>\n",
       "      <td>7.170888</td>\n",
       "      <td>2.708050</td>\n",
       "      <td>2.708050</td>\n",
       "      <td>9.716230</td>\n",
       "      <td>7.077956</td>\n",
       "      <td>9.057189</td>\n",
       "    </tr>\n",
       "    <tr>\n",
       "      <th>1</th>\n",
       "      <td>2006</td>\n",
       "      <td>10002</td>\n",
       "      <td>2.639057</td>\n",
       "      <td>2.639057</td>\n",
       "      <td>10.035699</td>\n",
       "      <td>7.471276</td>\n",
       "      <td>8.798757</td>\n",
       "      <td>9.615872</td>\n",
       "      <td>6.908755</td>\n",
       "      <td>5.308268</td>\n",
       "      <td>3.218876</td>\n",
       "      <td>3.178054</td>\n",
       "      <td>9.919705</td>\n",
       "      <td>6.785292</td>\n",
       "      <td>7.922261</td>\n",
       "    </tr>\n",
       "    <tr>\n",
       "      <th>2</th>\n",
       "      <td>2006</td>\n",
       "      <td>10002</td>\n",
       "      <td>2.890372</td>\n",
       "      <td>2.833213</td>\n",
       "      <td>11.905790</td>\n",
       "      <td>9.133303</td>\n",
       "      <td>7.719130</td>\n",
       "      <td>10.438547</td>\n",
       "      <td>11.038461</td>\n",
       "      <td>10.993748</td>\n",
       "      <td>4.820282</td>\n",
       "      <td>4.691348</td>\n",
       "      <td>11.891449</td>\n",
       "      <td>7.210050</td>\n",
       "      <td>9.765891</td>\n",
       "    </tr>\n",
       "    <tr>\n",
       "      <th>3</th>\n",
       "      <td>2006</td>\n",
       "      <td>10002</td>\n",
       "      <td>1.945910</td>\n",
       "      <td>1.945910</td>\n",
       "      <td>8.007074</td>\n",
       "      <td>6.216979</td>\n",
       "      <td>NaN</td>\n",
       "      <td>7.048386</td>\n",
       "      <td>7.004991</td>\n",
       "      <td>6.621406</td>\n",
       "      <td>2.197225</td>\n",
       "      <td>2.197225</td>\n",
       "      <td>8.007074</td>\n",
       "      <td>5.929961</td>\n",
       "      <td>7.085064</td>\n",
       "    </tr>\n",
       "    <tr>\n",
       "      <th>4</th>\n",
       "      <td>2006</td>\n",
       "      <td>10003</td>\n",
       "      <td>3.891820</td>\n",
       "      <td>3.891820</td>\n",
       "      <td>NaN</td>\n",
       "      <td>NaN</td>\n",
       "      <td>NaN</td>\n",
       "      <td>10.837206</td>\n",
       "      <td>NaN</td>\n",
       "      <td>11.141035</td>\n",
       "      <td>4.897840</td>\n",
       "      <td>4.795791</td>\n",
       "      <td>11.664939</td>\n",
       "      <td>6.878469</td>\n",
       "      <td>10.288818</td>\n",
       "    </tr>\n",
       "  </tbody>\n",
       "</table>\n",
       "</div>"
      ],
      "text/plain": [
       "    ano  sequencial_candidato  quantidade_doacoes  quantidade_doadores  \\\n",
       "0  2006                 10001            1.945910             1.945910   \n",
       "1  2006                 10002            2.639057             2.639057   \n",
       "2  2006                 10002            2.890372             2.833213   \n",
       "3  2006                 10002            1.945910             1.945910   \n",
       "4  2006                 10003            3.891820             3.891820   \n",
       "\n",
       "   total_receita  media_receita  recursos_de_outros_candidatos/comites  \\\n",
       "0       9.717218       7.925760                                    NaN   \n",
       "1      10.035699       7.471276                               8.798757   \n",
       "2      11.905790       9.133303                               7.719130   \n",
       "3       8.007074       6.216979                                    NaN   \n",
       "4            NaN            NaN                                    NaN   \n",
       "\n",
       "   recursos_de_pessoas_fisicas  recursos_de_pessoas_juridicas  \\\n",
       "0                     9.105091                       8.748464   \n",
       "1                     9.615872                       6.908755   \n",
       "2                    10.438547                      11.038461   \n",
       "3                     7.048386                       7.004991   \n",
       "4                    10.837206                            NaN   \n",
       "\n",
       "   recursos_proprios  quantidade_despesas  quantidade_fornecedores  \\\n",
       "0           7.170888             2.708050                 2.708050   \n",
       "1           5.308268             3.218876                 3.178054   \n",
       "2          10.993748             4.820282                 4.691348   \n",
       "3           6.621406             2.197225                 2.197225   \n",
       "4          11.141035             4.897840                 4.795791   \n",
       "\n",
       "   total_despesa  media_despesa      votos  \n",
       "0       9.716230       7.077956   9.057189  \n",
       "1       9.919705       6.785292   7.922261  \n",
       "2      11.891449       7.210050   9.765891  \n",
       "3       8.007074       5.929961   7.085064  \n",
       "4      11.664939       6.878469  10.288818  "
      ]
     },
     "execution_count": 10,
     "metadata": {},
     "output_type": "execute_result"
    }
   ],
   "source": [
    "skewed_features = skewed_features.index\n",
    "\n",
    "eleicoes[skewed_features] = np.log1p(eleicoes[skewed_features])\n",
    "eleicoes[numeric_features][:5]"
   ]
  },
  {
   "cell_type": "markdown",
   "metadata": {},
   "source": [
    "## Transformando variáveis categóricas\n",
    "\n",
    "Verificando a quantidade de linhas e colunas do DataFrame antes da tranformação das variáveis categóricas"
   ]
  },
  {
   "cell_type": "code",
   "execution_count": 11,
   "metadata": {},
   "outputs": [
    {
     "data": {
      "text/plain": [
       "(7330, 23)"
      ]
     },
     "execution_count": 11,
     "metadata": {},
     "output_type": "execute_result"
    }
   ],
   "source": [
    "eleicoes.shape"
   ]
  },
  {
   "cell_type": "markdown",
   "metadata": {},
   "source": [
    "Convertendo atributos categóricos em valores modelo"
   ]
  },
  {
   "cell_type": "code",
   "execution_count": 12,
   "metadata": {},
   "outputs": [
    {
     "data": {
      "text/plain": [
       "(7330, 7038)"
      ]
     },
     "execution_count": 12,
     "metadata": {},
     "output_type": "execute_result"
    }
   ],
   "source": [
    "eleicoes = pd.get_dummies(eleicoes)\n",
    "eleicoes.shape"
   ]
  },
  {
   "cell_type": "markdown",
   "metadata": {},
   "source": [
    "A quantidade de colunas cresce bastante"
   ]
  },
  {
   "cell_type": "markdown",
   "metadata": {},
   "source": [
    "## Transformando atributos com valores NaN: \n",
    "Opção 1 - Preencher os valores NA's com a média de valores de cada coluna"
   ]
  },
  {
   "cell_type": "code",
   "execution_count": 13,
   "metadata": {},
   "outputs": [
    {
     "data": {
      "text/html": [
       "<div>\n",
       "<style>\n",
       "    .dataframe thead tr:only-child th {\n",
       "        text-align: right;\n",
       "    }\n",
       "\n",
       "    .dataframe thead th {\n",
       "        text-align: left;\n",
       "    }\n",
       "\n",
       "    .dataframe tbody tr th {\n",
       "        vertical-align: top;\n",
       "    }\n",
       "</style>\n",
       "<table border=\"1\" class=\"dataframe\">\n",
       "  <thead>\n",
       "    <tr style=\"text-align: right;\">\n",
       "      <th></th>\n",
       "      <th>ano</th>\n",
       "      <th>sequencial_candidato</th>\n",
       "      <th>quantidade_doacoes</th>\n",
       "      <th>quantidade_doadores</th>\n",
       "      <th>total_receita</th>\n",
       "      <th>media_receita</th>\n",
       "      <th>recursos_de_outros_candidatos/comites</th>\n",
       "      <th>recursos_de_pessoas_fisicas</th>\n",
       "      <th>recursos_de_pessoas_juridicas</th>\n",
       "      <th>recursos_proprios</th>\n",
       "      <th>...</th>\n",
       "      <th>ocupacao_TÉCNICO DE OBRAS CIVIS, ESTRADAS, SANEAMENTO E ASSEMELHADOS</th>\n",
       "      <th>ocupacao_TÉCNICO EM AGRONOMIA E AGRIMENSURA</th>\n",
       "      <th>ocupacao_TÉCNICO EM EDIFICAÇÕES</th>\n",
       "      <th>ocupacao_TÉCNICO EM INFORMÁTICA</th>\n",
       "      <th>ocupacao_VENDEDOR DE COMÉRCIO VAREJISTA E ATACADISTA</th>\n",
       "      <th>ocupacao_VENDEDOR PRACISTA, REPRESENTANTE, CAIXEIRO-VIAJANTE E ASSEMELHADOS</th>\n",
       "      <th>ocupacao_VEREADOR</th>\n",
       "      <th>ocupacao_VETERINÁRIO</th>\n",
       "      <th>ocupacao_VIGILANTE</th>\n",
       "      <th>ocupacao_ZOOTECNISTA</th>\n",
       "    </tr>\n",
       "  </thead>\n",
       "  <tbody>\n",
       "    <tr>\n",
       "      <th>0</th>\n",
       "      <td>2006</td>\n",
       "      <td>10001</td>\n",
       "      <td>1.945910</td>\n",
       "      <td>1.945910</td>\n",
       "      <td>9.717218</td>\n",
       "      <td>7.925760</td>\n",
       "      <td>8.324939</td>\n",
       "      <td>9.105091</td>\n",
       "      <td>8.748464</td>\n",
       "      <td>7.170888</td>\n",
       "      <td>...</td>\n",
       "      <td>0</td>\n",
       "      <td>0</td>\n",
       "      <td>0</td>\n",
       "      <td>0</td>\n",
       "      <td>0</td>\n",
       "      <td>0</td>\n",
       "      <td>1</td>\n",
       "      <td>0</td>\n",
       "      <td>0</td>\n",
       "      <td>0</td>\n",
       "    </tr>\n",
       "    <tr>\n",
       "      <th>1</th>\n",
       "      <td>2006</td>\n",
       "      <td>10002</td>\n",
       "      <td>2.639057</td>\n",
       "      <td>2.639057</td>\n",
       "      <td>10.035699</td>\n",
       "      <td>7.471276</td>\n",
       "      <td>8.798757</td>\n",
       "      <td>9.615872</td>\n",
       "      <td>6.908755</td>\n",
       "      <td>5.308268</td>\n",
       "      <td>...</td>\n",
       "      <td>0</td>\n",
       "      <td>0</td>\n",
       "      <td>0</td>\n",
       "      <td>0</td>\n",
       "      <td>0</td>\n",
       "      <td>0</td>\n",
       "      <td>0</td>\n",
       "      <td>0</td>\n",
       "      <td>0</td>\n",
       "      <td>0</td>\n",
       "    </tr>\n",
       "    <tr>\n",
       "      <th>2</th>\n",
       "      <td>2006</td>\n",
       "      <td>10002</td>\n",
       "      <td>2.890372</td>\n",
       "      <td>2.833213</td>\n",
       "      <td>11.905790</td>\n",
       "      <td>9.133303</td>\n",
       "      <td>7.719130</td>\n",
       "      <td>10.438547</td>\n",
       "      <td>11.038461</td>\n",
       "      <td>10.993748</td>\n",
       "      <td>...</td>\n",
       "      <td>0</td>\n",
       "      <td>0</td>\n",
       "      <td>0</td>\n",
       "      <td>0</td>\n",
       "      <td>0</td>\n",
       "      <td>0</td>\n",
       "      <td>0</td>\n",
       "      <td>0</td>\n",
       "      <td>0</td>\n",
       "      <td>0</td>\n",
       "    </tr>\n",
       "    <tr>\n",
       "      <th>3</th>\n",
       "      <td>2006</td>\n",
       "      <td>10002</td>\n",
       "      <td>1.945910</td>\n",
       "      <td>1.945910</td>\n",
       "      <td>8.007074</td>\n",
       "      <td>6.216979</td>\n",
       "      <td>8.324939</td>\n",
       "      <td>7.048386</td>\n",
       "      <td>7.004991</td>\n",
       "      <td>6.621406</td>\n",
       "      <td>...</td>\n",
       "      <td>0</td>\n",
       "      <td>0</td>\n",
       "      <td>0</td>\n",
       "      <td>0</td>\n",
       "      <td>0</td>\n",
       "      <td>0</td>\n",
       "      <td>0</td>\n",
       "      <td>0</td>\n",
       "      <td>0</td>\n",
       "      <td>0</td>\n",
       "    </tr>\n",
       "    <tr>\n",
       "      <th>4</th>\n",
       "      <td>2006</td>\n",
       "      <td>10003</td>\n",
       "      <td>3.891820</td>\n",
       "      <td>3.891820</td>\n",
       "      <td>9.634619</td>\n",
       "      <td>7.466020</td>\n",
       "      <td>8.324939</td>\n",
       "      <td>10.837206</td>\n",
       "      <td>10.011960</td>\n",
       "      <td>11.141035</td>\n",
       "      <td>...</td>\n",
       "      <td>0</td>\n",
       "      <td>0</td>\n",
       "      <td>0</td>\n",
       "      <td>0</td>\n",
       "      <td>0</td>\n",
       "      <td>0</td>\n",
       "      <td>0</td>\n",
       "      <td>0</td>\n",
       "      <td>0</td>\n",
       "      <td>0</td>\n",
       "    </tr>\n",
       "  </tbody>\n",
       "</table>\n",
       "<p>5 rows × 7038 columns</p>\n",
       "</div>"
      ],
      "text/plain": [
       "    ano  sequencial_candidato  quantidade_doacoes  quantidade_doadores  \\\n",
       "0  2006                 10001            1.945910             1.945910   \n",
       "1  2006                 10002            2.639057             2.639057   \n",
       "2  2006                 10002            2.890372             2.833213   \n",
       "3  2006                 10002            1.945910             1.945910   \n",
       "4  2006                 10003            3.891820             3.891820   \n",
       "\n",
       "   total_receita  media_receita  recursos_de_outros_candidatos/comites  \\\n",
       "0       9.717218       7.925760                               8.324939   \n",
       "1      10.035699       7.471276                               8.798757   \n",
       "2      11.905790       9.133303                               7.719130   \n",
       "3       8.007074       6.216979                               8.324939   \n",
       "4       9.634619       7.466020                               8.324939   \n",
       "\n",
       "   recursos_de_pessoas_fisicas  recursos_de_pessoas_juridicas  \\\n",
       "0                     9.105091                       8.748464   \n",
       "1                     9.615872                       6.908755   \n",
       "2                    10.438547                      11.038461   \n",
       "3                     7.048386                       7.004991   \n",
       "4                    10.837206                      10.011960   \n",
       "\n",
       "   recursos_proprios          ...           \\\n",
       "0           7.170888          ...            \n",
       "1           5.308268          ...            \n",
       "2          10.993748          ...            \n",
       "3           6.621406          ...            \n",
       "4          11.141035          ...            \n",
       "\n",
       "   ocupacao_TÉCNICO DE OBRAS CIVIS, ESTRADAS, SANEAMENTO E ASSEMELHADOS  \\\n",
       "0                                                  0                      \n",
       "1                                                  0                      \n",
       "2                                                  0                      \n",
       "3                                                  0                      \n",
       "4                                                  0                      \n",
       "\n",
       "   ocupacao_TÉCNICO EM AGRONOMIA E AGRIMENSURA  \\\n",
       "0                                            0   \n",
       "1                                            0   \n",
       "2                                            0   \n",
       "3                                            0   \n",
       "4                                            0   \n",
       "\n",
       "   ocupacao_TÉCNICO EM EDIFICAÇÕES  ocupacao_TÉCNICO EM INFORMÁTICA  \\\n",
       "0                                0                                0   \n",
       "1                                0                                0   \n",
       "2                                0                                0   \n",
       "3                                0                                0   \n",
       "4                                0                                0   \n",
       "\n",
       "   ocupacao_VENDEDOR DE COMÉRCIO VAREJISTA E ATACADISTA  \\\n",
       "0                                                  0      \n",
       "1                                                  0      \n",
       "2                                                  0      \n",
       "3                                                  0      \n",
       "4                                                  0      \n",
       "\n",
       "   ocupacao_VENDEDOR PRACISTA, REPRESENTANTE, CAIXEIRO-VIAJANTE E ASSEMELHADOS  \\\n",
       "0                                                  0                             \n",
       "1                                                  0                             \n",
       "2                                                  0                             \n",
       "3                                                  0                             \n",
       "4                                                  0                             \n",
       "\n",
       "   ocupacao_VEREADOR  ocupacao_VETERINÁRIO  ocupacao_VIGILANTE  \\\n",
       "0                  1                     0                   0   \n",
       "1                  0                     0                   0   \n",
       "2                  0                     0                   0   \n",
       "3                  0                     0                   0   \n",
       "4                  0                     0                   0   \n",
       "\n",
       "   ocupacao_ZOOTECNISTA  \n",
       "0                     0  \n",
       "1                     0  \n",
       "2                     0  \n",
       "3                     0  \n",
       "4                     0  \n",
       "\n",
       "[5 rows x 7038 columns]"
      ]
     },
     "execution_count": 13,
     "metadata": {},
     "output_type": "execute_result"
    }
   ],
   "source": [
    "eleicoes_mean = eleicoes.fillna(eleicoes.mean())\n",
    "eleicoes_mean[:5]"
   ]
  },
  {
   "cell_type": "markdown",
   "metadata": {},
   "source": [
    "Opção 2 - Preencher valores NaN com 0"
   ]
  },
  {
   "cell_type": "code",
   "execution_count": 14,
   "metadata": {},
   "outputs": [
    {
     "data": {
      "text/html": [
       "<div>\n",
       "<style>\n",
       "    .dataframe thead tr:only-child th {\n",
       "        text-align: right;\n",
       "    }\n",
       "\n",
       "    .dataframe thead th {\n",
       "        text-align: left;\n",
       "    }\n",
       "\n",
       "    .dataframe tbody tr th {\n",
       "        vertical-align: top;\n",
       "    }\n",
       "</style>\n",
       "<table border=\"1\" class=\"dataframe\">\n",
       "  <thead>\n",
       "    <tr style=\"text-align: right;\">\n",
       "      <th></th>\n",
       "      <th>ano</th>\n",
       "      <th>sequencial_candidato</th>\n",
       "      <th>quantidade_doacoes</th>\n",
       "      <th>quantidade_doadores</th>\n",
       "      <th>total_receita</th>\n",
       "      <th>media_receita</th>\n",
       "      <th>recursos_de_outros_candidatos/comites</th>\n",
       "      <th>recursos_de_pessoas_fisicas</th>\n",
       "      <th>recursos_de_pessoas_juridicas</th>\n",
       "      <th>recursos_proprios</th>\n",
       "      <th>...</th>\n",
       "      <th>ocupacao_TÉCNICO DE OBRAS CIVIS, ESTRADAS, SANEAMENTO E ASSEMELHADOS</th>\n",
       "      <th>ocupacao_TÉCNICO EM AGRONOMIA E AGRIMENSURA</th>\n",
       "      <th>ocupacao_TÉCNICO EM EDIFICAÇÕES</th>\n",
       "      <th>ocupacao_TÉCNICO EM INFORMÁTICA</th>\n",
       "      <th>ocupacao_VENDEDOR DE COMÉRCIO VAREJISTA E ATACADISTA</th>\n",
       "      <th>ocupacao_VENDEDOR PRACISTA, REPRESENTANTE, CAIXEIRO-VIAJANTE E ASSEMELHADOS</th>\n",
       "      <th>ocupacao_VEREADOR</th>\n",
       "      <th>ocupacao_VETERINÁRIO</th>\n",
       "      <th>ocupacao_VIGILANTE</th>\n",
       "      <th>ocupacao_ZOOTECNISTA</th>\n",
       "    </tr>\n",
       "  </thead>\n",
       "  <tbody>\n",
       "    <tr>\n",
       "      <th>0</th>\n",
       "      <td>2006</td>\n",
       "      <td>10001</td>\n",
       "      <td>1.945910</td>\n",
       "      <td>1.945910</td>\n",
       "      <td>9.717218</td>\n",
       "      <td>7.925760</td>\n",
       "      <td>0.000000</td>\n",
       "      <td>9.105091</td>\n",
       "      <td>8.748464</td>\n",
       "      <td>7.170888</td>\n",
       "      <td>...</td>\n",
       "      <td>0</td>\n",
       "      <td>0</td>\n",
       "      <td>0</td>\n",
       "      <td>0</td>\n",
       "      <td>0</td>\n",
       "      <td>0</td>\n",
       "      <td>1</td>\n",
       "      <td>0</td>\n",
       "      <td>0</td>\n",
       "      <td>0</td>\n",
       "    </tr>\n",
       "    <tr>\n",
       "      <th>1</th>\n",
       "      <td>2006</td>\n",
       "      <td>10002</td>\n",
       "      <td>2.639057</td>\n",
       "      <td>2.639057</td>\n",
       "      <td>10.035699</td>\n",
       "      <td>7.471276</td>\n",
       "      <td>8.798757</td>\n",
       "      <td>9.615872</td>\n",
       "      <td>6.908755</td>\n",
       "      <td>5.308268</td>\n",
       "      <td>...</td>\n",
       "      <td>0</td>\n",
       "      <td>0</td>\n",
       "      <td>0</td>\n",
       "      <td>0</td>\n",
       "      <td>0</td>\n",
       "      <td>0</td>\n",
       "      <td>0</td>\n",
       "      <td>0</td>\n",
       "      <td>0</td>\n",
       "      <td>0</td>\n",
       "    </tr>\n",
       "    <tr>\n",
       "      <th>2</th>\n",
       "      <td>2006</td>\n",
       "      <td>10002</td>\n",
       "      <td>2.890372</td>\n",
       "      <td>2.833213</td>\n",
       "      <td>11.905790</td>\n",
       "      <td>9.133303</td>\n",
       "      <td>7.719130</td>\n",
       "      <td>10.438547</td>\n",
       "      <td>11.038461</td>\n",
       "      <td>10.993748</td>\n",
       "      <td>...</td>\n",
       "      <td>0</td>\n",
       "      <td>0</td>\n",
       "      <td>0</td>\n",
       "      <td>0</td>\n",
       "      <td>0</td>\n",
       "      <td>0</td>\n",
       "      <td>0</td>\n",
       "      <td>0</td>\n",
       "      <td>0</td>\n",
       "      <td>0</td>\n",
       "    </tr>\n",
       "    <tr>\n",
       "      <th>3</th>\n",
       "      <td>2006</td>\n",
       "      <td>10002</td>\n",
       "      <td>1.945910</td>\n",
       "      <td>1.945910</td>\n",
       "      <td>8.007074</td>\n",
       "      <td>6.216979</td>\n",
       "      <td>0.000000</td>\n",
       "      <td>7.048386</td>\n",
       "      <td>7.004991</td>\n",
       "      <td>6.621406</td>\n",
       "      <td>...</td>\n",
       "      <td>0</td>\n",
       "      <td>0</td>\n",
       "      <td>0</td>\n",
       "      <td>0</td>\n",
       "      <td>0</td>\n",
       "      <td>0</td>\n",
       "      <td>0</td>\n",
       "      <td>0</td>\n",
       "      <td>0</td>\n",
       "      <td>0</td>\n",
       "    </tr>\n",
       "    <tr>\n",
       "      <th>4</th>\n",
       "      <td>2006</td>\n",
       "      <td>10003</td>\n",
       "      <td>3.891820</td>\n",
       "      <td>3.891820</td>\n",
       "      <td>0.000000</td>\n",
       "      <td>0.000000</td>\n",
       "      <td>0.000000</td>\n",
       "      <td>10.837206</td>\n",
       "      <td>0.000000</td>\n",
       "      <td>11.141035</td>\n",
       "      <td>...</td>\n",
       "      <td>0</td>\n",
       "      <td>0</td>\n",
       "      <td>0</td>\n",
       "      <td>0</td>\n",
       "      <td>0</td>\n",
       "      <td>0</td>\n",
       "      <td>0</td>\n",
       "      <td>0</td>\n",
       "      <td>0</td>\n",
       "      <td>0</td>\n",
       "    </tr>\n",
       "  </tbody>\n",
       "</table>\n",
       "<p>5 rows × 7038 columns</p>\n",
       "</div>"
      ],
      "text/plain": [
       "    ano  sequencial_candidato  quantidade_doacoes  quantidade_doadores  \\\n",
       "0  2006                 10001            1.945910             1.945910   \n",
       "1  2006                 10002            2.639057             2.639057   \n",
       "2  2006                 10002            2.890372             2.833213   \n",
       "3  2006                 10002            1.945910             1.945910   \n",
       "4  2006                 10003            3.891820             3.891820   \n",
       "\n",
       "   total_receita  media_receita  recursos_de_outros_candidatos/comites  \\\n",
       "0       9.717218       7.925760                               0.000000   \n",
       "1      10.035699       7.471276                               8.798757   \n",
       "2      11.905790       9.133303                               7.719130   \n",
       "3       8.007074       6.216979                               0.000000   \n",
       "4       0.000000       0.000000                               0.000000   \n",
       "\n",
       "   recursos_de_pessoas_fisicas  recursos_de_pessoas_juridicas  \\\n",
       "0                     9.105091                       8.748464   \n",
       "1                     9.615872                       6.908755   \n",
       "2                    10.438547                      11.038461   \n",
       "3                     7.048386                       7.004991   \n",
       "4                    10.837206                       0.000000   \n",
       "\n",
       "   recursos_proprios          ...           \\\n",
       "0           7.170888          ...            \n",
       "1           5.308268          ...            \n",
       "2          10.993748          ...            \n",
       "3           6.621406          ...            \n",
       "4          11.141035          ...            \n",
       "\n",
       "   ocupacao_TÉCNICO DE OBRAS CIVIS, ESTRADAS, SANEAMENTO E ASSEMELHADOS  \\\n",
       "0                                                  0                      \n",
       "1                                                  0                      \n",
       "2                                                  0                      \n",
       "3                                                  0                      \n",
       "4                                                  0                      \n",
       "\n",
       "   ocupacao_TÉCNICO EM AGRONOMIA E AGRIMENSURA  \\\n",
       "0                                            0   \n",
       "1                                            0   \n",
       "2                                            0   \n",
       "3                                            0   \n",
       "4                                            0   \n",
       "\n",
       "   ocupacao_TÉCNICO EM EDIFICAÇÕES  ocupacao_TÉCNICO EM INFORMÁTICA  \\\n",
       "0                                0                                0   \n",
       "1                                0                                0   \n",
       "2                                0                                0   \n",
       "3                                0                                0   \n",
       "4                                0                                0   \n",
       "\n",
       "   ocupacao_VENDEDOR DE COMÉRCIO VAREJISTA E ATACADISTA  \\\n",
       "0                                                  0      \n",
       "1                                                  0      \n",
       "2                                                  0      \n",
       "3                                                  0      \n",
       "4                                                  0      \n",
       "\n",
       "   ocupacao_VENDEDOR PRACISTA, REPRESENTANTE, CAIXEIRO-VIAJANTE E ASSEMELHADOS  \\\n",
       "0                                                  0                             \n",
       "1                                                  0                             \n",
       "2                                                  0                             \n",
       "3                                                  0                             \n",
       "4                                                  0                             \n",
       "\n",
       "   ocupacao_VEREADOR  ocupacao_VETERINÁRIO  ocupacao_VIGILANTE  \\\n",
       "0                  1                     0                   0   \n",
       "1                  0                     0                   0   \n",
       "2                  0                     0                   0   \n",
       "3                  0                     0                   0   \n",
       "4                  0                     0                   0   \n",
       "\n",
       "   ocupacao_ZOOTECNISTA  \n",
       "0                     0  \n",
       "1                     0  \n",
       "2                     0  \n",
       "3                     0  \n",
       "4                     0  \n",
       "\n",
       "[5 rows x 7038 columns]"
      ]
     },
     "execution_count": 14,
     "metadata": {},
     "output_type": "execute_result"
    }
   ],
   "source": [
    "eleicoes_zero = eleicoes.fillna(0)\n",
    "eleicoes_zero[:5]"
   ]
  },
  {
   "cell_type": "markdown",
   "metadata": {},
   "source": [
    "## Separando dados\n",
    "Vamos utilizar os dados de 2006 para compor o conjunto de treino e 2010 para o conjunto de teste. \n",
    "E utilizar para a transformação dos valores NaN a opção 1 que preenche os valores NA's com a média de valores de cada coluna."
   ]
  },
  {
   "cell_type": "markdown",
   "metadata": {},
   "source": [
    "**todo:** Retirar número sequencial do candidato visto que é apenas um atributo de identificação"
   ]
  },
  {
   "cell_type": "code",
   "execution_count": 15,
   "metadata": {
    "collapsed": true
   },
   "outputs": [],
   "source": [
    "eleicoes = eleicoes_mean\n",
    "train = eleicoes[(eleicoes.ano==2006)]\n",
    "test = eleicoes[(eleicoes.ano==2010)]"
   ]
  },
  {
   "cell_type": "markdown",
   "metadata": {},
   "source": [
    "## Criando matrizes para o sklearn"
   ]
  },
  {
   "cell_type": "code",
   "execution_count": 16,
   "metadata": {
    "collapsed": true
   },
   "outputs": [],
   "source": [
    "x_train = train.drop('votos', axis=1)\n",
    "y_train = train['votos']\n",
    "\n",
    "x_test = test.drop('votos', axis=1)\n",
    "y_test = test['votos']"
   ]
  },
  {
   "cell_type": "markdown",
   "metadata": {},
   "source": [
    "## Regressão sem regularização"
   ]
  },
  {
   "cell_type": "markdown",
   "metadata": {},
   "source": [
    "Importando módulos necessários"
   ]
  },
  {
   "cell_type": "code",
   "execution_count": 29,
   "metadata": {
    "collapsed": true
   },
   "outputs": [],
   "source": [
    "from sklearn.linear_model import LinearRegression\n",
    "from sklearn.metrics import mean_squared_error, r2_score, explained_variance_score, median_absolute_error"
   ]
  },
  {
   "cell_type": "markdown",
   "metadata": {},
   "source": [
    "Treinando o modelo com os dados de treino"
   ]
  },
  {
   "cell_type": "code",
   "execution_count": 18,
   "metadata": {},
   "outputs": [
    {
     "data": {
      "text/plain": [
       "LinearRegression(copy_X=True, fit_intercept=True, n_jobs=1, normalize=False)"
      ]
     },
     "execution_count": 18,
     "metadata": {},
     "output_type": "execute_result"
    }
   ],
   "source": [
    "reg = LinearRegression()\n",
    "reg.fit(x_train, y_train)"
   ]
  },
  {
   "cell_type": "markdown",
   "metadata": {},
   "source": [
    "Predizendo os valores de y para dos conjunto de teste"
   ]
  },
  {
   "cell_type": "code",
   "execution_count": 19,
   "metadata": {},
   "outputs": [
    {
     "data": {
      "text/plain": [
       "array([  -41426.41041016,   -41426.92336961,   -41429.46939879, ...,\n",
       "       -1118767.74416945, -1118767.88837685, -1118766.65315008])"
      ]
     },
     "execution_count": 19,
     "metadata": {},
     "output_type": "execute_result"
    }
   ],
   "source": [
    "y_pred = reg.predict(x_test)\n",
    "y_pred"
   ]
  },
  {
   "cell_type": "markdown",
   "metadata": {},
   "source": [
    "#### Calculando métricas para avaliação do modelo"
   ]
  },
  {
   "cell_type": "markdown",
   "metadata": {},
   "source": [
    "Coeficientes calculados para os atributos"
   ]
  },
  {
   "cell_type": "code",
   "execution_count": 32,
   "metadata": {},
   "outputs": [
    {
     "data": {
      "text/plain": [
       "array([ -6.82653788e-02,  -4.14360770e-06,  -2.80207302e-01, ...,\n",
       "         3.56831830e-01,   7.26777657e-02,  -5.29442885e-02])"
      ]
     },
     "execution_count": 32,
     "metadata": {},
     "output_type": "execute_result"
    }
   ],
   "source": [
    "reg.coef_"
   ]
  },
  {
   "cell_type": "markdown",
   "metadata": {},
   "source": [
    "**MSE** - Média do quadrado do erro"
   ]
  },
  {
   "cell_type": "code",
   "execution_count": 39,
   "metadata": {},
   "outputs": [
    {
     "data": {
      "text/plain": [
       "583419247844.15625"
      ]
     },
     "execution_count": 39,
     "metadata": {},
     "output_type": "execute_result"
    }
   ],
   "source": [
    "mse = mean_squared_error(y_test, y_pred)\n",
    "mse"
   ]
  },
  {
   "cell_type": "markdown",
   "metadata": {},
   "source": [
    "**RMSE** - Raiz da média do erro quadrado"
   ]
  },
  {
   "cell_type": "code",
   "execution_count": 42,
   "metadata": {},
   "outputs": [
    {
     "data": {
      "text/plain": [
       "763818.85800506151"
      ]
     },
     "execution_count": 42,
     "metadata": {},
     "output_type": "execute_result"
    }
   ],
   "source": [
    "np.sqrt(mse)"
   ]
  },
  {
   "cell_type": "markdown",
   "metadata": {},
   "source": [
    "R² calculado de duas formas:\n",
    "- A partir da função de `score` contida no módulo `LinearRegression` \n",
    "- E a partir da função `r2_score` contida no módulo `sklearn.metrics`\n",
    "\n",
    "Para usar a `score` do `LinearRegression`  é preciso passar o x_teste para que antes de calcular o r² ele calcule o valor previsto (y_pred) pelo modelo a partir desse conjunto de dados (x_test), enquanto no `r2_score` já devemos passar os valores previstos. Olhando o código fonte, por dentro o `score` usa o `r2_score`"
   ]
  },
  {
   "cell_type": "code",
   "execution_count": 34,
   "metadata": {},
   "outputs": [
    {
     "data": {
      "text/plain": [
       "-141571723633.73026"
      ]
     },
     "execution_count": 34,
     "metadata": {},
     "output_type": "execute_result"
    }
   ],
   "source": [
    "reg.score(x_test, y_test)"
   ]
  },
  {
   "cell_type": "code",
   "execution_count": 35,
   "metadata": {},
   "outputs": [
    {
     "data": {
      "text/plain": [
       "-141571723633.73026"
      ]
     },
     "execution_count": 35,
     "metadata": {},
     "output_type": "execute_result"
    }
   ],
   "source": [
    "r2_score(y_test, y_pred)"
   ]
  },
  {
   "cell_type": "code",
   "execution_count": 46,
   "metadata": {},
   "outputs": [
    {
     "data": {
      "text/plain": [
       "-20196480077.026867"
      ]
     },
     "execution_count": 46,
     "metadata": {},
     "output_type": "execute_result"
    }
   ],
   "source": [
    "explained_variance_score(y_test, y_pred)"
   ]
  },
  {
   "cell_type": "markdown",
   "metadata": {},
   "source": [
    "## Regressão com Ridge e Lasso"
   ]
  },
  {
   "cell_type": "code",
   "execution_count": 43,
   "metadata": {
    "collapsed": true
   },
   "outputs": [],
   "source": [
    "from sklearn.linear_model import Ridge, RidgeCV, ElasticNet, LassoCV, LassoLarsCV\n",
    "from sklearn.model_selection import cross_val_score"
   ]
  },
  {
   "cell_type": "markdown",
   "metadata": {},
   "source": [
    "Função para calcular o RMSE do modelo passado como parâmentro"
   ]
  },
  {
   "cell_type": "code",
   "execution_count": 44,
   "metadata": {
    "collapsed": true
   },
   "outputs": [],
   "source": [
    "def calc_rmse(model):\n",
    "    rmse = np.sqrt(-cross_val_score(model, x_train, y_train, scoring=\"neg_mean_squared_error\", cv=5))\n",
    "    return rmse"
   ]
  },
  {
   "cell_type": "markdown",
   "metadata": {},
   "source": [
    "## Ridge"
   ]
  },
  {
   "cell_type": "code",
   "execution_count": 45,
   "metadata": {},
   "outputs": [
    {
     "data": {
      "text/plain": [
       "[0.95861448855858689,\n",
       " 0.95767511108504666,\n",
       " 0.95631826119644336,\n",
       " 0.95394832119686068,\n",
       " 0.9508565319561294,\n",
       " 0.94965474372399239,\n",
       " 0.9492804595618598,\n",
       " 0.95025956374759313,\n",
       " 0.95497486120767461,\n",
       " 0.96122108027518716,\n",
       " 0.96764967044874051]"
      ]
     },
     "execution_count": 45,
     "metadata": {},
     "output_type": "execute_result"
    }
   ],
   "source": [
    "model_ridge = Ridge()\n",
    "\n",
    "alphas = [0.05, 0.1, 0.3, 1, 3, 5, 10, 15, 30, 50, 75]\n",
    "ridge = [calc_rmse(Ridge(alpha= alpha)).mean() \n",
    "            for alpha in alphas]\n",
    "\n",
    "ridge"
   ]
  },
  {
   "cell_type": "code",
   "execution_count": 47,
   "metadata": {},
   "outputs": [
    {
     "data": {
      "text/plain": [
       "Text(0,0.5,'rmse')"
      ]
     },
     "execution_count": 47,
     "metadata": {},
     "output_type": "execute_result"
    },
    {
     "data": {
      "image/png": "[encoded data removed]",
      "text/plain": [
       "<matplotlib.figure.Figure at 0x7f1c0ff1db70>"
      ]
     },
     "metadata": {},
     "output_type": "display_data"
    }
   ],
   "source": [
    "ridge = pd.Series(ridge, index=alphas)\n",
    "ridge.plot(title = \"Validação\")\n",
    "plt.xlabel(\"alpha\")\n",
    "plt.ylabel(\"rmse\")"
   ]
  },
  {
   "cell_type": "code",
   "execution_count": 48,
   "metadata": {},
   "outputs": [
    {
     "data": {
      "text/plain": [
       "0.9492804595618598"
      ]
     },
     "execution_count": 48,
     "metadata": {},
     "output_type": "execute_result"
    }
   ],
   "source": [
    "ridge.min()"
   ]
  },
  {
   "cell_type": "markdown",
   "metadata": {},
   "source": [
    "## Lasso"
   ]
  },
  {
   "cell_type": "code",
   "execution_count": 49,
   "metadata": {},
   "outputs": [
    {
     "name": "stderr",
     "output_type": "stream",
     "text": [
      "/home/lsp/anaconda2/envs/notebookEnv/lib/python3.6/site-packages/sklearn/linear_model/coordinate_descent.py:491: ConvergenceWarning: Objective did not converge. You might want to increase the number of iterations. Fitting data with very small alpha may cause precision problems.\n",
      "  ConvergenceWarning)\n",
      "/home/lsp/anaconda2/envs/notebookEnv/lib/python3.6/site-packages/sklearn/linear_model/coordinate_descent.py:491: ConvergenceWarning: Objective did not converge. You might want to increase the number of iterations. Fitting data with very small alpha may cause precision problems.\n",
      "  ConvergenceWarning)\n",
      "/home/lsp/anaconda2/envs/notebookEnv/lib/python3.6/site-packages/sklearn/linear_model/coordinate_descent.py:491: ConvergenceWarning: Objective did not converge. You might want to increase the number of iterations. Fitting data with very small alpha may cause precision problems.\n",
      "  ConvergenceWarning)\n",
      "/home/lsp/anaconda2/envs/notebookEnv/lib/python3.6/site-packages/sklearn/linear_model/coordinate_descent.py:491: ConvergenceWarning: Objective did not converge. You might want to increase the number of iterations. Fitting data with very small alpha may cause precision problems.\n",
      "  ConvergenceWarning)\n",
      "/home/lsp/anaconda2/envs/notebookEnv/lib/python3.6/site-packages/sklearn/linear_model/coordinate_descent.py:491: ConvergenceWarning: Objective did not converge. You might want to increase the number of iterations. Fitting data with very small alpha may cause precision problems.\n",
      "  ConvergenceWarning)\n",
      "/home/lsp/anaconda2/envs/notebookEnv/lib/python3.6/site-packages/sklearn/linear_model/coordinate_descent.py:491: ConvergenceWarning: Objective did not converge. You might want to increase the number of iterations. Fitting data with very small alpha may cause precision problems.\n",
      "  ConvergenceWarning)\n",
      "/home/lsp/anaconda2/envs/notebookEnv/lib/python3.6/site-packages/sklearn/linear_model/coordinate_descent.py:491: ConvergenceWarning: Objective did not converge. You might want to increase the number of iterations. Fitting data with very small alpha may cause precision problems.\n",
      "  ConvergenceWarning)\n",
      "/home/lsp/anaconda2/envs/notebookEnv/lib/python3.6/site-packages/sklearn/linear_model/coordinate_descent.py:491: ConvergenceWarning: Objective did not converge. You might want to increase the number of iterations. Fitting data with very small alpha may cause precision problems.\n",
      "  ConvergenceWarning)\n",
      "/home/lsp/anaconda2/envs/notebookEnv/lib/python3.6/site-packages/sklearn/linear_model/coordinate_descent.py:491: ConvergenceWarning: Objective did not converge. You might want to increase the number of iterations. Fitting data with very small alpha may cause precision problems.\n",
      "  ConvergenceWarning)\n",
      "/home/lsp/anaconda2/envs/notebookEnv/lib/python3.6/site-packages/sklearn/linear_model/coordinate_descent.py:491: ConvergenceWarning: Objective did not converge. You might want to increase the number of iterations. Fitting data with very small alpha may cause precision problems.\n",
      "  ConvergenceWarning)\n",
      "/home/lsp/anaconda2/envs/notebookEnv/lib/python3.6/site-packages/sklearn/linear_model/coordinate_descent.py:491: ConvergenceWarning: Objective did not converge. You might want to increase the number of iterations. Fitting data with very small alpha may cause precision problems.\n",
      "  ConvergenceWarning)\n"
     ]
    },
    {
     "data": {
      "text/plain": [
       "array([ 1.02006985,  0.96965926,  0.93995828,  0.94175749,  0.94534735])"
      ]
     },
     "execution_count": 49,
     "metadata": {},
     "output_type": "execute_result"
    }
   ],
   "source": [
    "model_lasso = LassoCV(alphas=[1, 0.1, 0.001, 0.005]).fit(x_train, y_train)\n",
    "\n",
    "calc_rmse(model_lasso)"
   ]
  },
  {
   "cell_type": "code",
   "execution_count": null,
   "metadata": {
    "collapsed": true
   },
   "outputs": [],
   "source": []
  },
  {
   "cell_type": "code",
   "execution_count": 50,
   "metadata": {},
   "outputs": [
    {
     "name": "stdout",
     "output_type": "stream",
     "text": [
      "Lasso selecionou 114 variáveis e rejeitou 6923 variáveis\n"
     ]
    }
   ],
   "source": [
    "coeficientes = pd.Series(model_lasso.coef_, index = x_train.columns)\n",
    "print(\"Lasso selecionou \" + str(sum(coeficientes != 0)) + \" variáveis e rejeitou \" + \n",
    "      str(sum(coeficientes == 0)) + \" variáveis\")"
   ]
  },
  {
   "cell_type": "code",
   "execution_count": 51,
   "metadata": {},
   "outputs": [
    {
     "data": {
      "text/plain": [
       "uf_RR                             -1.033189\n",
       "uf_TO                             -0.882280\n",
       "uf_DF                             -0.881074\n",
       "uf_AP                             -0.837263\n",
       "nome_MAURO DE OLIVEIRA CARVALHO   -0.803587\n",
       "uf_AC                             -0.532937\n",
       "ocupacao_FISCAL                   -0.517047\n",
       "uf_MS                             -0.475047\n",
       "uf_MT                             -0.428219\n",
       "total_despesa                     -0.350571\n",
       "ocupacao_MÉDICO                    0.466671\n",
       "quantidade_doadores                0.513036\n",
       "uf_CE                              0.515153\n",
       "uf_SE                              0.525419\n",
       "ocupacao_CANTOR E COMPOSITOR       0.527445\n",
       "ocupacao_DEPUTADO                  0.595299\n",
       "media_despesa                      0.623502\n",
       "quantidade_fornecedores            0.748381\n",
       "nome_ENEAS FERREIRA CARNEIRO       1.453533\n",
       "nome_CLODOVIL HERNANDES            1.674419\n",
       "dtype: float64"
      ]
     },
     "execution_count": 51,
     "metadata": {},
     "output_type": "execute_result"
    }
   ],
   "source": [
    "descricao_coeficientes = pd.concat([coeficientes.sort_values().head(10),\n",
    "                                   coeficientes.sort_values().tail(10)])\n",
    "\n",
    "descricao_coeficientes"
   ]
  },
  {
   "cell_type": "code",
   "execution_count": 52,
   "metadata": {},
   "outputs": [
    {
     "data": {
      "text/plain": [
       "Text(0.5,1,'Resumo de coeficientes considerados')"
      ]
     },
     "execution_count": 52,
     "metadata": {},
     "output_type": "execute_result"
    },
    {
     "data": {
      "image/png": "[encoded data removed]",
      "text/plain": [
       "<matplotlib.figure.Figure at 0x7f1c100ac588>"
      ]
     },
     "metadata": {},
     "output_type": "display_data"
    }
   ],
   "source": [
    "matplotlib.rcParams['figure.figsize'] = (8.0, 10.0)\n",
    "descricao_coeficientes.plot(kind= 'barh')\n",
    "plt.title(\"Resumo de coeficientes considerados\")"
   ]
  },
  {
   "cell_type": "code",
   "execution_count": 53,
   "metadata": {},
   "outputs": [
    {
     "data": {
      "text/plain": [
       "<matplotlib.axes._subplots.AxesSubplot at 0x7f1c100636d8>"
      ]
     },
     "execution_count": 53,
     "metadata": {},
     "output_type": "execute_result"
    },
    {
     "data": {
      "image/png": "[encoded data removed]",
      "text/plain": [
       "<matplotlib.figure.Figure at 0x7f1c100f8240>"
      ]
     },
     "metadata": {},
     "output_type": "display_data"
    }
   ],
   "source": [
    "matplotlib.rcParams['figure.figsize'] = (6.0, 6.0)\n",
    "\n",
    "predicoes = pd.DataFrame({\"predicoes\":model_lasso.predict(x_train), \"true\":y_train})\n",
    "predicoes[\"residuos\"] = predicoes[\"true\"] - predicoes[\"predicoes\"]\n",
    "predicoes.plot(x = \"predicoes\", y = \"residuos\",kind = \"scatter\")"
   ]
  },
  {
   "cell_type": "markdown",
   "metadata": {},
   "source": [
    "## Regressão não paramétrica como KNN"
   ]
  },
  {
   "cell_type": "markdown",
   "metadata": {},
   "source": [
    "## Regressão não paramétrica como KNN"
   ]
  },
  {
   "cell_type": "markdown",
   "metadata": {},
   "source": [
    "## Árvores de Regressão"
   ]
  },
  {
   "cell_type": "markdown",
   "metadata": {},
   "source": [
    "## Otimizando hiperâmetros"
   ]
  },
  {
   "cell_type": "markdown",
   "metadata": {},
   "source": [
    "### RMSE de validação cruzada para"
   ]
  },
  {
   "cell_type": "markdown",
   "metadata": {},
   "source": [
    "### RMSE de validação cruzada para"
   ]
  },
  {
   "cell_type": "markdown",
   "metadata": {},
   "source": [
    "### RMSE de validação cruzada para"
   ]
  },
  {
   "cell_type": "markdown",
   "metadata": {},
   "source": [
    "### RMSE de validação cruzada para"
   ]
  },
  {
   "cell_type": "markdown",
   "metadata": {},
   "source": [
    "## Resíduos x Predições"
   ]
  },
  {
   "cell_type": "markdown",
   "metadata": {},
   "source": [
    "## Retreino com 2006 e 2010"
   ]
  },
  {
   "cell_type": "markdown",
   "metadata": {},
   "source": [
    "## Dentre os modelos avaliados, qual foi o que deu o melhor resultado nos dados de 2014 em termos de RMSE? "
   ]
  }
 ],
 "metadata": {
  "kernelspec": {
   "display_name": "Python 3",
   "language": "python",
   "name": "python3"
  },
  "language_info": {
   "codemirror_mode": {
    "name": "ipython",
    "version": 3
   },
   "file_extension": ".py",
   "mimetype": "text/x-python",
   "name": "python",
   "nbconvert_exporter": "python",
   "pygments_lexer": "ipython3",
   "version": "3.6.3"
  }
 },
 "nbformat": 4,
 "nbformat_minor": 2
}
