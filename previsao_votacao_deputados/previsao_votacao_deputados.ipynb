{
 "cells": [
  {
   "cell_type": "markdown",
   "metadata": {},
   "source": [
    "# Previsão de Votação de Deputados\n",
    "\n",
    "Modelos preditivos de regressão utilizando a biblioteca [scikit learn](http://scikit-learn.org/stable/index.html) para a predição dos votos de deputados federais considerando dados das últimas eleições.\n",
    "\n",
    "Tutorial utilizado como base [Regularized Linear Models](https://www.kaggle.com/apapiu/regularized-linear-models)\n"
   ]
  },
  {
   "cell_type": "code",
   "execution_count": 1,
   "metadata": {
    "collapsed": true
   },
   "outputs": [],
   "source": [
    "%matplotlib inline\n",
    "\n",
    "import pandas as pd\n",
    "import matplotlib\n",
    "import matplotlib.pyplot as plt\n",
    "import numpy as np"
   ]
  },
  {
   "cell_type": "markdown",
   "metadata": {},
   "source": [
    "## Importando dados do arquivo e visualizando as 3 primeiras linhas"
   ]
  },
  {
   "cell_type": "code",
   "execution_count": 2,
   "metadata": {
    "scrolled": true
   },
   "outputs": [
    {
     "data": {
      "text/html": [
       "<div>\n",
       "<style>\n",
       "    .dataframe thead tr:only-child th {\n",
       "        text-align: right;\n",
       "    }\n",
       "\n",
       "    .dataframe thead th {\n",
       "        text-align: left;\n",
       "    }\n",
       "\n",
       "    .dataframe tbody tr th {\n",
       "        vertical-align: top;\n",
       "    }\n",
       "</style>\n",
       "<table border=\"1\" class=\"dataframe\">\n",
       "  <thead>\n",
       "    <tr style=\"text-align: right;\">\n",
       "      <th></th>\n",
       "      <th>ano</th>\n",
       "      <th>sequencial_candidato</th>\n",
       "      <th>nome</th>\n",
       "      <th>uf</th>\n",
       "      <th>partido</th>\n",
       "      <th>quantidade_doacoes</th>\n",
       "      <th>quantidade_doadores</th>\n",
       "      <th>total_receita</th>\n",
       "      <th>media_receita</th>\n",
       "      <th>recursos_de_outros_candidatos/comites</th>\n",
       "      <th>...</th>\n",
       "      <th>quantidade_despesas</th>\n",
       "      <th>quantidade_fornecedores</th>\n",
       "      <th>total_despesa</th>\n",
       "      <th>media_despesa</th>\n",
       "      <th>cargo</th>\n",
       "      <th>sexo</th>\n",
       "      <th>grau</th>\n",
       "      <th>estado_civil</th>\n",
       "      <th>ocupacao</th>\n",
       "      <th>votos</th>\n",
       "    </tr>\n",
       "  </thead>\n",
       "  <tbody>\n",
       "    <tr>\n",
       "      <th>0</th>\n",
       "      <td>2006</td>\n",
       "      <td>10001</td>\n",
       "      <td>JOSÉ LUIZ NOGUEIRA DE SOUSA</td>\n",
       "      <td>AP</td>\n",
       "      <td>PT</td>\n",
       "      <td>6</td>\n",
       "      <td>6</td>\n",
       "      <td>16600.0</td>\n",
       "      <td>2766.666667</td>\n",
       "      <td>NaN</td>\n",
       "      <td>...</td>\n",
       "      <td>14</td>\n",
       "      <td>14</td>\n",
       "      <td>16583.60</td>\n",
       "      <td>1184.542857</td>\n",
       "      <td>DEPUTADO FEDERAL</td>\n",
       "      <td>MASCULINO</td>\n",
       "      <td>ENSINO MÉDIO COMPLETO</td>\n",
       "      <td>CASADO(A)</td>\n",
       "      <td>VEREADOR</td>\n",
       "      <td>8579</td>\n",
       "    </tr>\n",
       "    <tr>\n",
       "      <th>1</th>\n",
       "      <td>2006</td>\n",
       "      <td>10002</td>\n",
       "      <td>LOIVA DE OLIVEIRA</td>\n",
       "      <td>RO</td>\n",
       "      <td>PT</td>\n",
       "      <td>13</td>\n",
       "      <td>13</td>\n",
       "      <td>22826.0</td>\n",
       "      <td>1755.846154</td>\n",
       "      <td>6625.0</td>\n",
       "      <td>...</td>\n",
       "      <td>24</td>\n",
       "      <td>23</td>\n",
       "      <td>20325.99</td>\n",
       "      <td>883.738696</td>\n",
       "      <td>DEPUTADO FEDERAL</td>\n",
       "      <td>FEMININO</td>\n",
       "      <td>SUPERIOR COMPLETO</td>\n",
       "      <td>SOLTEIRO(A)</td>\n",
       "      <td>SERVIDOR PÚBLICO ESTADUAL</td>\n",
       "      <td>2757</td>\n",
       "    </tr>\n",
       "    <tr>\n",
       "      <th>2</th>\n",
       "      <td>2006</td>\n",
       "      <td>10002</td>\n",
       "      <td>MARIA DALVA DE SOUZA FIGUEIREDO</td>\n",
       "      <td>AP</td>\n",
       "      <td>PT</td>\n",
       "      <td>17</td>\n",
       "      <td>16</td>\n",
       "      <td>148120.8</td>\n",
       "      <td>9257.550000</td>\n",
       "      <td>2250.0</td>\n",
       "      <td>...</td>\n",
       "      <td>123</td>\n",
       "      <td>108</td>\n",
       "      <td>146011.70</td>\n",
       "      <td>1351.960185</td>\n",
       "      <td>DEPUTADO FEDERAL</td>\n",
       "      <td>FEMININO</td>\n",
       "      <td>SUPERIOR COMPLETO</td>\n",
       "      <td>VIÚVO(A)</td>\n",
       "      <td>PEDAGOGO</td>\n",
       "      <td>17428</td>\n",
       "    </tr>\n",
       "  </tbody>\n",
       "</table>\n",
       "<p>3 rows × 23 columns</p>\n",
       "</div>"
      ],
      "text/plain": [
       "    ano  sequencial_candidato                             nome  uf partido  \\\n",
       "0  2006                 10001      JOSÉ LUIZ NOGUEIRA DE SOUSA  AP      PT   \n",
       "1  2006                 10002                LOIVA DE OLIVEIRA  RO      PT   \n",
       "2  2006                 10002  MARIA DALVA DE SOUZA FIGUEIREDO  AP      PT   \n",
       "\n",
       "   quantidade_doacoes  quantidade_doadores  total_receita  media_receita  \\\n",
       "0                   6                    6        16600.0    2766.666667   \n",
       "1                  13                   13        22826.0    1755.846154   \n",
       "2                  17                   16       148120.8    9257.550000   \n",
       "\n",
       "   recursos_de_outros_candidatos/comites  ...    quantidade_despesas  \\\n",
       "0                                    NaN  ...                     14   \n",
       "1                                 6625.0  ...                     24   \n",
       "2                                 2250.0  ...                    123   \n",
       "\n",
       "   quantidade_fornecedores  total_despesa  media_despesa             cargo  \\\n",
       "0                       14       16583.60    1184.542857  DEPUTADO FEDERAL   \n",
       "1                       23       20325.99     883.738696  DEPUTADO FEDERAL   \n",
       "2                      108      146011.70    1351.960185  DEPUTADO FEDERAL   \n",
       "\n",
       "        sexo                   grau estado_civil                   ocupacao  \\\n",
       "0  MASCULINO  ENSINO MÉDIO COMPLETO    CASADO(A)                   VEREADOR   \n",
       "1   FEMININO      SUPERIOR COMPLETO  SOLTEIRO(A)  SERVIDOR PÚBLICO ESTADUAL   \n",
       "2   FEMININO      SUPERIOR COMPLETO     VIÚVO(A)                   PEDAGOGO   \n",
       "\n",
       "   votos  \n",
       "0   8579  \n",
       "1   2757  \n",
       "2  17428  \n",
       "\n",
       "[3 rows x 23 columns]"
      ]
     },
     "execution_count": 2,
     "metadata": {},
     "output_type": "execute_result"
    }
   ],
   "source": [
    "eleicoes = pd.read_csv('/home/lsp/dados/am/eleicoes_2006_a_2010.csv')\n",
    "eleicoes[:3]"
   ]
  },
  {
   "cell_type": "markdown",
   "metadata": {},
   "source": [
    "A partir do livro Análise Multivariada de Dados (Hair, Black, Babin, Anderson e Tathan) 6ª edição, existem 6 etapas para a construção de modelos multivariados:\n",
    "- 1 Definição do problema\n",
    "- 2 Definição do plano de análise\n",
    "- 3 Avaliação das suposições\n",
    "- 4 Estimação do modelo\n",
    "- 5 Interpretação da variáveis\n",
    "- 6 Validação\n",
    "\n",
    "O objetivo de trazer essas etapas é pensar em como elas são abordados nesse caso prático de regressão.\n",
    "- 1 Definição do problema: Predição da quantidade de votos de um candidato a deputado com base em algumas informações da campanha.\n",
    "- 2 Definição do plano de análise:\n",
    "    - Análise dos dados\n",
    "    - Correções e transformações necessárias\n",
    "    - Identificar quais atributos são mais relevantes\n",
    "    - Descrever suposições a partir da etapa anterior\n",
    "- 3 Avaliação das suposições\n",
    "- 4 Estimação do modelo\n",
    "- 5 Interpretação da variáveis\n",
    "- 6 Validação"
   ]
  },
  {
   "cell_type": "markdown",
   "metadata": {},
   "source": [
    "## Observando os dados"
   ]
  },
  {
   "cell_type": "code",
   "execution_count": 3,
   "metadata": {},
   "outputs": [
    {
     "data": {
      "text/html": [
       "<div>\n",
       "<style>\n",
       "    .dataframe thead tr:only-child th {\n",
       "        text-align: right;\n",
       "    }\n",
       "\n",
       "    .dataframe thead th {\n",
       "        text-align: left;\n",
       "    }\n",
       "\n",
       "    .dataframe tbody tr th {\n",
       "        vertical-align: top;\n",
       "    }\n",
       "</style>\n",
       "<table border=\"1\" class=\"dataframe\">\n",
       "  <thead>\n",
       "    <tr style=\"text-align: right;\">\n",
       "      <th></th>\n",
       "      <th>count</th>\n",
       "      <th>mean</th>\n",
       "      <th>std</th>\n",
       "      <th>min</th>\n",
       "      <th>25%</th>\n",
       "      <th>50%</th>\n",
       "      <th>75%</th>\n",
       "      <th>max</th>\n",
       "    </tr>\n",
       "  </thead>\n",
       "  <tbody>\n",
       "    <tr>\n",
       "      <th>ano</th>\n",
       "      <td>7330.0</td>\n",
       "      <td>2.008151e+03</td>\n",
       "      <td>1.994416e+00</td>\n",
       "      <td>2006.00</td>\n",
       "      <td>2006.000000</td>\n",
       "      <td>2.010000e+03</td>\n",
       "      <td>2.010000e+03</td>\n",
       "      <td>2.010000e+03</td>\n",
       "    </tr>\n",
       "    <tr>\n",
       "      <th>sequencial_candidato</th>\n",
       "      <td>7330.0</td>\n",
       "      <td>9.179127e+10</td>\n",
       "      <td>9.924629e+10</td>\n",
       "      <td>10001.00</td>\n",
       "      <td>10565.000000</td>\n",
       "      <td>5.000000e+10</td>\n",
       "      <td>1.900000e+11</td>\n",
       "      <td>2.700000e+11</td>\n",
       "    </tr>\n",
       "    <tr>\n",
       "      <th>quantidade_doacoes</th>\n",
       "      <td>7330.0</td>\n",
       "      <td>2.831010e+01</td>\n",
       "      <td>1.186551e+02</td>\n",
       "      <td>1.00</td>\n",
       "      <td>4.000000</td>\n",
       "      <td>9.000000e+00</td>\n",
       "      <td>2.400000e+01</td>\n",
       "      <td>6.997000e+03</td>\n",
       "    </tr>\n",
       "    <tr>\n",
       "      <th>quantidade_doadores</th>\n",
       "      <td>7330.0</td>\n",
       "      <td>2.581746e+01</td>\n",
       "      <td>1.036594e+02</td>\n",
       "      <td>1.00</td>\n",
       "      <td>4.000000</td>\n",
       "      <td>8.000000e+00</td>\n",
       "      <td>2.200000e+01</td>\n",
       "      <td>5.800000e+03</td>\n",
       "    </tr>\n",
       "    <tr>\n",
       "      <th>total_receita</th>\n",
       "      <td>7169.0</td>\n",
       "      <td>1.544899e+05</td>\n",
       "      <td>3.953880e+05</td>\n",
       "      <td>0.00</td>\n",
       "      <td>2700.000000</td>\n",
       "      <td>1.209578e+04</td>\n",
       "      <td>8.929956e+04</td>\n",
       "      <td>4.539727e+06</td>\n",
       "    </tr>\n",
       "    <tr>\n",
       "      <th>media_receita</th>\n",
       "      <td>7169.0</td>\n",
       "      <td>5.485598e+03</td>\n",
       "      <td>1.411653e+04</td>\n",
       "      <td>0.00</td>\n",
       "      <td>622.857143</td>\n",
       "      <td>1.540543e+03</td>\n",
       "      <td>4.662500e+03</td>\n",
       "      <td>5.001800e+05</td>\n",
       "    </tr>\n",
       "    <tr>\n",
       "      <th>recursos_de_outros_candidatos/comites</th>\n",
       "      <td>4940.0</td>\n",
       "      <td>3.002116e+04</td>\n",
       "      <td>1.280932e+05</td>\n",
       "      <td>2.41</td>\n",
       "      <td>1180.000000</td>\n",
       "      <td>3.522570e+03</td>\n",
       "      <td>1.327550e+04</td>\n",
       "      <td>3.664205e+06</td>\n",
       "    </tr>\n",
       "    <tr>\n",
       "      <th>recursos_de_pessoas_fisicas</th>\n",
       "      <td>4647.0</td>\n",
       "      <td>3.730931e+04</td>\n",
       "      <td>8.215398e+04</td>\n",
       "      <td>0.03</td>\n",
       "      <td>2000.000000</td>\n",
       "      <td>9.000000e+03</td>\n",
       "      <td>3.756234e+04</td>\n",
       "      <td>1.403049e+06</td>\n",
       "    </tr>\n",
       "    <tr>\n",
       "      <th>recursos_de_pessoas_juridicas</th>\n",
       "      <td>3354.0</td>\n",
       "      <td>1.761195e+05</td>\n",
       "      <td>3.517541e+05</td>\n",
       "      <td>0.00</td>\n",
       "      <td>3422.500000</td>\n",
       "      <td>2.612000e+04</td>\n",
       "      <td>1.755218e+05</td>\n",
       "      <td>3.178226e+06</td>\n",
       "    </tr>\n",
       "    <tr>\n",
       "      <th>recursos_proprios</th>\n",
       "      <td>4942.0</td>\n",
       "      <td>3.914169e+04</td>\n",
       "      <td>1.839980e+05</td>\n",
       "      <td>0.00</td>\n",
       "      <td>1177.232500</td>\n",
       "      <td>5.000000e+03</td>\n",
       "      <td>2.027459e+04</td>\n",
       "      <td>5.525600e+06</td>\n",
       "    </tr>\n",
       "    <tr>\n",
       "      <th>quantidade_despesas</th>\n",
       "      <td>7330.0</td>\n",
       "      <td>1.333398e+02</td>\n",
       "      <td>4.168388e+02</td>\n",
       "      <td>1.00</td>\n",
       "      <td>6.000000</td>\n",
       "      <td>2.100000e+01</td>\n",
       "      <td>8.300000e+01</td>\n",
       "      <td>9.932000e+03</td>\n",
       "    </tr>\n",
       "    <tr>\n",
       "      <th>quantidade_fornecedores</th>\n",
       "      <td>7330.0</td>\n",
       "      <td>1.101799e+02</td>\n",
       "      <td>3.384930e+02</td>\n",
       "      <td>1.00</td>\n",
       "      <td>5.000000</td>\n",
       "      <td>1.800000e+01</td>\n",
       "      <td>7.100000e+01</td>\n",
       "      <td>8.359000e+03</td>\n",
       "    </tr>\n",
       "    <tr>\n",
       "      <th>total_despesa</th>\n",
       "      <td>7330.0</td>\n",
       "      <td>1.588707e+05</td>\n",
       "      <td>3.951814e+05</td>\n",
       "      <td>0.00</td>\n",
       "      <td>2781.405000</td>\n",
       "      <td>1.297986e+04</td>\n",
       "      <td>1.006515e+05</td>\n",
       "      <td>4.989491e+06</td>\n",
       "    </tr>\n",
       "    <tr>\n",
       "      <th>media_despesa</th>\n",
       "      <td>7330.0</td>\n",
       "      <td>1.500034e+03</td>\n",
       "      <td>6.363831e+03</td>\n",
       "      <td>0.00</td>\n",
       "      <td>398.452936</td>\n",
       "      <td>7.946782e+02</td>\n",
       "      <td>1.564291e+03</td>\n",
       "      <td>5.001770e+05</td>\n",
       "    </tr>\n",
       "    <tr>\n",
       "      <th>votos</th>\n",
       "      <td>7330.0</td>\n",
       "      <td>2.280617e+04</td>\n",
       "      <td>4.810133e+04</td>\n",
       "      <td>2.00</td>\n",
       "      <td>860.000000</td>\n",
       "      <td>3.025000e+03</td>\n",
       "      <td>2.027450e+04</td>\n",
       "      <td>1.353820e+06</td>\n",
       "    </tr>\n",
       "  </tbody>\n",
       "</table>\n",
       "</div>"
      ],
      "text/plain": [
       "                                        count          mean           std  \\\n",
       "ano                                    7330.0  2.008151e+03  1.994416e+00   \n",
       "sequencial_candidato                   7330.0  9.179127e+10  9.924629e+10   \n",
       "quantidade_doacoes                     7330.0  2.831010e+01  1.186551e+02   \n",
       "quantidade_doadores                    7330.0  2.581746e+01  1.036594e+02   \n",
       "total_receita                          7169.0  1.544899e+05  3.953880e+05   \n",
       "media_receita                          7169.0  5.485598e+03  1.411653e+04   \n",
       "recursos_de_outros_candidatos/comites  4940.0  3.002116e+04  1.280932e+05   \n",
       "recursos_de_pessoas_fisicas            4647.0  3.730931e+04  8.215398e+04   \n",
       "recursos_de_pessoas_juridicas          3354.0  1.761195e+05  3.517541e+05   \n",
       "recursos_proprios                      4942.0  3.914169e+04  1.839980e+05   \n",
       "quantidade_despesas                    7330.0  1.333398e+02  4.168388e+02   \n",
       "quantidade_fornecedores                7330.0  1.101799e+02  3.384930e+02   \n",
       "total_despesa                          7330.0  1.588707e+05  3.951814e+05   \n",
       "media_despesa                          7330.0  1.500034e+03  6.363831e+03   \n",
       "votos                                  7330.0  2.280617e+04  4.810133e+04   \n",
       "\n",
       "                                            min           25%           50%  \\\n",
       "ano                                     2006.00   2006.000000  2.010000e+03   \n",
       "sequencial_candidato                   10001.00  10565.000000  5.000000e+10   \n",
       "quantidade_doacoes                         1.00      4.000000  9.000000e+00   \n",
       "quantidade_doadores                        1.00      4.000000  8.000000e+00   \n",
       "total_receita                              0.00   2700.000000  1.209578e+04   \n",
       "media_receita                              0.00    622.857143  1.540543e+03   \n",
       "recursos_de_outros_candidatos/comites      2.41   1180.000000  3.522570e+03   \n",
       "recursos_de_pessoas_fisicas                0.03   2000.000000  9.000000e+03   \n",
       "recursos_de_pessoas_juridicas              0.00   3422.500000  2.612000e+04   \n",
       "recursos_proprios                          0.00   1177.232500  5.000000e+03   \n",
       "quantidade_despesas                        1.00      6.000000  2.100000e+01   \n",
       "quantidade_fornecedores                    1.00      5.000000  1.800000e+01   \n",
       "total_despesa                              0.00   2781.405000  1.297986e+04   \n",
       "media_despesa                              0.00    398.452936  7.946782e+02   \n",
       "votos                                      2.00    860.000000  3.025000e+03   \n",
       "\n",
       "                                                75%           max  \n",
       "ano                                    2.010000e+03  2.010000e+03  \n",
       "sequencial_candidato                   1.900000e+11  2.700000e+11  \n",
       "quantidade_doacoes                     2.400000e+01  6.997000e+03  \n",
       "quantidade_doadores                    2.200000e+01  5.800000e+03  \n",
       "total_receita                          8.929956e+04  4.539727e+06  \n",
       "media_receita                          4.662500e+03  5.001800e+05  \n",
       "recursos_de_outros_candidatos/comites  1.327550e+04  3.664205e+06  \n",
       "recursos_de_pessoas_fisicas            3.756234e+04  1.403049e+06  \n",
       "recursos_de_pessoas_juridicas          1.755218e+05  3.178226e+06  \n",
       "recursos_proprios                      2.027459e+04  5.525600e+06  \n",
       "quantidade_despesas                    8.300000e+01  9.932000e+03  \n",
       "quantidade_fornecedores                7.100000e+01  8.359000e+03  \n",
       "total_despesa                          1.006515e+05  4.989491e+06  \n",
       "media_despesa                          1.564291e+03  5.001770e+05  \n",
       "votos                                  2.027450e+04  1.353820e+06  "
      ]
     },
     "execution_count": 3,
     "metadata": {},
     "output_type": "execute_result"
    }
   ],
   "source": [
    "eleicoes.describe().transpose()"
   ]
  },
  {
   "cell_type": "markdown",
   "metadata": {},
   "source": [
    "Atributos numéricos:\n",
    "quantidade_doacoes\t\n",
    "- quantidade_doadores\t\n",
    "- total_receita\t\n",
    "- media_receita\t\n",
    "- recursos_de_outros_candidatos/comites\t\n",
    "- recursos_de_pessoas_fisicas\t\n",
    "- recursos_de_pessoas_juridicas\t\n",
    "- recursos_proprios\t\n",
    "- quantidade_despesas\t\n",
    "- quantidade_fornecedores\t\n",
    "- total_despesa\t\n",
    "- media_despesa\t\t\n",
    "- votos\n",
    "\n",
    "Atributos categórigos:\n",
    "- ano\t\n",
    "- sequencial_candidato\t\n",
    "- nome\t\n",
    "- uf\t\n",
    "- partido\t\n",
    "- cargo\t\n",
    "- sexo\t\n",
    "- grau\t\n",
    "- estado_civil\t\n",
    "- ocupacao\t\n",
    "\n",
    "**Como saber quais variáveis normalizar e quais variáveis utilizar em um modelo?**\n"
   ]
  },
  {
   "cell_type": "markdown",
   "metadata": {},
   "source": [
    "## Distribuição das variáveis "
   ]
  },
  {
   "cell_type": "markdown",
   "metadata": {},
   "source": [
    "### Ao observar a sitruibuição do atributo total_receita podemos obeservar que ele está enviesado para a direta. Para resolver, utilizamos a transformação logarítmica."
   ]
  },
  {
   "cell_type": "code",
   "execution_count": 4,
   "metadata": {},
   "outputs": [
    {
     "data": {
      "text/plain": [
       "array([[<matplotlib.axes._subplots.AxesSubplot object at 0x7f95b3a3e438>]], dtype=object)"
      ]
     },
     "execution_count": 4,
     "metadata": {},
     "output_type": "execute_result"
    },
    {
     "data": {
      "image/png": "[encoded data removed]",
      "text/plain": [
       "<matplotlib.figure.Figure at 0x7f95b3a69e80>"
      ]
     },
     "metadata": {},
     "output_type": "display_data"
    }
   ],
   "source": [
    "matplotlib.rcParams['figure.figsize'] = (12.0, 6.0)\n",
    "var = pd.DataFrame({\"Total de Receita\":eleicoes['total_receita']})\n",
    "\n",
    "var.hist()"
   ]
  },
  {
   "cell_type": "code",
   "execution_count": 5,
   "metadata": {},
   "outputs": [
    {
     "data": {
      "text/plain": [
       "array([[<matplotlib.axes._subplots.AxesSubplot object at 0x7f95abc1db38>]], dtype=object)"
      ]
     },
     "execution_count": 5,
     "metadata": {},
     "output_type": "execute_result"
    },
    {
     "data": {
      "image/png": "[encoded data removed]",
      "text/plain": [
       "<matplotlib.figure.Figure at 0x7f95d833c1d0>"
      ]
     },
     "metadata": {},
     "output_type": "display_data"
    }
   ],
   "source": [
    "matplotlib.rcParams['figure.figsize'] = (12.0, 6.0)\n",
    "var = pd.DataFrame({\"log(total_receita + 1)\":np.log1p(eleicoes['total_receita'])})\n",
    "\n",
    "var.hist()"
   ]
  },
  {
   "cell_type": "markdown",
   "metadata": {},
   "source": [
    "### Também é possível observar um enviesamento no atributo votos"
   ]
  },
  {
   "cell_type": "code",
   "execution_count": 6,
   "metadata": {},
   "outputs": [
    {
     "data": {
      "text/plain": [
       "array([[<matplotlib.axes._subplots.AxesSubplot object at 0x7f95aba33940>]], dtype=object)"
      ]
     },
     "execution_count": 6,
     "metadata": {},
     "output_type": "execute_result"
    },
    {
     "data": {
      "image/png": "[encoded data removed]",
      "text/plain": [
       "<matplotlib.figure.Figure at 0x7f95d833c2e8>"
      ]
     },
     "metadata": {},
     "output_type": "display_data"
    }
   ],
   "source": [
    "var = pd.DataFrame({\"Votos\":eleicoes['votos']})\n",
    "\n",
    "var.hist()"
   ]
  },
  {
   "cell_type": "markdown",
   "metadata": {
    "collapsed": true
   },
   "source": [
    "### E para lidar com isso vamos fazer a mesma transformação anterior. Vamos replicar essa transformação para outras variáveis numéricas do conjunto de dados."
   ]
  },
  {
   "cell_type": "markdown",
   "metadata": {},
   "source": [
    "## Transformando variáveis numéricas"
   ]
  },
  {
   "cell_type": "markdown",
   "metadata": {},
   "source": [
    "Selecionando as variáveis numéricas"
   ]
  },
  {
   "cell_type": "code",
   "execution_count": 7,
   "metadata": {},
   "outputs": [
    {
     "data": {
      "text/html": [
       "<div>\n",
       "<style>\n",
       "    .dataframe thead tr:only-child th {\n",
       "        text-align: right;\n",
       "    }\n",
       "\n",
       "    .dataframe thead th {\n",
       "        text-align: left;\n",
       "    }\n",
       "\n",
       "    .dataframe tbody tr th {\n",
       "        vertical-align: top;\n",
       "    }\n",
       "</style>\n",
       "<table border=\"1\" class=\"dataframe\">\n",
       "  <thead>\n",
       "    <tr style=\"text-align: right;\">\n",
       "      <th></th>\n",
       "      <th>ano</th>\n",
       "      <th>sequencial_candidato</th>\n",
       "      <th>quantidade_doacoes</th>\n",
       "      <th>quantidade_doadores</th>\n",
       "      <th>total_receita</th>\n",
       "      <th>media_receita</th>\n",
       "      <th>recursos_de_outros_candidatos/comites</th>\n",
       "      <th>recursos_de_pessoas_fisicas</th>\n",
       "      <th>recursos_de_pessoas_juridicas</th>\n",
       "      <th>recursos_proprios</th>\n",
       "      <th>quantidade_despesas</th>\n",
       "      <th>quantidade_fornecedores</th>\n",
       "      <th>total_despesa</th>\n",
       "      <th>media_despesa</th>\n",
       "      <th>votos</th>\n",
       "    </tr>\n",
       "  </thead>\n",
       "  <tbody>\n",
       "    <tr>\n",
       "      <th>0</th>\n",
       "      <td>2006</td>\n",
       "      <td>10001</td>\n",
       "      <td>6</td>\n",
       "      <td>6</td>\n",
       "      <td>16600.00</td>\n",
       "      <td>2766.666667</td>\n",
       "      <td>NaN</td>\n",
       "      <td>9000.0</td>\n",
       "      <td>6300.00</td>\n",
       "      <td>1300.0</td>\n",
       "      <td>14</td>\n",
       "      <td>14</td>\n",
       "      <td>16583.60</td>\n",
       "      <td>1184.542857</td>\n",
       "      <td>8579</td>\n",
       "    </tr>\n",
       "    <tr>\n",
       "      <th>1</th>\n",
       "      <td>2006</td>\n",
       "      <td>10002</td>\n",
       "      <td>13</td>\n",
       "      <td>13</td>\n",
       "      <td>22826.00</td>\n",
       "      <td>1755.846154</td>\n",
       "      <td>6625.0</td>\n",
       "      <td>15000.0</td>\n",
       "      <td>1000.00</td>\n",
       "      <td>201.0</td>\n",
       "      <td>24</td>\n",
       "      <td>23</td>\n",
       "      <td>20325.99</td>\n",
       "      <td>883.738696</td>\n",
       "      <td>2757</td>\n",
       "    </tr>\n",
       "    <tr>\n",
       "      <th>2</th>\n",
       "      <td>2006</td>\n",
       "      <td>10002</td>\n",
       "      <td>17</td>\n",
       "      <td>16</td>\n",
       "      <td>148120.80</td>\n",
       "      <td>9257.550000</td>\n",
       "      <td>2250.0</td>\n",
       "      <td>34150.0</td>\n",
       "      <td>62220.80</td>\n",
       "      <td>59500.0</td>\n",
       "      <td>123</td>\n",
       "      <td>108</td>\n",
       "      <td>146011.70</td>\n",
       "      <td>1351.960185</td>\n",
       "      <td>17428</td>\n",
       "    </tr>\n",
       "    <tr>\n",
       "      <th>3</th>\n",
       "      <td>2006</td>\n",
       "      <td>10002</td>\n",
       "      <td>6</td>\n",
       "      <td>6</td>\n",
       "      <td>3001.12</td>\n",
       "      <td>500.186667</td>\n",
       "      <td>NaN</td>\n",
       "      <td>1150.0</td>\n",
       "      <td>1101.12</td>\n",
       "      <td>750.0</td>\n",
       "      <td>8</td>\n",
       "      <td>8</td>\n",
       "      <td>3001.12</td>\n",
       "      <td>375.140000</td>\n",
       "      <td>1193</td>\n",
       "    </tr>\n",
       "    <tr>\n",
       "      <th>4</th>\n",
       "      <td>2006</td>\n",
       "      <td>10003</td>\n",
       "      <td>48</td>\n",
       "      <td>48</td>\n",
       "      <td>NaN</td>\n",
       "      <td>NaN</td>\n",
       "      <td>NaN</td>\n",
       "      <td>50878.0</td>\n",
       "      <td>NaN</td>\n",
       "      <td>68942.0</td>\n",
       "      <td>133</td>\n",
       "      <td>120</td>\n",
       "      <td>116416.64</td>\n",
       "      <td>970.138667</td>\n",
       "      <td>29401</td>\n",
       "    </tr>\n",
       "  </tbody>\n",
       "</table>\n",
       "</div>"
      ],
      "text/plain": [
       "    ano  sequencial_candidato  quantidade_doacoes  quantidade_doadores  \\\n",
       "0  2006                 10001                   6                    6   \n",
       "1  2006                 10002                  13                   13   \n",
       "2  2006                 10002                  17                   16   \n",
       "3  2006                 10002                   6                    6   \n",
       "4  2006                 10003                  48                   48   \n",
       "\n",
       "   total_receita  media_receita  recursos_de_outros_candidatos/comites  \\\n",
       "0       16600.00    2766.666667                                    NaN   \n",
       "1       22826.00    1755.846154                                 6625.0   \n",
       "2      148120.80    9257.550000                                 2250.0   \n",
       "3        3001.12     500.186667                                    NaN   \n",
       "4            NaN            NaN                                    NaN   \n",
       "\n",
       "   recursos_de_pessoas_fisicas  recursos_de_pessoas_juridicas  \\\n",
       "0                       9000.0                        6300.00   \n",
       "1                      15000.0                        1000.00   \n",
       "2                      34150.0                       62220.80   \n",
       "3                       1150.0                        1101.12   \n",
       "4                      50878.0                            NaN   \n",
       "\n",
       "   recursos_proprios  quantidade_despesas  quantidade_fornecedores  \\\n",
       "0             1300.0                   14                       14   \n",
       "1              201.0                   24                       23   \n",
       "2            59500.0                  123                      108   \n",
       "3              750.0                    8                        8   \n",
       "4            68942.0                  133                      120   \n",
       "\n",
       "   total_despesa  media_despesa  votos  \n",
       "0       16583.60    1184.542857   8579  \n",
       "1       20325.99     883.738696   2757  \n",
       "2      146011.70    1351.960185  17428  \n",
       "3        3001.12     375.140000   1193  \n",
       "4      116416.64     970.138667  29401  "
      ]
     },
     "execution_count": 7,
     "metadata": {},
     "output_type": "execute_result"
    }
   ],
   "source": [
    "numeric_features = eleicoes.dtypes[eleicoes.dtypes != \"object\"].index\n",
    "eleicoes[numeric_features][:5]"
   ]
  },
  {
   "cell_type": "markdown",
   "metadata": {},
   "source": [
    "Verificando o viés das variáveis numéricas"
   ]
  },
  {
   "cell_type": "code",
   "execution_count": 8,
   "metadata": {},
   "outputs": [
    {
     "data": {
      "text/plain": [
       "ano                                      -0.151624\n",
       "sequencial_candidato                      0.447496\n",
       "quantidade_doacoes                       39.982260\n",
       "quantidade_doadores                      37.541762\n",
       "total_receita                             4.599988\n",
       "media_receita                            12.105833\n",
       "recursos_de_outros_candidatos/comites    13.892631\n",
       "recursos_de_pessoas_fisicas               6.800271\n",
       "recursos_de_pessoas_juridicas             3.431190\n",
       "recursos_proprios                        15.782559\n",
       "quantidade_despesas                       8.546077\n",
       "quantidade_fornecedores                   8.424869\n",
       "total_despesa                             4.534959\n",
       "media_despesa                            66.379222\n",
       "votos                                     6.669571\n",
       "dtype: float64"
      ]
     },
     "execution_count": 8,
     "metadata": {},
     "output_type": "execute_result"
    }
   ],
   "source": [
    "skewed_features = eleicoes[numeric_features].apply(lambda x: x.dropna().skew())\n",
    "skewed_features"
   ]
  },
  {
   "cell_type": "markdown",
   "metadata": {},
   "source": [
    "Selecionando os atributos com viés acima de 0.75"
   ]
  },
  {
   "cell_type": "code",
   "execution_count": 9,
   "metadata": {},
   "outputs": [
    {
     "data": {
      "text/plain": [
       "quantidade_doacoes                       39.982260\n",
       "quantidade_doadores                      37.541762\n",
       "total_receita                             4.599988\n",
       "media_receita                            12.105833\n",
       "recursos_de_outros_candidatos/comites    13.892631\n",
       "recursos_de_pessoas_fisicas               6.800271\n",
       "recursos_de_pessoas_juridicas             3.431190\n",
       "recursos_proprios                        15.782559\n",
       "quantidade_despesas                       8.546077\n",
       "quantidade_fornecedores                   8.424869\n",
       "total_despesa                             4.534959\n",
       "media_despesa                            66.379222\n",
       "votos                                     6.669571\n",
       "dtype: float64"
      ]
     },
     "execution_count": 9,
     "metadata": {},
     "output_type": "execute_result"
    }
   ],
   "source": [
    "skewed_features = skewed_features[skewed_features > 0.75]\n",
    "skewed_features"
   ]
  },
  {
   "cell_type": "markdown",
   "metadata": {},
   "source": [
    "Aplicando transformação logarítmica em todos os dados selecionados em skewed_features"
   ]
  },
  {
   "cell_type": "code",
   "execution_count": 10,
   "metadata": {},
   "outputs": [
    {
     "data": {
      "text/html": [
       "<div>\n",
       "<style>\n",
       "    .dataframe thead tr:only-child th {\n",
       "        text-align: right;\n",
       "    }\n",
       "\n",
       "    .dataframe thead th {\n",
       "        text-align: left;\n",
       "    }\n",
       "\n",
       "    .dataframe tbody tr th {\n",
       "        vertical-align: top;\n",
       "    }\n",
       "</style>\n",
       "<table border=\"1\" class=\"dataframe\">\n",
       "  <thead>\n",
       "    <tr style=\"text-align: right;\">\n",
       "      <th></th>\n",
       "      <th>ano</th>\n",
       "      <th>sequencial_candidato</th>\n",
       "      <th>quantidade_doacoes</th>\n",
       "      <th>quantidade_doadores</th>\n",
       "      <th>total_receita</th>\n",
       "      <th>media_receita</th>\n",
       "      <th>recursos_de_outros_candidatos/comites</th>\n",
       "      <th>recursos_de_pessoas_fisicas</th>\n",
       "      <th>recursos_de_pessoas_juridicas</th>\n",
       "      <th>recursos_proprios</th>\n",
       "      <th>quantidade_despesas</th>\n",
       "      <th>quantidade_fornecedores</th>\n",
       "      <th>total_despesa</th>\n",
       "      <th>media_despesa</th>\n",
       "      <th>votos</th>\n",
       "    </tr>\n",
       "  </thead>\n",
       "  <tbody>\n",
       "    <tr>\n",
       "      <th>0</th>\n",
       "      <td>2006</td>\n",
       "      <td>10001</td>\n",
       "      <td>1.945910</td>\n",
       "      <td>1.945910</td>\n",
       "      <td>9.717218</td>\n",
       "      <td>7.925760</td>\n",
       "      <td>NaN</td>\n",
       "      <td>9.105091</td>\n",
       "      <td>8.748464</td>\n",
       "      <td>7.170888</td>\n",
       "      <td>2.708050</td>\n",
       "      <td>2.708050</td>\n",
       "      <td>9.716230</td>\n",
       "      <td>7.077956</td>\n",
       "      <td>9.057189</td>\n",
       "    </tr>\n",
       "    <tr>\n",
       "      <th>1</th>\n",
       "      <td>2006</td>\n",
       "      <td>10002</td>\n",
       "      <td>2.639057</td>\n",
       "      <td>2.639057</td>\n",
       "      <td>10.035699</td>\n",
       "      <td>7.471276</td>\n",
       "      <td>8.798757</td>\n",
       "      <td>9.615872</td>\n",
       "      <td>6.908755</td>\n",
       "      <td>5.308268</td>\n",
       "      <td>3.218876</td>\n",
       "      <td>3.178054</td>\n",
       "      <td>9.919705</td>\n",
       "      <td>6.785292</td>\n",
       "      <td>7.922261</td>\n",
       "    </tr>\n",
       "    <tr>\n",
       "      <th>2</th>\n",
       "      <td>2006</td>\n",
       "      <td>10002</td>\n",
       "      <td>2.890372</td>\n",
       "      <td>2.833213</td>\n",
       "      <td>11.905790</td>\n",
       "      <td>9.133303</td>\n",
       "      <td>7.719130</td>\n",
       "      <td>10.438547</td>\n",
       "      <td>11.038461</td>\n",
       "      <td>10.993748</td>\n",
       "      <td>4.820282</td>\n",
       "      <td>4.691348</td>\n",
       "      <td>11.891449</td>\n",
       "      <td>7.210050</td>\n",
       "      <td>9.765891</td>\n",
       "    </tr>\n",
       "    <tr>\n",
       "      <th>3</th>\n",
       "      <td>2006</td>\n",
       "      <td>10002</td>\n",
       "      <td>1.945910</td>\n",
       "      <td>1.945910</td>\n",
       "      <td>8.007074</td>\n",
       "      <td>6.216979</td>\n",
       "      <td>NaN</td>\n",
       "      <td>7.048386</td>\n",
       "      <td>7.004991</td>\n",
       "      <td>6.621406</td>\n",
       "      <td>2.197225</td>\n",
       "      <td>2.197225</td>\n",
       "      <td>8.007074</td>\n",
       "      <td>5.929961</td>\n",
       "      <td>7.085064</td>\n",
       "    </tr>\n",
       "    <tr>\n",
       "      <th>4</th>\n",
       "      <td>2006</td>\n",
       "      <td>10003</td>\n",
       "      <td>3.891820</td>\n",
       "      <td>3.891820</td>\n",
       "      <td>NaN</td>\n",
       "      <td>NaN</td>\n",
       "      <td>NaN</td>\n",
       "      <td>10.837206</td>\n",
       "      <td>NaN</td>\n",
       "      <td>11.141035</td>\n",
       "      <td>4.897840</td>\n",
       "      <td>4.795791</td>\n",
       "      <td>11.664939</td>\n",
       "      <td>6.878469</td>\n",
       "      <td>10.288818</td>\n",
       "    </tr>\n",
       "  </tbody>\n",
       "</table>\n",
       "</div>"
      ],
      "text/plain": [
       "    ano  sequencial_candidato  quantidade_doacoes  quantidade_doadores  \\\n",
       "0  2006                 10001            1.945910             1.945910   \n",
       "1  2006                 10002            2.639057             2.639057   \n",
       "2  2006                 10002            2.890372             2.833213   \n",
       "3  2006                 10002            1.945910             1.945910   \n",
       "4  2006                 10003            3.891820             3.891820   \n",
       "\n",
       "   total_receita  media_receita  recursos_de_outros_candidatos/comites  \\\n",
       "0       9.717218       7.925760                                    NaN   \n",
       "1      10.035699       7.471276                               8.798757   \n",
       "2      11.905790       9.133303                               7.719130   \n",
       "3       8.007074       6.216979                                    NaN   \n",
       "4            NaN            NaN                                    NaN   \n",
       "\n",
       "   recursos_de_pessoas_fisicas  recursos_de_pessoas_juridicas  \\\n",
       "0                     9.105091                       8.748464   \n",
       "1                     9.615872                       6.908755   \n",
       "2                    10.438547                      11.038461   \n",
       "3                     7.048386                       7.004991   \n",
       "4                    10.837206                            NaN   \n",
       "\n",
       "   recursos_proprios  quantidade_despesas  quantidade_fornecedores  \\\n",
       "0           7.170888             2.708050                 2.708050   \n",
       "1           5.308268             3.218876                 3.178054   \n",
       "2          10.993748             4.820282                 4.691348   \n",
       "3           6.621406             2.197225                 2.197225   \n",
       "4          11.141035             4.897840                 4.795791   \n",
       "\n",
       "   total_despesa  media_despesa      votos  \n",
       "0       9.716230       7.077956   9.057189  \n",
       "1       9.919705       6.785292   7.922261  \n",
       "2      11.891449       7.210050   9.765891  \n",
       "3       8.007074       5.929961   7.085064  \n",
       "4      11.664939       6.878469  10.288818  "
      ]
     },
     "execution_count": 10,
     "metadata": {},
     "output_type": "execute_result"
    }
   ],
   "source": [
    "skewed_features = skewed_features.index\n",
    "\n",
    "eleicoes[skewed_features] = np.log1p(eleicoes[skewed_features])\n",
    "eleicoes[numeric_features][:5]"
   ]
  },
  {
   "cell_type": "markdown",
   "metadata": {},
   "source": [
    "## Transformando variáveis categóricas\n",
    "\n",
    "Verificando a quantidade de linhas e colunas do DataFrame antes da tranformação das variáveis categóricas"
   ]
  },
  {
   "cell_type": "code",
   "execution_count": 11,
   "metadata": {},
   "outputs": [
    {
     "data": {
      "text/plain": [
       "(7330, 23)"
      ]
     },
     "execution_count": 11,
     "metadata": {},
     "output_type": "execute_result"
    }
   ],
   "source": [
    "eleicoes.shape"
   ]
  },
  {
   "cell_type": "markdown",
   "metadata": {},
   "source": [
    "Convertendo atributos categóricos em valores modelo"
   ]
  },
  {
   "cell_type": "code",
   "execution_count": 12,
   "metadata": {},
   "outputs": [
    {
     "data": {
      "text/plain": [
       "(7330, 7038)"
      ]
     },
     "execution_count": 12,
     "metadata": {},
     "output_type": "execute_result"
    }
   ],
   "source": [
    "eleicoes = pd.get_dummies(eleicoes)\n",
    "eleicoes.shape"
   ]
  },
  {
   "cell_type": "markdown",
   "metadata": {},
   "source": [
    "Ao converter os atributos categóricos a quantidade de colunas cresce bastante pois ao fazer a transformação cada campo categórico se torna uma coluna que é preenchida com 0 ou 1 quando aquele valor ocorre ou não."
   ]
  },
  {
   "cell_type": "code",
   "execution_count": 13,
   "metadata": {},
   "outputs": [
    {
     "data": {
      "text/html": [
       "<div>\n",
       "<style>\n",
       "    .dataframe thead tr:only-child th {\n",
       "        text-align: right;\n",
       "    }\n",
       "\n",
       "    .dataframe thead th {\n",
       "        text-align: left;\n",
       "    }\n",
       "\n",
       "    .dataframe tbody tr th {\n",
       "        vertical-align: top;\n",
       "    }\n",
       "</style>\n",
       "<table border=\"1\" class=\"dataframe\">\n",
       "  <thead>\n",
       "    <tr style=\"text-align: right;\">\n",
       "      <th></th>\n",
       "      <th>ano</th>\n",
       "      <th>sequencial_candidato</th>\n",
       "      <th>quantidade_doacoes</th>\n",
       "      <th>quantidade_doadores</th>\n",
       "      <th>total_receita</th>\n",
       "      <th>media_receita</th>\n",
       "      <th>recursos_de_outros_candidatos/comites</th>\n",
       "      <th>recursos_de_pessoas_fisicas</th>\n",
       "      <th>recursos_de_pessoas_juridicas</th>\n",
       "      <th>recursos_proprios</th>\n",
       "      <th>...</th>\n",
       "      <th>ocupacao_TÉCNICO DE OBRAS CIVIS, ESTRADAS, SANEAMENTO E ASSEMELHADOS</th>\n",
       "      <th>ocupacao_TÉCNICO EM AGRONOMIA E AGRIMENSURA</th>\n",
       "      <th>ocupacao_TÉCNICO EM EDIFICAÇÕES</th>\n",
       "      <th>ocupacao_TÉCNICO EM INFORMÁTICA</th>\n",
       "      <th>ocupacao_VENDEDOR DE COMÉRCIO VAREJISTA E ATACADISTA</th>\n",
       "      <th>ocupacao_VENDEDOR PRACISTA, REPRESENTANTE, CAIXEIRO-VIAJANTE E ASSEMELHADOS</th>\n",
       "      <th>ocupacao_VEREADOR</th>\n",
       "      <th>ocupacao_VETERINÁRIO</th>\n",
       "      <th>ocupacao_VIGILANTE</th>\n",
       "      <th>ocupacao_ZOOTECNISTA</th>\n",
       "    </tr>\n",
       "  </thead>\n",
       "  <tbody>\n",
       "    <tr>\n",
       "      <th>0</th>\n",
       "      <td>2006</td>\n",
       "      <td>10001</td>\n",
       "      <td>1.945910</td>\n",
       "      <td>1.945910</td>\n",
       "      <td>9.717218</td>\n",
       "      <td>7.925760</td>\n",
       "      <td>NaN</td>\n",
       "      <td>9.105091</td>\n",
       "      <td>8.748464</td>\n",
       "      <td>7.170888</td>\n",
       "      <td>...</td>\n",
       "      <td>0</td>\n",
       "      <td>0</td>\n",
       "      <td>0</td>\n",
       "      <td>0</td>\n",
       "      <td>0</td>\n",
       "      <td>0</td>\n",
       "      <td>1</td>\n",
       "      <td>0</td>\n",
       "      <td>0</td>\n",
       "      <td>0</td>\n",
       "    </tr>\n",
       "    <tr>\n",
       "      <th>1</th>\n",
       "      <td>2006</td>\n",
       "      <td>10002</td>\n",
       "      <td>2.639057</td>\n",
       "      <td>2.639057</td>\n",
       "      <td>10.035699</td>\n",
       "      <td>7.471276</td>\n",
       "      <td>8.798757</td>\n",
       "      <td>9.615872</td>\n",
       "      <td>6.908755</td>\n",
       "      <td>5.308268</td>\n",
       "      <td>...</td>\n",
       "      <td>0</td>\n",
       "      <td>0</td>\n",
       "      <td>0</td>\n",
       "      <td>0</td>\n",
       "      <td>0</td>\n",
       "      <td>0</td>\n",
       "      <td>0</td>\n",
       "      <td>0</td>\n",
       "      <td>0</td>\n",
       "      <td>0</td>\n",
       "    </tr>\n",
       "    <tr>\n",
       "      <th>2</th>\n",
       "      <td>2006</td>\n",
       "      <td>10002</td>\n",
       "      <td>2.890372</td>\n",
       "      <td>2.833213</td>\n",
       "      <td>11.905790</td>\n",
       "      <td>9.133303</td>\n",
       "      <td>7.719130</td>\n",
       "      <td>10.438547</td>\n",
       "      <td>11.038461</td>\n",
       "      <td>10.993748</td>\n",
       "      <td>...</td>\n",
       "      <td>0</td>\n",
       "      <td>0</td>\n",
       "      <td>0</td>\n",
       "      <td>0</td>\n",
       "      <td>0</td>\n",
       "      <td>0</td>\n",
       "      <td>0</td>\n",
       "      <td>0</td>\n",
       "      <td>0</td>\n",
       "      <td>0</td>\n",
       "    </tr>\n",
       "  </tbody>\n",
       "</table>\n",
       "<p>3 rows × 7038 columns</p>\n",
       "</div>"
      ],
      "text/plain": [
       "    ano  sequencial_candidato  quantidade_doacoes  quantidade_doadores  \\\n",
       "0  2006                 10001            1.945910             1.945910   \n",
       "1  2006                 10002            2.639057             2.639057   \n",
       "2  2006                 10002            2.890372             2.833213   \n",
       "\n",
       "   total_receita  media_receita  recursos_de_outros_candidatos/comites  \\\n",
       "0       9.717218       7.925760                                    NaN   \n",
       "1      10.035699       7.471276                               8.798757   \n",
       "2      11.905790       9.133303                               7.719130   \n",
       "\n",
       "   recursos_de_pessoas_fisicas  recursos_de_pessoas_juridicas  \\\n",
       "0                     9.105091                       8.748464   \n",
       "1                     9.615872                       6.908755   \n",
       "2                    10.438547                      11.038461   \n",
       "\n",
       "   recursos_proprios          ...           \\\n",
       "0           7.170888          ...            \n",
       "1           5.308268          ...            \n",
       "2          10.993748          ...            \n",
       "\n",
       "   ocupacao_TÉCNICO DE OBRAS CIVIS, ESTRADAS, SANEAMENTO E ASSEMELHADOS  \\\n",
       "0                                                  0                      \n",
       "1                                                  0                      \n",
       "2                                                  0                      \n",
       "\n",
       "   ocupacao_TÉCNICO EM AGRONOMIA E AGRIMENSURA  \\\n",
       "0                                            0   \n",
       "1                                            0   \n",
       "2                                            0   \n",
       "\n",
       "   ocupacao_TÉCNICO EM EDIFICAÇÕES  ocupacao_TÉCNICO EM INFORMÁTICA  \\\n",
       "0                                0                                0   \n",
       "1                                0                                0   \n",
       "2                                0                                0   \n",
       "\n",
       "   ocupacao_VENDEDOR DE COMÉRCIO VAREJISTA E ATACADISTA  \\\n",
       "0                                                  0      \n",
       "1                                                  0      \n",
       "2                                                  0      \n",
       "\n",
       "   ocupacao_VENDEDOR PRACISTA, REPRESENTANTE, CAIXEIRO-VIAJANTE E ASSEMELHADOS  \\\n",
       "0                                                  0                             \n",
       "1                                                  0                             \n",
       "2                                                  0                             \n",
       "\n",
       "   ocupacao_VEREADOR  ocupacao_VETERINÁRIO  ocupacao_VIGILANTE  \\\n",
       "0                  1                     0                   0   \n",
       "1                  0                     0                   0   \n",
       "2                  0                     0                   0   \n",
       "\n",
       "   ocupacao_ZOOTECNISTA  \n",
       "0                     0  \n",
       "1                     0  \n",
       "2                     0  \n",
       "\n",
       "[3 rows x 7038 columns]"
      ]
     },
     "execution_count": 13,
     "metadata": {},
     "output_type": "execute_result"
    }
   ],
   "source": [
    "eleicoes[:3]"
   ]
  },
  {
   "cell_type": "markdown",
   "metadata": {},
   "source": [
    "## Transformando atributos com valores NaN: \n",
    "Opção 1 - Preencher os valores NA's com a média de valores de cada coluna"
   ]
  },
  {
   "cell_type": "code",
   "execution_count": 14,
   "metadata": {
    "collapsed": true
   },
   "outputs": [],
   "source": [
    "eleicoes_mean = eleicoes.fillna(eleicoes.mean())"
   ]
  },
  {
   "cell_type": "markdown",
   "metadata": {},
   "source": [
    "Opção 2 - Preencher valores NaN com 0"
   ]
  },
  {
   "cell_type": "code",
   "execution_count": 15,
   "metadata": {
    "collapsed": true
   },
   "outputs": [],
   "source": [
    "eleicoes_zero = eleicoes.fillna(0)"
   ]
  },
  {
   "cell_type": "markdown",
   "metadata": {},
   "source": [
    "## Separando dados\n",
    "Vamos utilizar um `DataFrame` montado de forma aleatória tanto com dados de 2006 quanto com dados de 2010.\n",
    "E utilizar para a transformação dos valores NaN a opção 1 que preenche os valores NA's com a média de valores de cada coluna."
   ]
  },
  {
   "cell_type": "code",
   "execution_count": 16,
   "metadata": {
    "scrolled": true
   },
   "outputs": [
    {
     "data": {
      "text/plain": [
       "(7330, 7038)"
      ]
     },
     "execution_count": 16,
     "metadata": {},
     "output_type": "execute_result"
    }
   ],
   "source": [
    "eleicoes = eleicoes_mean\n",
    "n = int(7330/2)\n",
    "sample = eleicoes.sample(n=n)\n",
    "eleicoes.shape"
   ]
  },
  {
   "cell_type": "markdown",
   "metadata": {},
   "source": [
    "Retirando dos dados o atributo `sequencial_candidato` pois é uma informação que denota apenas um id no conjunto dos dados. E retirando os atributos referente a média (`media_receita`, `media_despesa`), pois acredito que essa medida agregada, quando analisadas junto ao valor total e a quantidade, pode prejudicar o modelo por não serem juntas (média, total e quantidade) medidas com crescimento proporcional."
   ]
  },
  {
   "cell_type": "code",
   "execution_count": 17,
   "metadata": {
    "collapsed": true
   },
   "outputs": [],
   "source": [
    "sample = sample.drop(['sequencial_candidato', 'media_receita', 'media_despesa'], axis=1)"
   ]
  },
  {
   "cell_type": "code",
   "execution_count": 18,
   "metadata": {},
   "outputs": [
    {
     "data": {
      "text/plain": [
       "(1728, 7035)"
      ]
     },
     "execution_count": 18,
     "metadata": {},
     "output_type": "execute_result"
    }
   ],
   "source": [
    "sample[(sample.ano==2006)].shape"
   ]
  },
  {
   "cell_type": "code",
   "execution_count": 19,
   "metadata": {},
   "outputs": [
    {
     "data": {
      "text/plain": [
       "(1937, 7035)"
      ]
     },
     "execution_count": 19,
     "metadata": {},
     "output_type": "execute_result"
    }
   ],
   "source": [
    "sample[(sample.ano==2010)].shape"
   ]
  },
  {
   "cell_type": "code",
   "execution_count": 20,
   "metadata": {
    "collapsed": true
   },
   "outputs": [],
   "source": [
    "train = sample[:int(n/2)]\n",
    "test = sample[int(n/2):]"
   ]
  },
  {
   "cell_type": "markdown",
   "metadata": {},
   "source": [
    "## Criando matrizes para o sklearn"
   ]
  },
  {
   "cell_type": "code",
   "execution_count": 21,
   "metadata": {
    "collapsed": true
   },
   "outputs": [],
   "source": [
    "x_train = train.drop('votos', axis=1)\n",
    "y_train = train['votos']\n",
    "\n",
    "x_test = test.drop('votos', axis=1)\n",
    "y_test = test['votos']\n",
    "\n",
    "x_all = sample.drop('votos', axis=1)\n",
    "y_all = sample['votos']"
   ]
  },
  {
   "cell_type": "markdown",
   "metadata": {},
   "source": [
    "Função para criar visualização do Resíduo X Predições"
   ]
  },
  {
   "cell_type": "code",
   "execution_count": 96,
   "metadata": {},
   "outputs": [],
   "source": [
    "def vis_residuos_vs_predicoes(y_pred, y_real, titulo):\n",
    "    matplotlib.rcParams['figure.figsize'] = (6.0, 6.0)\n",
    "    predicoes = pd.DataFrame({\"predicoes\":y_pred, \"valor_real\":y_real})\n",
    "    predicoes[\"residuos\"] = predicoes[\"valor_real\"] - predicoes[\"predicoes\"]\n",
    "    predicoes.plot(x = \"predicoes\", y = \"residuos\",kind = \"scatter\")\n",
    "    plt.title(titulo)\n"
   ]
  },
  {
   "cell_type": "markdown",
   "metadata": {},
   "source": [
    "# Modelos de Regressão"
   ]
  },
  {
   "cell_type": "markdown",
   "metadata": {},
   "source": [
    "## 1 - Regressão sem regularização"
   ]
  },
  {
   "cell_type": "markdown",
   "metadata": {},
   "source": [
    "Importando módulos necessários"
   ]
  },
  {
   "cell_type": "code",
   "execution_count": 22,
   "metadata": {
    "collapsed": true
   },
   "outputs": [],
   "source": [
    "from sklearn.linear_model import LinearRegression\n",
    "from sklearn.metrics import mean_squared_error, r2_score, explained_variance_score, median_absolute_error"
   ]
  },
  {
   "cell_type": "markdown",
   "metadata": {},
   "source": [
    "Treinando o modelo com os dados de treino"
   ]
  },
  {
   "cell_type": "code",
   "execution_count": 23,
   "metadata": {},
   "outputs": [
    {
     "data": {
      "text/plain": [
       "LinearRegression(copy_X=True, fit_intercept=True, n_jobs=1, normalize=False)"
      ]
     },
     "execution_count": 23,
     "metadata": {},
     "output_type": "execute_result"
    }
   ],
   "source": [
    "reg = LinearRegression()\n",
    "reg.fit(x_train, y_train)"
   ]
  },
  {
   "cell_type": "markdown",
   "metadata": {},
   "source": [
    "Predizendo os valores de y para dos conjunto de teste"
   ]
  },
  {
   "cell_type": "code",
   "execution_count": 85,
   "metadata": {},
   "outputs": [
    {
     "data": {
      "text/plain": [
       "array([  7.99944109,   8.11780229,   8.71432984, ...,  13.28528069,\n",
       "         8.83738128,   5.43864748])"
      ]
     },
     "execution_count": 85,
     "metadata": {},
     "output_type": "execute_result"
    }
   ],
   "source": [
    "y_pred_model_reg = reg.predict(x_test)\n",
    "y_pred_model_reg"
   ]
  },
  {
   "cell_type": "markdown",
   "metadata": {},
   "source": [
    "#### Calculando métricas para avaliação do modelo"
   ]
  },
  {
   "cell_type": "markdown",
   "metadata": {},
   "source": [
    "**Coeficientes calculados para os atributos**"
   ]
  },
  {
   "cell_type": "code",
   "execution_count": 25,
   "metadata": {},
   "outputs": [
    {
     "data": {
      "text/plain": [
       "array([-0.12995877, -0.43079614,  0.94127631, ...,  0.        ,\n",
       "       -0.30674874, -0.15482578])"
      ]
     },
     "execution_count": 25,
     "metadata": {},
     "output_type": "execute_result"
    }
   ],
   "source": [
    "reg.coef_"
   ]
  },
  {
   "cell_type": "markdown",
   "metadata": {},
   "source": [
    "**MSE** - Média do quadrado do erro"
   ]
  },
  {
   "cell_type": "code",
   "execution_count": 86,
   "metadata": {},
   "outputs": [
    {
     "data": {
      "text/plain": [
       "2.1555409459129322"
      ]
     },
     "execution_count": 86,
     "metadata": {},
     "output_type": "execute_result"
    }
   ],
   "source": [
    "mse = mean_squared_error(y_test, y_pred_model_reg)\n",
    "mse"
   ]
  },
  {
   "cell_type": "markdown",
   "metadata": {},
   "source": [
    "### RMSE - Regressão sem regularização"
   ]
  },
  {
   "cell_type": "code",
   "execution_count": 27,
   "metadata": {},
   "outputs": [
    {
     "data": {
      "text/plain": [
       "1.4681760609385144"
      ]
     },
     "execution_count": 27,
     "metadata": {},
     "output_type": "execute_result"
    }
   ],
   "source": [
    "np.sqrt(mse)"
   ]
  },
  {
   "cell_type": "markdown",
   "metadata": {},
   "source": [
    "**R²**"
   ]
  },
  {
   "cell_type": "code",
   "execution_count": 148,
   "metadata": {},
   "outputs": [
    {
     "data": {
      "text/plain": [
       "0.44631584708034466"
      ]
     },
     "execution_count": 148,
     "metadata": {},
     "output_type": "execute_result"
    }
   ],
   "source": [
    "r2_score(y_test, y_pred_model_reg)"
   ]
  },
  {
   "cell_type": "code",
   "execution_count": 88,
   "metadata": {},
   "outputs": [
    {
     "data": {
      "text/plain": [
       "0.44633686753263557"
      ]
     },
     "execution_count": 88,
     "metadata": {},
     "output_type": "execute_result"
    }
   ],
   "source": [
    "explained_variance_score(y_test, y_pred_model_reg)"
   ]
  },
  {
   "cell_type": "markdown",
   "metadata": {},
   "source": [
    "## 1.1 - Resíduos x Predições: Regressão sem regularização"
   ]
  },
  {
   "cell_type": "code",
   "execution_count": 97,
   "metadata": {},
   "outputs": [
    {
     "data": {
      "image/png": "[encoded data removed]",
      "text/plain": [
       "<matplotlib.figure.Figure at 0x7f9598fac550>"
      ]
     },
     "metadata": {},
     "output_type": "display_data"
    }
   ],
   "source": [
    "vis_residuos_vs_predicoes(y_pred_model_reg, y_test, \"Resíduos x Predições: Regressão sem regularização\")"
   ]
  },
  {
   "cell_type": "code",
   "execution_count": 40,
   "metadata": {},
   "outputs": [
    {
     "data": {
      "text/plain": [
       "array([[<matplotlib.axes._subplots.AxesSubplot object at 0x7f95997414e0>,\n",
       "        <matplotlib.axes._subplots.AxesSubplot object at 0x7f95995b7780>],\n",
       "       [<matplotlib.axes._subplots.AxesSubplot object at 0x7f959956f780>,\n",
       "        <matplotlib.axes._subplots.AxesSubplot object at 0x7f9599528cc0>]], dtype=object)"
      ]
     },
     "execution_count": 40,
     "metadata": {},
     "output_type": "execute_result"
    },
    {
     "data": {
      "image/png": "[encoded data removed]",
      "text/plain": [
       "<matplotlib.figure.Figure at 0x7f959961b8d0>"
      ]
     },
     "metadata": {},
     "output_type": "display_data"
    }
   ],
   "source": [
    "matplotlib.rcParams['figure.figsize'] = (12, 10)\n",
    "predicoes.hist()"
   ]
  },
  {
   "cell_type": "markdown",
   "metadata": {},
   "source": [
    "É possível identificar que grande parte dos resíduos estão dispostos em torno do 0 o que indica uma boa adequabilidade, mas ao olhar também o histograma é possível ver que os valores reais estão mais concentrados à direita, enquanto os valores das predições estão mais alinhados ao meio."
   ]
  },
  {
   "cell_type": "markdown",
   "metadata": {},
   "source": [
    "## Imports e definição de funções auxiliares"
   ]
  },
  {
   "cell_type": "code",
   "execution_count": 41,
   "metadata": {
    "collapsed": true
   },
   "outputs": [],
   "source": [
    "from sklearn.linear_model import Ridge, RidgeCV, ElasticNet, LassoCV, LassoLarsCV\n",
    "from sklearn.model_selection import cross_val_score"
   ]
  },
  {
   "cell_type": "markdown",
   "metadata": {},
   "source": [
    "Função para calcular as métricas RMSE e R² do modelo com validação cruzada."
   ]
  },
  {
   "cell_type": "code",
   "execution_count": 53,
   "metadata": {
    "collapsed": true
   },
   "outputs": [],
   "source": [
    "def calc_rmse(model, cv):\n",
    "    rmse = np.sqrt(-cross_val_score(model, x_all, y_all, scoring=\"neg_mean_squared_error\", cv=cv))\n",
    "    print(\"RMSE is: {0} \".format(rmse))\n",
    "    return rmse"
   ]
  },
  {
   "cell_type": "code",
   "execution_count": 54,
   "metadata": {
    "collapsed": true
   },
   "outputs": [],
   "source": [
    "def calc_r2(model, cv):\n",
    "    r2 = np.sqrt(cross_val_score(model, x_all, y_all, scoring=\"r2\", cv=cv))\n",
    "    print(\"R² is: {0} \".format(r2))\n",
    "    return r2"
   ]
  },
  {
   "cell_type": "code",
   "execution_count": 55,
   "metadata": {
    "collapsed": true
   },
   "outputs": [],
   "source": [
    "def calc_variance(model, cv):\n",
    "    explained_variance = np.sqrt(cross_val_score(model, x_train, y_train, scoring=\"explained_variance\", cv=cv))\n",
    "    print(\"Variance is: {0} \".format(explained_variance))\n",
    "    return explained_variance"
   ]
  },
  {
   "cell_type": "markdown",
   "metadata": {},
   "source": [
    "Função para gerar visualização dos alphas x medidas de validação"
   ]
  },
  {
   "cell_type": "code",
   "execution_count": 76,
   "metadata": {
    "collapsed": true
   },
   "outputs": [],
   "source": [
    "def gerar_vis_validacao(measures, alphas, title_measure):\n",
    "    matplotlib.rcParams['figure.figsize'] = (8.0, 6.0)\n",
    "    data = pd.Series(measures, index=alphas)\n",
    "    data.plot(title = \"Validação\")\n",
    "    plt.xlabel(\"alpha\")\n",
    "    plt.ylabel(title_measure)"
   ]
  },
  {
   "cell_type": "markdown",
   "metadata": {},
   "source": [
    "## 2 - Ridge\n",
    "Atribuindo alguns valores para alfa e verificando como o RMSE se comporta"
   ]
  },
  {
   "cell_type": "code",
   "execution_count": 73,
   "metadata": {
    "collapsed": true
   },
   "outputs": [],
   "source": [
    "alphas = [0.2, 0.5, 2, 5, 7]\n",
    "cv = 5"
   ]
  },
  {
   "cell_type": "code",
   "execution_count": 74,
   "metadata": {},
   "outputs": [
    {
     "name": "stdout",
     "output_type": "stream",
     "text": [
      "RMSE is: [ 0.94542671  0.91477244  0.98003962  0.96358065  0.90587968] \n",
      "RMSE is: [ 0.93779595  0.91187397  0.97762377  0.9628892   0.90424296] \n",
      "RMSE is: [ 0.93351704  0.91395143  0.97573539  0.96417145  0.90562284] \n",
      "RMSE is: [ 0.93491867  0.9170001   0.97513792  0.96592461  0.90776448] \n",
      "RMSE is: [ 0.93592515  0.9179763   0.9749089   0.96670571  0.90857776] \n"
     ]
    },
    {
     "data": {
      "text/plain": [
       "[0.94193982108037777,\n",
       " 0.93888517293436602,\n",
       " 0.93859963029226168,\n",
       " 0.94014915399176568,\n",
       " 0.94081876469072001]"
      ]
     },
     "execution_count": 74,
     "metadata": {},
     "output_type": "execute_result"
    }
   ],
   "source": [
    "ridge_rmse = [calc_rmse(Ridge(alpha=alpha), cv).mean() \n",
    "            for alpha in alphas]\n",
    "\n",
    "ridge_rmse"
   ]
  },
  {
   "cell_type": "code",
   "execution_count": 77,
   "metadata": {},
   "outputs": [
    {
     "data": {
      "image/png": "[encoded data removed]",
      "text/plain": [
       "<matplotlib.figure.Figure at 0x7f9599146588>"
      ]
     },
     "metadata": {},
     "output_type": "display_data"
    }
   ],
   "source": [
    "gerar_vis_validacao(ridge_rmse, alphas, \"rmse\")"
   ]
  },
  {
   "cell_type": "code",
   "execution_count": 78,
   "metadata": {},
   "outputs": [
    {
     "name": "stdout",
     "output_type": "stream",
     "text": [
      "R² is: [ 0.8795632   0.88227017  0.87046532  0.87738733  0.88305574] \n",
      "R² is: [ 0.88162964  0.88306438  0.87115034  0.87757551  0.88350579] \n",
      "R² is: [ 0.88277896  0.88249546  0.87168425  0.8772264   0.88312643] \n",
      "R² is: [ 0.88240323  0.88165756  0.87185289  0.87674812  0.88253619] \n",
      "R² is: [ 0.88213297  0.8813885   0.87191749  0.87653465  0.88231158] \n"
     ]
    },
    {
     "data": {
      "text/plain": [
       "[0.87854835270785137,\n",
       " 0.87938513207348623,\n",
       " 0.87946230253377278,\n",
       " 0.87903959749268223,\n",
       " 0.87885704112741792]"
      ]
     },
     "execution_count": 78,
     "metadata": {},
     "output_type": "execute_result"
    }
   ],
   "source": [
    "ridge_r2 = [calc_r2(Ridge(alpha=alpha), cv).mean() \n",
    "            for alpha in alphas]\n",
    "\n",
    "ridge_r2"
   ]
  },
  {
   "cell_type": "code",
   "execution_count": 79,
   "metadata": {},
   "outputs": [
    {
     "data": {
      "image/png": "[encoded data removed]",
      "text/plain": [
       "<matplotlib.figure.Figure at 0x7f959910e6d8>"
      ]
     },
     "metadata": {},
     "output_type": "display_data"
    }
   ],
   "source": [
    "gerar_vis_validacao(ridge_r2, alphas, \"R²\")"
   ]
  },
  {
   "cell_type": "code",
   "execution_count": 80,
   "metadata": {},
   "outputs": [
    {
     "name": "stdout",
     "output_type": "stream",
     "text": [
      "Variance is: [ 0.88302886  0.87104974  0.87045504  0.8802637   0.8635406 ] \n",
      "Variance is: [ 0.88380839  0.87172266  0.8713568   0.88152624  0.8646269 ] \n",
      "Variance is: [ 0.88485918  0.87229348  0.87145786  0.88271309  0.86527695] \n",
      "Variance is: [ 0.88492978  0.87207219  0.8714333   0.88307116  0.86542525] \n",
      "Variance is: [ 0.88469428  0.8718233   0.87134953  0.88305326  0.8654376 ] \n"
     ]
    },
    {
     "data": {
      "text/plain": [
       "[0.87366759003042294,\n",
       " 0.87460819662454858,\n",
       " 0.87532011206342619,\n",
       " 0.87538633416326062,\n",
       " 0.87527159444230185]"
      ]
     },
     "execution_count": 80,
     "metadata": {},
     "output_type": "execute_result"
    }
   ],
   "source": [
    "ridge_variance = [calc_variance(Ridge(alpha=alpha), cv).mean() \n",
    "            for alpha in alphas]\n",
    "\n",
    "ridge_variance"
   ]
  },
  {
   "cell_type": "code",
   "execution_count": 81,
   "metadata": {},
   "outputs": [
    {
     "data": {
      "image/png": "[encoded data removed]",
      "text/plain": [
       "<matplotlib.figure.Figure at 0x7f959902fa20>"
      ]
     },
     "metadata": {},
     "output_type": "display_data"
    }
   ],
   "source": [
    "gerar_vis_validacao(ridge_variance, alphas, \"Variance\")"
   ]
  },
  {
   "cell_type": "markdown",
   "metadata": {},
   "source": [
    "### Criando um modelo Ridge com o alfa que obteve o menor RMSE"
   ]
  },
  {
   "cell_type": "code",
   "execution_count": 82,
   "metadata": {},
   "outputs": [
    {
     "data": {
      "text/plain": [
       "Ridge(alpha=2, copy_X=True, fit_intercept=True, max_iter=None,\n",
       "   normalize=False, random_state=None, solver='auto', tol=0.001)"
      ]
     },
     "execution_count": 82,
     "metadata": {},
     "output_type": "execute_result"
    }
   ],
   "source": [
    "model_ridge = Ridge(alpha=2)\n",
    "\n",
    "model_ridge.fit(x_train, y_train)"
   ]
  },
  {
   "cell_type": "code",
   "execution_count": 166,
   "metadata": {},
   "outputs": [
    {
     "data": {
      "text/plain": [
       "array([  7.08237092,   7.24481173,   8.95923006, ...,  11.59556633,\n",
       "         6.83377208,   6.17855605])"
      ]
     },
     "execution_count": 166,
     "metadata": {},
     "output_type": "execute_result"
    }
   ],
   "source": [
    "y_pred_model_ridge = model_ridge.predict(x_test)\n",
    "y_pred_model_ridge"
   ]
  },
  {
   "cell_type": "markdown",
   "metadata": {},
   "source": [
    "### RMSE - Ridge"
   ]
  },
  {
   "cell_type": "code",
   "execution_count": 169,
   "metadata": {},
   "outputs": [
    {
     "data": {
      "text/plain": [
       "0.91263556592493766"
      ]
     },
     "execution_count": 169,
     "metadata": {},
     "output_type": "execute_result"
    }
   ],
   "source": [
    "mse_ridge = mean_squared_error(y_test, y_pred_model_ridge)\n",
    "mse_ridge"
   ]
  },
  {
   "cell_type": "code",
   "execution_count": 168,
   "metadata": {},
   "outputs": [
    {
     "data": {
      "text/plain": [
       "0.95531961454004366"
      ]
     },
     "execution_count": 168,
     "metadata": {},
     "output_type": "execute_result"
    }
   ],
   "source": [
    "np.sqrt(mse)"
   ]
  },
  {
   "cell_type": "markdown",
   "metadata": {},
   "source": [
    "## 2.1 - Resíduos x Predições: Ridge"
   ]
  },
  {
   "cell_type": "code",
   "execution_count": 100,
   "metadata": {},
   "outputs": [
    {
     "data": {
      "image/png": "[encoded data removed]",
      "text/plain": [
       "<matplotlib.figure.Figure at 0x7f95990af358>"
      ]
     },
     "metadata": {},
     "output_type": "display_data"
    }
   ],
   "source": [
    "vis_residuos_vs_predicoes(y_pred_model_ridge, y_test, \"Resíduos x Predições: Ridge\")"
   ]
  },
  {
   "cell_type": "markdown",
   "metadata": {},
   "source": [
    "Podemos observar que o modelo apresenta uma adaquabilidade melhor do que o modelo de regressão linear sem regularização, devido aos dados do resíduo estarem mais centralizados. Nos histogramas podemos observar que as predições conseguiram se aproximar melhor dos dados reais com relação a distribuição."
   ]
  },
  {
   "cell_type": "code",
   "execution_count": 139,
   "metadata": {},
   "outputs": [
    {
     "data": {
      "text/plain": [
       "Text(0.5,1,'Distribuição dos Resíduos')"
      ]
     },
     "execution_count": 139,
     "metadata": {},
     "output_type": "execute_result"
    },
    {
     "data": {
      "image/png": "[encoded data removed]",
      "text/plain": [
       "<matplotlib.figure.Figure at 0x7f959776ec50>"
      ]
     },
     "metadata": {},
     "output_type": "display_data"
    }
   ],
   "source": [
    "matplotlib.rcParams['figure.figsize'] = (6.0, 4.0)\n",
    "residuos = y_test - y_pred_model_ridge\n",
    "residuos.hist(color = \"goldenrod\")\n",
    "plt.xlabel('Resíduos')\n",
    "plt.title('Distribuição dos Resíduos')"
   ]
  },
  {
   "cell_type": "code",
   "execution_count": 140,
   "metadata": {},
   "outputs": [
    {
     "data": {
      "text/plain": [
       "Text(0.5,1,'Distribuição das Predições')"
      ]
     },
     "execution_count": 140,
     "metadata": {},
     "output_type": "execute_result"
    },
    {
     "data": {
      "image/png": "[encoded data removed]",
      "text/plain": [
       "<matplotlib.figure.Figure at 0x7f9597627a20>"
      ]
     },
     "metadata": {},
     "output_type": "display_data"
    }
   ],
   "source": [
    "matplotlib.rcParams['figure.figsize'] = (6.0, 4.0)\n",
    "pd.Series(y_pred_model_ridge).hist(color = \"coral\")\n",
    "plt.xlabel('Predições')\n",
    "plt.title('Distribuição das Predições')"
   ]
  },
  {
   "cell_type": "code",
   "execution_count": 141,
   "metadata": {},
   "outputs": [
    {
     "data": {
      "text/plain": [
       "Text(0.5,1,'Distribuição dos Valores Reais')"
      ]
     },
     "execution_count": 141,
     "metadata": {},
     "output_type": "execute_result"
    },
    {
     "data": {
      "image/png": "[encoded data removed]",
      "text/plain": [
       "<matplotlib.figure.Figure at 0x7f9597596d68>"
      ]
     },
     "metadata": {},
     "output_type": "display_data"
    }
   ],
   "source": [
    "matplotlib.rcParams['figure.figsize'] = (6.0, 4.0)\n",
    "pd.Series(y_test).hist(color = \"seagreen\")\n",
    "plt.xlabel('Valor Real')\n",
    "plt.title('Distribuição dos Valores Reais')"
   ]
  },
  {
   "cell_type": "markdown",
   "metadata": {},
   "source": [
    "## 3 - Lasso"
   ]
  },
  {
   "cell_type": "code",
   "execution_count": 182,
   "metadata": {},
   "outputs": [
    {
     "data": {
      "text/plain": [
       "LassoCV(alphas=[1, 0.1, 0.001, 0.005], copy_X=True, cv=None, eps=0.001,\n",
       "    fit_intercept=True, max_iter=3000, n_alphas=100, n_jobs=1,\n",
       "    normalize=False, positive=False, precompute='auto', random_state=None,\n",
       "    selection='cyclic', tol=0.0001, verbose=False)"
      ]
     },
     "execution_count": 182,
     "metadata": {},
     "output_type": "execute_result"
    }
   ],
   "source": [
    "model_lasso = LassoCV(alphas=[1, 0.1, 0.001, 0.005], max_iter=3000).fit(x_train, y_train)\n",
    "\n",
    "model_lasso"
   ]
  },
  {
   "cell_type": "markdown",
   "metadata": {},
   "source": [
    "Verificando qual foi o alfa escolhido através da `cross validation`"
   ]
  },
  {
   "cell_type": "code",
   "execution_count": 183,
   "metadata": {},
   "outputs": [
    {
     "data": {
      "text/plain": [
       "0.001"
      ]
     },
     "execution_count": 183,
     "metadata": {},
     "output_type": "execute_result"
    }
   ],
   "source": [
    "model_lasso.alpha_"
   ]
  },
  {
   "cell_type": "code",
   "execution_count": null,
   "metadata": {
    "collapsed": true
   },
   "outputs": [],
   "source": [
    "calc_rmse(model_lasso, 3).mean()"
   ]
  },
  {
   "cell_type": "code",
   "execution_count": null,
   "metadata": {
    "collapsed": true
   },
   "outputs": [],
   "source": [
    "model_lasso.score(x_test, y_test)"
   ]
  },
  {
   "cell_type": "code",
   "execution_count": null,
   "metadata": {
    "collapsed": true
   },
   "outputs": [],
   "source": [
    "coef = pd.Series(model_lasso.coef_, index = x_train.columns)\n",
    "print(\"Lasso selecionou \" + str(sum(coeficientes != 0)) + \" variáveis e rejeitou \" + \n",
    "      str(sum(coeficientes == 0)) + \" variáveis\")"
   ]
  },
  {
   "cell_type": "code",
   "execution_count": null,
   "metadata": {
    "collapsed": true
   },
   "outputs": [],
   "source": [
    "descricao_coeficientes = pd.concat([coeficientes.sort_values().head(5),\n",
    "                                   coeficientes.sort_values().tail(5)])\n",
    "\n",
    "descricao_coeficientes"
   ]
  },
  {
   "cell_type": "code",
   "execution_count": null,
   "metadata": {
    "collapsed": true
   },
   "outputs": [],
   "source": [
    "matplotlib.rcParams['figure.figsize'] = (8.0, 10.0)\n",
    "descricao_coeficientes.plot(kind= 'barh')\n",
    "plt.title(\"Resumo de coeficientes considerados\")"
   ]
  },
  {
   "cell_type": "code",
   "execution_count": null,
   "metadata": {
    "collapsed": true
   },
   "outputs": [],
   "source": [
    "matplotlib.rcParams['figure.figsize'] = (6.0, 6.0)\n",
    "\n",
    "predicoes = pd.DataFrame({\"predicoes\":model_lasso.predict(x_train), \"true\":y_train})\n",
    "predicoes[\"residuos\"] = predicoes[\"true\"] - predicoes[\"predicoes\"]\n",
    "predicoes.plot(x = \"predicoes\", y = \"residuos\",kind = \"scatter\")"
   ]
  },
  {
   "cell_type": "markdown",
   "metadata": {},
   "source": [
    "## Otimizando hiperâmetros para Lasso"
   ]
  },
  {
   "cell_type": "code",
   "execution_count": null,
   "metadata": {
    "collapsed": true
   },
   "outputs": [],
   "source": [
    "model_lasso = LassoCV(alphas=[1.5, 0.01, 0.05, 0.005], max_iter=3000).fit(x_train, y_train)\n",
    "\n",
    "model_lasso"
   ]
  },
  {
   "cell_type": "code",
   "execution_count": null,
   "metadata": {
    "collapsed": true
   },
   "outputs": [],
   "source": [
    "model_lasso.alpha_"
   ]
  },
  {
   "cell_type": "code",
   "execution_count": null,
   "metadata": {
    "collapsed": true
   },
   "outputs": [],
   "source": [
    "calc_rmse(model_lasso, 5).mean()"
   ]
  },
  {
   "cell_type": "markdown",
   "metadata": {},
   "source": [
    "## Regressão não paramétrica com o KNN"
   ]
  },
  {
   "cell_type": "code",
   "execution_count": null,
   "metadata": {
    "collapsed": true
   },
   "outputs": [],
   "source": [
    "from sklearn.neighbors import KNeighborsRegressor"
   ]
  },
  {
   "cell_type": "code",
   "execution_count": null,
   "metadata": {
    "collapsed": true
   },
   "outputs": [],
   "source": [
    "model_knn = KNeighborsRegressor(n_neighbors=3).fit(x_train, y_train)"
   ]
  },
  {
   "cell_type": "code",
   "execution_count": null,
   "metadata": {
    "collapsed": true
   },
   "outputs": [],
   "source": [
    "y_pred_model_knn = model_knn.predict(x_test)"
   ]
  },
  {
   "cell_type": "code",
   "execution_count": null,
   "metadata": {
    "collapsed": true
   },
   "outputs": [],
   "source": [
    "model_knn_1.score(x_test, y_test)"
   ]
  },
  {
   "cell_type": "code",
   "execution_count": null,
   "metadata": {
    "collapsed": true
   },
   "outputs": [],
   "source": [
    "T = np.linspace(0, 5, 500)[:, np.newaxis]\n",
    "\n",
    "plt.scatter(x_test.sequencial_candidato, y_test, c='k', label='data')\n",
    "plt.plot(T, y_pred, c='g', label='prediction')\n",
    "plt.axis('tight')\n",
    "plt.legend()"
   ]
  },
  {
   "cell_type": "markdown",
   "metadata": {},
   "source": [
    "## Árvores de Regressão"
   ]
  },
  {
   "cell_type": "code",
   "execution_count": null,
   "metadata": {
    "collapsed": true
   },
   "outputs": [],
   "source": []
  },
  {
   "cell_type": "markdown",
   "metadata": {},
   "source": [
    "## Importando dados das eleições de 2014"
   ]
  },
  {
   "cell_type": "code",
   "execution_count": 171,
   "metadata": {},
   "outputs": [
    {
     "data": {
      "text/html": [
       "<div>\n",
       "<style>\n",
       "    .dataframe thead tr:only-child th {\n",
       "        text-align: right;\n",
       "    }\n",
       "\n",
       "    .dataframe thead th {\n",
       "        text-align: left;\n",
       "    }\n",
       "\n",
       "    .dataframe tbody tr th {\n",
       "        vertical-align: top;\n",
       "    }\n",
       "</style>\n",
       "<table border=\"1\" class=\"dataframe\">\n",
       "  <thead>\n",
       "    <tr style=\"text-align: right;\">\n",
       "      <th></th>\n",
       "      <th>ano</th>\n",
       "      <th>sq_candidato</th>\n",
       "      <th>nome_candidato</th>\n",
       "      <th>sigla_uf</th>\n",
       "      <th>sigla_partido</th>\n",
       "      <th>qtd_doacoes</th>\n",
       "      <th>qtd_doadores</th>\n",
       "      <th>total_receita</th>\n",
       "      <th>media_receita</th>\n",
       "      <th>recursos de outros candidatos/comitês</th>\n",
       "      <th>...</th>\n",
       "      <th>qtd_despesas</th>\n",
       "      <th>qtd_fornecedores</th>\n",
       "      <th>total_despesa</th>\n",
       "      <th>media_despesa</th>\n",
       "      <th>descricao_cargo</th>\n",
       "      <th>sexo</th>\n",
       "      <th>grau_instrucao</th>\n",
       "      <th>estado_civil</th>\n",
       "      <th>descricao_ocupacao</th>\n",
       "      <th>votos</th>\n",
       "    </tr>\n",
       "  </thead>\n",
       "  <tbody>\n",
       "    <tr>\n",
       "      <th>0</th>\n",
       "      <td>2014</td>\n",
       "      <td>10000000135</td>\n",
       "      <td>EMERSON DA SILVA SANTOS</td>\n",
       "      <td>AC</td>\n",
       "      <td>PSOL</td>\n",
       "      <td>3</td>\n",
       "      <td>3</td>\n",
       "      <td>1580.00</td>\n",
       "      <td>526.666667</td>\n",
       "      <td>NaN</td>\n",
       "      <td>...</td>\n",
       "      <td>3</td>\n",
       "      <td>3</td>\n",
       "      <td>1580.00</td>\n",
       "      <td>526.666667</td>\n",
       "      <td>DEPUTADO FEDERAL</td>\n",
       "      <td>MASCULINO</td>\n",
       "      <td>ENSINO MÉDIO COMPLETO</td>\n",
       "      <td>SOLTEIRO(A)</td>\n",
       "      <td>CORRETOR DE IMÓVEIS, SEGUROS, TÍTULOS E VALORES</td>\n",
       "      <td>37</td>\n",
       "    </tr>\n",
       "    <tr>\n",
       "      <th>1</th>\n",
       "      <td>2014</td>\n",
       "      <td>10000000142</td>\n",
       "      <td>GERALDO SILVA DOS SANTOS</td>\n",
       "      <td>AC</td>\n",
       "      <td>PSOL</td>\n",
       "      <td>5</td>\n",
       "      <td>5</td>\n",
       "      <td>3180.00</td>\n",
       "      <td>636.000000</td>\n",
       "      <td>NaN</td>\n",
       "      <td>...</td>\n",
       "      <td>6</td>\n",
       "      <td>5</td>\n",
       "      <td>3130.02</td>\n",
       "      <td>626.004000</td>\n",
       "      <td>DEPUTADO FEDERAL</td>\n",
       "      <td>MASCULINO</td>\n",
       "      <td>SUPERIOR COMPLETO</td>\n",
       "      <td>SOLTEIRO(A)</td>\n",
       "      <td>VIGILANTE</td>\n",
       "      <td>383</td>\n",
       "    </tr>\n",
       "    <tr>\n",
       "      <th>2</th>\n",
       "      <td>2014</td>\n",
       "      <td>10000000158</td>\n",
       "      <td>CARLOS CESAR CORREIA DE MESSIAS</td>\n",
       "      <td>AC</td>\n",
       "      <td>PSB</td>\n",
       "      <td>40</td>\n",
       "      <td>38</td>\n",
       "      <td>333293.13</td>\n",
       "      <td>8770.871842</td>\n",
       "      <td>1923.07</td>\n",
       "      <td>...</td>\n",
       "      <td>145</td>\n",
       "      <td>139</td>\n",
       "      <td>326869.78</td>\n",
       "      <td>2351.581151</td>\n",
       "      <td>DEPUTADO FEDERAL</td>\n",
       "      <td>MASCULINO</td>\n",
       "      <td>ENSINO FUNDAMENTAL INCOMPLETO</td>\n",
       "      <td>CASADO(A)</td>\n",
       "      <td>OUTROS</td>\n",
       "      <td>26448</td>\n",
       "    </tr>\n",
       "  </tbody>\n",
       "</table>\n",
       "<p>3 rows × 23 columns</p>\n",
       "</div>"
      ],
      "text/plain": [
       "    ano  sq_candidato                   nome_candidato sigla_uf sigla_partido  \\\n",
       "0  2014   10000000135          EMERSON DA SILVA SANTOS       AC          PSOL   \n",
       "1  2014   10000000142         GERALDO SILVA DOS SANTOS       AC          PSOL   \n",
       "2  2014   10000000158  CARLOS CESAR CORREIA DE MESSIAS       AC           PSB   \n",
       "\n",
       "   qtd_doacoes  qtd_doadores  total_receita  media_receita  \\\n",
       "0            3             3        1580.00     526.666667   \n",
       "1            5             5        3180.00     636.000000   \n",
       "2           40            38      333293.13    8770.871842   \n",
       "\n",
       "   recursos de outros candidatos/comitês  ...    qtd_despesas  \\\n",
       "0                                    NaN  ...               3   \n",
       "1                                    NaN  ...               6   \n",
       "2                                1923.07  ...             145   \n",
       "\n",
       "   qtd_fornecedores  total_despesa  media_despesa   descricao_cargo  \\\n",
       "0                 3        1580.00     526.666667  DEPUTADO FEDERAL   \n",
       "1                 5        3130.02     626.004000  DEPUTADO FEDERAL   \n",
       "2               139      326869.78    2351.581151  DEPUTADO FEDERAL   \n",
       "\n",
       "        sexo                 grau_instrucao estado_civil  \\\n",
       "0  MASCULINO          ENSINO MÉDIO COMPLETO  SOLTEIRO(A)   \n",
       "1  MASCULINO              SUPERIOR COMPLETO  SOLTEIRO(A)   \n",
       "2  MASCULINO  ENSINO FUNDAMENTAL INCOMPLETO    CASADO(A)   \n",
       "\n",
       "                                descricao_ocupacao  votos  \n",
       "0  CORRETOR DE IMÓVEIS, SEGUROS, TÍTULOS E VALORES     37  \n",
       "1                                        VIGILANTE    383  \n",
       "2                                           OUTROS  26448  \n",
       "\n",
       "[3 rows x 23 columns]"
      ]
     },
     "execution_count": 171,
     "metadata": {},
     "output_type": "execute_result"
    }
   ],
   "source": [
    "eleicoes_2014 = pd.read_csv('/home/lsp/dados/am/eleicoes_2014.csv')\n",
    "eleicoes_2014[:3]"
   ]
  },
  {
   "cell_type": "code",
   "execution_count": 172,
   "metadata": {
    "collapsed": true
   },
   "outputs": [],
   "source": [
    "numeric_features = eleicoes_2014.dtypes[eleicoes_2014.dtypes != \"object\"].index\n",
    "skewed_features = eleicoes_2014[numeric_features].apply(lambda x: x.dropna().skew())\n",
    "skewed_features = skewed_features[skewed_features > 0.75]\n",
    "skewed_features = skewed_features.index"
   ]
  },
  {
   "cell_type": "code",
   "execution_count": 173,
   "metadata": {},
   "outputs": [
    {
     "data": {
      "text/html": [
       "<div>\n",
       "<style>\n",
       "    .dataframe thead tr:only-child th {\n",
       "        text-align: right;\n",
       "    }\n",
       "\n",
       "    .dataframe thead th {\n",
       "        text-align: left;\n",
       "    }\n",
       "\n",
       "    .dataframe tbody tr th {\n",
       "        vertical-align: top;\n",
       "    }\n",
       "</style>\n",
       "<table border=\"1\" class=\"dataframe\">\n",
       "  <thead>\n",
       "    <tr style=\"text-align: right;\">\n",
       "      <th></th>\n",
       "      <th>ano</th>\n",
       "      <th>sq_candidato</th>\n",
       "      <th>qtd_doacoes</th>\n",
       "      <th>qtd_doadores</th>\n",
       "      <th>total_receita</th>\n",
       "      <th>media_receita</th>\n",
       "      <th>recursos de outros candidatos/comitês</th>\n",
       "      <th>recursos de pessoas físicas</th>\n",
       "      <th>recursos de pessoas jurídicas</th>\n",
       "      <th>recursos próprios</th>\n",
       "      <th>qtd_despesas</th>\n",
       "      <th>qtd_fornecedores</th>\n",
       "      <th>total_despesa</th>\n",
       "      <th>media_despesa</th>\n",
       "      <th>votos</th>\n",
       "    </tr>\n",
       "  </thead>\n",
       "  <tbody>\n",
       "    <tr>\n",
       "      <th>0</th>\n",
       "      <td>2014</td>\n",
       "      <td>10000000135</td>\n",
       "      <td>1.386294</td>\n",
       "      <td>1.386294</td>\n",
       "      <td>7.365813</td>\n",
       "      <td>6.268465</td>\n",
       "      <td>8.442226</td>\n",
       "      <td>7.313887</td>\n",
       "      <td>10.039024</td>\n",
       "      <td>8.505303</td>\n",
       "      <td>1.386294</td>\n",
       "      <td>1.386294</td>\n",
       "      <td>7.365813</td>\n",
       "      <td>6.268465</td>\n",
       "      <td>3.637586</td>\n",
       "    </tr>\n",
       "    <tr>\n",
       "      <th>1</th>\n",
       "      <td>2014</td>\n",
       "      <td>10000000142</td>\n",
       "      <td>1.791759</td>\n",
       "      <td>1.791759</td>\n",
       "      <td>8.064951</td>\n",
       "      <td>6.456770</td>\n",
       "      <td>8.442226</td>\n",
       "      <td>8.039480</td>\n",
       "      <td>10.039024</td>\n",
       "      <td>8.505303</td>\n",
       "      <td>1.945910</td>\n",
       "      <td>1.791759</td>\n",
       "      <td>8.049114</td>\n",
       "      <td>6.440953</td>\n",
       "      <td>5.950643</td>\n",
       "    </tr>\n",
       "    <tr>\n",
       "      <th>2</th>\n",
       "      <td>2014</td>\n",
       "      <td>10000000158</td>\n",
       "      <td>3.713572</td>\n",
       "      <td>3.663562</td>\n",
       "      <td>12.716781</td>\n",
       "      <td>9.079305</td>\n",
       "      <td>7.562198</td>\n",
       "      <td>11.092869</td>\n",
       "      <td>11.945818</td>\n",
       "      <td>11.652696</td>\n",
       "      <td>4.983607</td>\n",
       "      <td>4.941642</td>\n",
       "      <td>12.697320</td>\n",
       "      <td>7.763268</td>\n",
       "      <td>10.182974</td>\n",
       "    </tr>\n",
       "    <tr>\n",
       "      <th>3</th>\n",
       "      <td>2014</td>\n",
       "      <td>10000000161</td>\n",
       "      <td>3.401197</td>\n",
       "      <td>3.401197</td>\n",
       "      <td>11.962218</td>\n",
       "      <td>8.595101</td>\n",
       "      <td>10.574474</td>\n",
       "      <td>11.138739</td>\n",
       "      <td>9.741027</td>\n",
       "      <td>8.826758</td>\n",
       "      <td>4.919981</td>\n",
       "      <td>4.804021</td>\n",
       "      <td>12.392623</td>\n",
       "      <td>7.597330</td>\n",
       "      <td>9.199987</td>\n",
       "    </tr>\n",
       "    <tr>\n",
       "      <th>4</th>\n",
       "      <td>2014</td>\n",
       "      <td>10000000163</td>\n",
       "      <td>5.081404</td>\n",
       "      <td>4.990433</td>\n",
       "      <td>13.474546</td>\n",
       "      <td>8.491143</td>\n",
       "      <td>9.210440</td>\n",
       "      <td>12.757293</td>\n",
       "      <td>12.531776</td>\n",
       "      <td>11.264477</td>\n",
       "      <td>6.251904</td>\n",
       "      <td>5.872118</td>\n",
       "      <td>13.248824</td>\n",
       "      <td>7.380149</td>\n",
       "      <td>9.946403</td>\n",
       "    </tr>\n",
       "  </tbody>\n",
       "</table>\n",
       "</div>"
      ],
      "text/plain": [
       "    ano  sq_candidato  qtd_doacoes  qtd_doadores  total_receita  \\\n",
       "0  2014   10000000135     1.386294      1.386294       7.365813   \n",
       "1  2014   10000000142     1.791759      1.791759       8.064951   \n",
       "2  2014   10000000158     3.713572      3.663562      12.716781   \n",
       "3  2014   10000000161     3.401197      3.401197      11.962218   \n",
       "4  2014   10000000163     5.081404      4.990433      13.474546   \n",
       "\n",
       "   media_receita  recursos de outros candidatos/comitês  \\\n",
       "0       6.268465                               8.442226   \n",
       "1       6.456770                               8.442226   \n",
       "2       9.079305                               7.562198   \n",
       "3       8.595101                              10.574474   \n",
       "4       8.491143                               9.210440   \n",
       "\n",
       "   recursos de pessoas físicas  recursos de pessoas jurídicas  \\\n",
       "0                     7.313887                      10.039024   \n",
       "1                     8.039480                      10.039024   \n",
       "2                    11.092869                      11.945818   \n",
       "3                    11.138739                       9.741027   \n",
       "4                    12.757293                      12.531776   \n",
       "\n",
       "   recursos próprios  qtd_despesas  qtd_fornecedores  total_despesa  \\\n",
       "0           8.505303      1.386294          1.386294       7.365813   \n",
       "1           8.505303      1.945910          1.791759       8.049114   \n",
       "2          11.652696      4.983607          4.941642      12.697320   \n",
       "3           8.826758      4.919981          4.804021      12.392623   \n",
       "4          11.264477      6.251904          5.872118      13.248824   \n",
       "\n",
       "   media_despesa      votos  \n",
       "0       6.268465   3.637586  \n",
       "1       6.440953   5.950643  \n",
       "2       7.763268  10.182974  \n",
       "3       7.597330   9.199987  \n",
       "4       7.380149   9.946403  "
      ]
     },
     "execution_count": 173,
     "metadata": {},
     "output_type": "execute_result"
    }
   ],
   "source": [
    "eleicoes_2014[skewed_features] = np.log1p(eleicoes_2014[skewed_features])\n",
    "eleicoes_2014 = eleicoes_2014.fillna(eleicoes_2014.mean())\n",
    "eleicoes_2014[numeric_features][:5]"
   ]
  },
  {
   "cell_type": "code",
   "execution_count": 176,
   "metadata": {},
   "outputs": [
    {
     "data": {
      "text/plain": [
       "(7330, 7035)"
      ]
     },
     "execution_count": 176,
     "metadata": {},
     "output_type": "execute_result"
    }
   ],
   "source": [
    "eleicoes_2014 = pd.get_dummies(eleicoes)\n",
    "eleicoes_2014 = eleicoes_2014.drop(['sequencial_candidato', 'media_receita', 'media_despesa'], axis=1)\n",
    "eleicoes_2014.shape"
   ]
  },
  {
   "cell_type": "code",
   "execution_count": null,
   "metadata": {
    "collapsed": true
   },
   "outputs": [],
   "source": [
    "y_pred_model_reg_eleicao_2014 = m"
   ]
  },
  {
   "cell_type": "markdown",
   "metadata": {},
   "source": [
    "#### Retreino com 2006 e 2010"
   ]
  },
  {
   "cell_type": "code",
   "execution_count": null,
   "metadata": {
    "collapsed": true
   },
   "outputs": [],
   "source": []
  },
  {
   "cell_type": "markdown",
   "metadata": {},
   "source": [
    "## Dentre os modelos avaliados, qual foi o que deu o melhor resultado nos dados de 2014 em termos de RMSE? "
   ]
  },
  {
   "cell_type": "markdown",
   "metadata": {
    "collapsed": true
   },
   "source": [
    "Valores de RMSE:\n",
    "- Sem regularização: \n",
    "- Ridge: \n",
    "- Ridge otimizado: \n",
    "- Lasso: \n",
    "- Lasso Otimizado: \n",
    "- KNN: "
   ]
  },
  {
   "cell_type": "code",
   "execution_count": null,
   "metadata": {
    "collapsed": true
   },
   "outputs": [],
   "source": []
  }
 ],
 "metadata": {
  "kernelspec": {
   "display_name": "Python 3",
   "language": "python",
   "name": "python3"
  },
  "language_info": {
   "codemirror_mode": {
    "name": "ipython",
    "version": 3
   },
   "file_extension": ".py",
   "mimetype": "text/x-python",
   "name": "python",
   "nbconvert_exporter": "python",
   "pygments_lexer": "ipython3",
   "version": "3.6.3"
  }
 },
 "nbformat": 4,
 "nbformat_minor": 2
}
