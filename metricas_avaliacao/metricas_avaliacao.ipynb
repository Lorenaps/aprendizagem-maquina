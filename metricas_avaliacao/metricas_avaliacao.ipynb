{
 "cells": [
  {
   "cell_type": "markdown",
   "metadata": {},
   "source": [
    "# Métricas de Avaliação\n",
    "\n",
    "\n",
    "### Acurácia\n",
    "A acurácia é dada pelo número de previsões corretas sobre o total de previsões.\n",
    "\n",
    "### Precisão\n",
    "A precisão é o número de previsões corretas, para uma determinada classe, dividido pelo número total de previsões para aquela classe.\n",
    "\n",
    "### Recall\n",
    "Recall é o número de previsões corretas, para uma determinada classe, dividido pelo número de exemplos daquela classe.\n",
    "\n",
    "### F-score\n",
    "Uma média harmônica entre a precisão e o recall.\n",
    "\n",
    "### MSE - Mean Squared Error\n",
    "Média do quadrado dos resíduos (diferença entre valor real e valor previsto).\n",
    "\n",
    "### RMSE - Root Mean Squared Error\n",
    "Raiz quadrada do MSE, de forma que leva os valores a sua escala original.\n",
    " \n",
    "### AUC - Area Under the ROC Curve\n",
    "Métrica indicada para conjunto de dados com classes desproporcionais. É o resultado do calculo da área sob a curva formada pelo gráfico"
   ]
  },
  {
   "cell_type": "code",
   "execution_count": 1,
   "metadata": {},
   "outputs": [
    {
     "data": {
      "text/plain": [
       "array([ 0.35,  0.4 ,  0.8 ])"
      ]
     },
     "execution_count": 1,
     "metadata": {},
     "output_type": "execute_result"
    }
   ],
   "source": [
    "import numpy as np\n",
    "from sklearn.metrics import precision_recall_curve\n",
    "y_true = np.array([0, 0, 1, 1])\n",
    "y_scores = np.array([0.1, 0.4, 0.35, 0.8])\n",
    "precision, recall, thresholds = precision_recall_curve(\n",
    "    y_true, y_scores)\n",
    "precision  \n",
    "\n",
    "recall\n",
    "\n",
    "thresholds"
   ]
  },
  {
   "cell_type": "code",
   "execution_count": 2,
   "metadata": {},
   "outputs": [
    {
     "data": {
      "text/plain": [
       "0.75"
      ]
     },
     "execution_count": 2,
     "metadata": {},
     "output_type": "execute_result"
    }
   ],
   "source": [
    "import numpy as np\n",
    "from sklearn.metrics import roc_auc_score\n",
    "y_true = np.array([0, 0, 1, 1])\n",
    "y_scores = np.array([0.1, 0.4, 0.35, 0.8])\n",
    "roc_auc_score(y_true, y_scores)"
   ]
  }
 ],
 "metadata": {
  "kernelspec": {
   "display_name": "Python 3",
   "language": "python",
   "name": "python3"
  },
  "language_info": {
   "codemirror_mode": {
    "name": "ipython",
    "version": 3
   },
   "file_extension": ".py",
   "mimetype": "text/x-python",
   "name": "python",
   "nbconvert_exporter": "python",
   "pygments_lexer": "ipython3",
   "version": "3.6.3"
  }
 },
 "nbformat": 4,
 "nbformat_minor": 2
}
